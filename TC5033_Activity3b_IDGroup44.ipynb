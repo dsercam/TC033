{
  "cells": [
    {
      "cell_type": "markdown",
      "metadata": {
        "id": "view-in-github",
        "colab_type": "text"
      },
      "source": [
        "<a href=\"https://colab.research.google.com/github/dsercam/TC033/blob/main/TC5033_Activity3b_IDGroup44.ipynb\" target=\"_parent\"><img src=\"https://colab.research.google.com/assets/colab-badge.svg\" alt=\"Open In Colab\"/></a>"
      ]
    },
    {
      "cell_type": "markdown",
      "source": [
        "#<font color='darkorange'><b> TC 5033 :: Advanced Machine Learning Methods </b> </font>\n",
        "### <font color='darkgray'><b> Activity 2b: Building a CNN for *CIFAR10 Dataset* with PyTorch </b></font></br></br>\n",
        "###<font color='darkblue'><b>  Group 44 </b></font>\n",
        "***Dante Rodrigo Serna Camarillo A01182676***</br>\n"
      ],
      "metadata": {
        "id": "6lxC2s8pDjo2"
      },
      "id": "6lxC2s8pDjo2"
    },
    {
      "cell_type": "markdown",
      "source": [
        "<!--\n",
        "***Axel Alejandro Tlatoa Villavicencio A01363351***</br>\n",
        "***Carlos Roberto Torres Ferguson A01215432***</br>\n",
        "***Felipe de Jesús Gastélum Lizárraga A01114918***\n",
        "-->"
      ],
      "metadata": {
        "id": "dWvijwYZDpbi"
      },
      "id": "dWvijwYZDpbi"
    },
    {
      "cell_type": "markdown",
      "id": "940c6dbc",
      "metadata": {
        "id": "940c6dbc"
      },
      "source": [
        "## TC 5033\n",
        "### Word Embeddings\n",
        "\n",
        "<br>\n",
        "\n",
        "#### Activity 3b: Text Classification using RNNs and AG_NEWS dataset in PyTorch\n",
        "<br>\n",
        "\n",
        "- Objective:\n",
        "    - Understand the basics of Recurrent Neural Networks (RNNs) and their application in text classification.\n",
        "    - Learn how to handle a real-world text dataset, AG_NEWS, in PyTorch.\n",
        "    - Gain hands-on experience in defining, training, and evaluating a text classification model in PyTorch.\n",
        "    \n",
        "<br>\n",
        "\n",
        "- Instructions:\n",
        "    - Data Preparation: Starter code will be provided that loads the AG_NEWS dataset and prepares it for training. Do not modify this part. However, you should be sure to understand it, and comment it, the use of markdown cells is suggested.\n",
        "\n",
        "    - Model Setup: A skeleton code for the RNN model class will be provided. Complete this class and use it to instantiate your model.\n",
        "\n",
        "    - Implementing Accuracy Function: Write a function that takes model predictions and ground truth labels as input and returns the model's accuracy.\n",
        "\n",
        "    - Training Function: Implement a function that performs training on the given model using the AG_NEWS dataset. Your model should achieve an accuracy of at least 80% to get full marks for this part.\n",
        "\n",
        "    - Text Sampling: Write a function that takes a sample text as input and classifies it using your trained model.\n",
        "\n",
        "    - Confusion Matrix: Implement a function to display the confusion matrix for your model on the test data.\n",
        "\n",
        "    - Submission: Submit your completed Jupyter Notebook. Make sure to include a markdown cell at the beginning of the notebook that lists the names of all team members. Teams should consist of 3 to 4 members.\n",
        "    \n",
        "<br>\n",
        "\n",
        "- Evaluation Criteria:\n",
        "\n",
        "    - Correct setup of all the required libraries and modules (10%)\n",
        "    - Code Quality (30%): Your code should be well-organized, clearly commented, and easy to follow. Use also markdown cells for clarity. Comments should be given for all the provided code, this will help you understand its functionality.\n",
        "    \n",
        "   - Functionality (60%):\n",
        "        - All the functions should execute without errors and provide the expected outputs.\n",
        "        - RNN model class (20%)\n",
        "        - Accuracy fucntion (10%)\n",
        "        - Training function (10%)\n",
        "        - Sampling function (10%)\n",
        "        - Confucion matrix (10%)\n",
        "\n",
        "        - The model should achieve at least an 80% accuracy on the AG_NEWS test set for full marks in this criterion.\n"
      ]
    },
    {
      "cell_type": "markdown",
      "id": "4de318da",
      "metadata": {
        "id": "4de318da"
      },
      "source": [
        "Dataset\n",
        "\n",
        "https://pytorch.org/text/stable/datasets.html#text-classification\n",
        "\n",
        "https://paperswithcode.com/dataset/ag-news\n"
      ]
    },
    {
      "cell_type": "markdown",
      "id": "4a9801f9",
      "metadata": {
        "id": "4a9801f9"
      },
      "source": [
        "### <font color=\"darkblue\"> **Import libraries** </font>"
      ]
    },
    {
      "cell_type": "code",
      "execution_count": null,
      "id": "54394f53",
      "metadata": {
        "id": "54394f53"
      },
      "outputs": [],
      "source": [
        "# conda install -c pytorch torchtext\n",
        "# conda install -c pytorch torchdata\n",
        "# conda install pytorch torchvision torchaudio cudatoolkit=10.2 -c pytorch"
      ]
    },
    {
      "cell_type": "markdown",
      "source": [
        "\n",
        "\n",
        "*   List item\n",
        "*   List item\n",
        "\n",
        "\n",
        "> <font color='darkorange'> We install all the required modules </font>\n"
      ],
      "metadata": {
        "id": "xxSR7K_1D2hK"
      },
      "id": "xxSR7K_1D2hK"
    },
    {
      "cell_type": "code",
      "source": [
        "!pip install scikit-plot\n",
        "!pip install torchdata\n",
        "!pip install tokenizers\n",
        "!pip install portalocker"
      ],
      "metadata": {
        "id": "3pSkaEAhOFAM",
        "outputId": "7702f71d-ab9c-4138-f41a-46e4f161a702",
        "colab": {
          "base_uri": "https://localhost:8080/"
        }
      },
      "id": "3pSkaEAhOFAM",
      "execution_count": 1,
      "outputs": [
        {
          "output_type": "stream",
          "name": "stdout",
          "text": [
            "Collecting scikit-plot\n",
            "  Downloading scikit_plot-0.3.7-py3-none-any.whl (33 kB)\n",
            "Requirement already satisfied: matplotlib>=1.4.0 in /usr/local/lib/python3.10/dist-packages (from scikit-plot) (3.7.1)\n",
            "Requirement already satisfied: scikit-learn>=0.18 in /usr/local/lib/python3.10/dist-packages (from scikit-plot) (1.2.2)\n",
            "Requirement already satisfied: scipy>=0.9 in /usr/local/lib/python3.10/dist-packages (from scikit-plot) (1.11.3)\n",
            "Requirement already satisfied: joblib>=0.10 in /usr/local/lib/python3.10/dist-packages (from scikit-plot) (1.3.2)\n",
            "Requirement already satisfied: contourpy>=1.0.1 in /usr/local/lib/python3.10/dist-packages (from matplotlib>=1.4.0->scikit-plot) (1.2.0)\n",
            "Requirement already satisfied: cycler>=0.10 in /usr/local/lib/python3.10/dist-packages (from matplotlib>=1.4.0->scikit-plot) (0.12.1)\n",
            "Requirement already satisfied: fonttools>=4.22.0 in /usr/local/lib/python3.10/dist-packages (from matplotlib>=1.4.0->scikit-plot) (4.44.0)\n",
            "Requirement already satisfied: kiwisolver>=1.0.1 in /usr/local/lib/python3.10/dist-packages (from matplotlib>=1.4.0->scikit-plot) (1.4.5)\n",
            "Requirement already satisfied: numpy>=1.20 in /usr/local/lib/python3.10/dist-packages (from matplotlib>=1.4.0->scikit-plot) (1.23.5)\n",
            "Requirement already satisfied: packaging>=20.0 in /usr/local/lib/python3.10/dist-packages (from matplotlib>=1.4.0->scikit-plot) (23.2)\n",
            "Requirement already satisfied: pillow>=6.2.0 in /usr/local/lib/python3.10/dist-packages (from matplotlib>=1.4.0->scikit-plot) (9.4.0)\n",
            "Requirement already satisfied: pyparsing>=2.3.1 in /usr/local/lib/python3.10/dist-packages (from matplotlib>=1.4.0->scikit-plot) (3.1.1)\n",
            "Requirement already satisfied: python-dateutil>=2.7 in /usr/local/lib/python3.10/dist-packages (from matplotlib>=1.4.0->scikit-plot) (2.8.2)\n",
            "Requirement already satisfied: threadpoolctl>=2.0.0 in /usr/local/lib/python3.10/dist-packages (from scikit-learn>=0.18->scikit-plot) (3.2.0)\n",
            "Requirement already satisfied: six>=1.5 in /usr/local/lib/python3.10/dist-packages (from python-dateutil>=2.7->matplotlib>=1.4.0->scikit-plot) (1.16.0)\n",
            "Installing collected packages: scikit-plot\n",
            "Successfully installed scikit-plot-0.3.7\n",
            "Requirement already satisfied: torchdata in /usr/local/lib/python3.10/dist-packages (0.7.0)\n",
            "Requirement already satisfied: urllib3>=1.25 in /usr/local/lib/python3.10/dist-packages (from torchdata) (2.0.7)\n",
            "Requirement already satisfied: requests in /usr/local/lib/python3.10/dist-packages (from torchdata) (2.31.0)\n",
            "Requirement already satisfied: torch==2.1.0 in /usr/local/lib/python3.10/dist-packages (from torchdata) (2.1.0+cu118)\n",
            "Requirement already satisfied: filelock in /usr/local/lib/python3.10/dist-packages (from torch==2.1.0->torchdata) (3.13.1)\n",
            "Requirement already satisfied: typing-extensions in /usr/local/lib/python3.10/dist-packages (from torch==2.1.0->torchdata) (4.5.0)\n",
            "Requirement already satisfied: sympy in /usr/local/lib/python3.10/dist-packages (from torch==2.1.0->torchdata) (1.12)\n",
            "Requirement already satisfied: networkx in /usr/local/lib/python3.10/dist-packages (from torch==2.1.0->torchdata) (3.2.1)\n",
            "Requirement already satisfied: jinja2 in /usr/local/lib/python3.10/dist-packages (from torch==2.1.0->torchdata) (3.1.2)\n",
            "Requirement already satisfied: fsspec in /usr/local/lib/python3.10/dist-packages (from torch==2.1.0->torchdata) (2023.6.0)\n",
            "Requirement already satisfied: triton==2.1.0 in /usr/local/lib/python3.10/dist-packages (from torch==2.1.0->torchdata) (2.1.0)\n",
            "Requirement already satisfied: charset-normalizer<4,>=2 in /usr/local/lib/python3.10/dist-packages (from requests->torchdata) (3.3.2)\n",
            "Requirement already satisfied: idna<4,>=2.5 in /usr/local/lib/python3.10/dist-packages (from requests->torchdata) (3.4)\n",
            "Requirement already satisfied: certifi>=2017.4.17 in /usr/local/lib/python3.10/dist-packages (from requests->torchdata) (2023.7.22)\n",
            "Requirement already satisfied: MarkupSafe>=2.0 in /usr/local/lib/python3.10/dist-packages (from jinja2->torch==2.1.0->torchdata) (2.1.3)\n",
            "Requirement already satisfied: mpmath>=0.19 in /usr/local/lib/python3.10/dist-packages (from sympy->torch==2.1.0->torchdata) (1.3.0)\n",
            "Collecting tokenizers\n",
            "  Downloading tokenizers-0.14.1-cp310-cp310-manylinux_2_17_x86_64.manylinux2014_x86_64.whl (3.8 MB)\n",
            "\u001b[2K     \u001b[90m━━━━━━━━━━━━━━━━━━━━━━━━━━━━━━━━━━━━━━━━\u001b[0m \u001b[32m3.8/3.8 MB\u001b[0m \u001b[31m12.0 MB/s\u001b[0m eta \u001b[36m0:00:00\u001b[0m\n",
            "\u001b[?25hCollecting huggingface_hub<0.18,>=0.16.4 (from tokenizers)\n",
            "  Downloading huggingface_hub-0.17.3-py3-none-any.whl (295 kB)\n",
            "\u001b[2K     \u001b[90m━━━━━━━━━━━━━━━━━━━━━━━━━━━━━━━━━━━━━━━━\u001b[0m \u001b[32m295.0/295.0 kB\u001b[0m \u001b[31m20.7 MB/s\u001b[0m eta \u001b[36m0:00:00\u001b[0m\n",
            "\u001b[?25hRequirement already satisfied: filelock in /usr/local/lib/python3.10/dist-packages (from huggingface_hub<0.18,>=0.16.4->tokenizers) (3.13.1)\n",
            "Requirement already satisfied: fsspec in /usr/local/lib/python3.10/dist-packages (from huggingface_hub<0.18,>=0.16.4->tokenizers) (2023.6.0)\n",
            "Requirement already satisfied: requests in /usr/local/lib/python3.10/dist-packages (from huggingface_hub<0.18,>=0.16.4->tokenizers) (2.31.0)\n",
            "Requirement already satisfied: tqdm>=4.42.1 in /usr/local/lib/python3.10/dist-packages (from huggingface_hub<0.18,>=0.16.4->tokenizers) (4.66.1)\n",
            "Requirement already satisfied: pyyaml>=5.1 in /usr/local/lib/python3.10/dist-packages (from huggingface_hub<0.18,>=0.16.4->tokenizers) (6.0.1)\n",
            "Requirement already satisfied: typing-extensions>=3.7.4.3 in /usr/local/lib/python3.10/dist-packages (from huggingface_hub<0.18,>=0.16.4->tokenizers) (4.5.0)\n",
            "Requirement already satisfied: packaging>=20.9 in /usr/local/lib/python3.10/dist-packages (from huggingface_hub<0.18,>=0.16.4->tokenizers) (23.2)\n",
            "Requirement already satisfied: charset-normalizer<4,>=2 in /usr/local/lib/python3.10/dist-packages (from requests->huggingface_hub<0.18,>=0.16.4->tokenizers) (3.3.2)\n",
            "Requirement already satisfied: idna<4,>=2.5 in /usr/local/lib/python3.10/dist-packages (from requests->huggingface_hub<0.18,>=0.16.4->tokenizers) (3.4)\n",
            "Requirement already satisfied: urllib3<3,>=1.21.1 in /usr/local/lib/python3.10/dist-packages (from requests->huggingface_hub<0.18,>=0.16.4->tokenizers) (2.0.7)\n",
            "Requirement already satisfied: certifi>=2017.4.17 in /usr/local/lib/python3.10/dist-packages (from requests->huggingface_hub<0.18,>=0.16.4->tokenizers) (2023.7.22)\n",
            "Installing collected packages: huggingface_hub, tokenizers\n",
            "Successfully installed huggingface_hub-0.17.3 tokenizers-0.14.1\n",
            "Collecting portalocker\n",
            "  Downloading portalocker-2.8.2-py3-none-any.whl (17 kB)\n",
            "Installing collected packages: portalocker\n",
            "Successfully installed portalocker-2.8.2\n"
          ]
        }
      ]
    },
    {
      "cell_type": "code",
      "execution_count": 2,
      "id": "878b524f",
      "metadata": {
        "id": "878b524f"
      },
      "outputs": [],
      "source": [
        "# The following libraries are required for running the given code\n",
        "# Please feel free to add any libraries you consider adecuate to complete the assingment.\n",
        "import numpy as np\n",
        "import portalocker\n",
        "#PyTorch libraries\n",
        "import torch\n",
        "from torchtext.datasets import AG_NEWS\n",
        "# Dataloader library\n",
        "from torch.utils.data import DataLoader\n",
        "from torch.utils.data.dataset import random_split\n",
        "# Libraries to prepare the data\n",
        "from torchtext.data.utils import get_tokenizer\n",
        "from torchtext.vocab import build_vocab_from_iterator\n",
        "from torchtext.data.functional import to_map_style_dataset\n",
        "# neural layers\n",
        "from torch import nn\n",
        "from torch.nn import functional as F\n",
        "\n",
        "# These libraries are suggested to plot confusion matrix\n",
        "# you may use others\n",
        "import scikitplot as skplt\n",
        "import matplotlib.pyplot as plt #colored confusion matrix\n",
        "import gc\n",
        "\n",
        "from torch.optim import Adam\n",
        "#import accuracy_score function, one for a classification report to test our test set, and confusion_matrix\n",
        "from sklearn.metrics import accuracy_score, classification_report, confusion_matrix\n"
      ]
    },
    {
      "cell_type": "code",
      "execution_count": 3,
      "id": "3bab55f3",
      "metadata": {
        "id": "3bab55f3",
        "colab": {
          "base_uri": "https://localhost:8080/"
        },
        "outputId": "4905d297-3b29-46a3-97ff-ad7e8a5db150"
      },
      "outputs": [
        {
          "output_type": "stream",
          "name": "stdout",
          "text": [
            "cuda\n"
          ]
        }
      ],
      "source": [
        "# Use GPU if available\n",
        "device = torch.device(\"cuda\" if torch.cuda.is_available() else \"cpu\")\n",
        "print(device)"
      ]
    },
    {
      "cell_type": "markdown",
      "id": "3d38956d",
      "metadata": {
        "id": "3d38956d"
      },
      "source": [
        "### <font color=\"darkblue\"> **1.Get the train and the test datasets and dataloaders** </font>"
      ]
    },
    {
      "cell_type": "markdown",
      "id": "e9c6b784",
      "metadata": {
        "id": "e9c6b784"
      },
      "source": [
        "Classes:\n",
        "\n",
        "* 1 - World\n",
        "\n",
        "* 2 - Sports\n",
        "\n",
        "* 3 - Business\n",
        "\n",
        "* 4 - Sci/Tech\n",
        "\n",
        "We will convert them to:\n",
        "\n",
        "* 0 - World\n",
        "\n",
        "* 1 - Sports\n",
        "\n",
        "* 2 - Business\n",
        "\n",
        "* 3 - Sci/Tech"
      ]
    },
    {
      "cell_type": "markdown",
      "source": [
        "\n",
        "\n",
        "> <font color='darkblue'> Loading the AG_NEWS() set. </font>"
      ],
      "metadata": {
        "id": "O9rkeTI2FngW"
      },
      "id": "O9rkeTI2FngW"
    },
    {
      "cell_type": "code",
      "execution_count": 4,
      "id": "49fbed19",
      "metadata": {
        "id": "49fbed19"
      },
      "outputs": [],
      "source": [
        "#note that the AG_NEWS() method returns two data sets, the first one referes to the training set and the second one to the test data set\n",
        "train_dataset, test_dataset = AG_NEWS()\n",
        "train_dataset, test_dataset = to_map_style_dataset(train_dataset), to_map_style_dataset(test_dataset)"
      ]
    },
    {
      "cell_type": "markdown",
      "source": [
        "\n",
        "> <font color='darkblue'> Note that the training set has a size of 120,000 and the test set of 7,600 </font>"
      ],
      "metadata": {
        "id": "AvWo6ytlGKCa"
      },
      "id": "AvWo6ytlGKCa"
    },
    {
      "cell_type": "code",
      "source": [
        "print(len(train_dataset), len(test_dataset))"
      ],
      "metadata": {
        "colab": {
          "base_uri": "https://localhost:8080/"
        },
        "id": "kAq1W8e0GDh8",
        "outputId": "268a49c3-4a69-479a-d44c-5bf9309b1328"
      },
      "id": "kAq1W8e0GDh8",
      "execution_count": 5,
      "outputs": [
        {
          "output_type": "stream",
          "name": "stdout",
          "text": [
            "120000 7600\n"
          ]
        }
      ]
    },
    {
      "cell_type": "markdown",
      "source": [
        "\n",
        "> <font color='darkblue'> Define our tokeniser function </font>"
      ],
      "metadata": {
        "id": "egTszodnGXPz"
      },
      "id": "egTszodnGXPz"
    },
    {
      "cell_type": "code",
      "execution_count": 6,
      "id": "9c372eb9",
      "metadata": {
        "id": "9c372eb9"
      },
      "outputs": [],
      "source": [
        "# Get the tokeniser\n",
        "# tokeniser object\n",
        "tokeniser = get_tokenizer('basic_english')\n",
        "\n",
        "def yield_tokens(data):\n",
        "    for _, text in data:\n",
        "        yield tokeniser(text)"
      ]
    },
    {
      "cell_type": "markdown",
      "source": [
        "\n",
        "> <font color='darkblue'> Build our vocubalary using the tokens found in our training data set. </font><br>\n",
        "> <font color='darkblue'> Add a token for any unknown/non-matching value. Set it as \\<unk>. </font>"
      ],
      "metadata": {
        "id": "0JugkW5NGep9"
      },
      "id": "0JugkW5NGep9"
    },
    {
      "cell_type": "code",
      "execution_count": 7,
      "id": "794d0375",
      "metadata": {
        "id": "794d0375"
      },
      "outputs": [],
      "source": [
        "# Build the vocabulary\n",
        "vocab = build_vocab_from_iterator(yield_tokens(train_dataset), specials=[\"<unk>\"])\n",
        "#set unknown token at position 0\n",
        "vocab.set_default_index(vocab[\"<unk>\"])"
      ]
    },
    {
      "cell_type": "markdown",
      "source": [
        "\n",
        "> <font color='darkblue'> Length of our vocabulary is 95,811 tokens </font>"
      ],
      "metadata": {
        "id": "jhlh_SHCHCAz"
      },
      "id": "jhlh_SHCHCAz"
    },
    {
      "cell_type": "code",
      "source": [
        "len(vocab)"
      ],
      "metadata": {
        "colab": {
          "base_uri": "https://localhost:8080/"
        },
        "id": "f3nNIJ17va7-",
        "outputId": "5f3069b9-b1c5-40aa-b9cb-56cc05e1a4b0"
      },
      "id": "f3nNIJ17va7-",
      "execution_count": 8,
      "outputs": [
        {
          "output_type": "execute_result",
          "data": {
            "text/plain": [
              "95811"
            ]
          },
          "metadata": {},
          "execution_count": 8
        }
      ]
    },
    {
      "cell_type": "markdown",
      "source": [
        "\n",
        "> <font color='darkblue'> Lets see how this works: </font><br>\n",
        ">> We use a sample text or phrase <br>\n",
        ">> We tokenize our text using the _tokeniser_ function <br>\n",
        ">> we can refer to the value of each of our phrasse _tokens_ in our _vocabulary_ <br>\n",
        ">> NOTE! See how an unfamiliar/non matching value in our _vocab_ is match to the unkown vocab."
      ],
      "metadata": {
        "id": "jWGyPZzYHQdB"
      },
      "id": "jWGyPZzYHQdB"
    },
    {
      "cell_type": "code",
      "execution_count": 9,
      "id": "b48268d4",
      "metadata": {
        "id": "b48268d4",
        "colab": {
          "base_uri": "https://localhost:8080/"
        },
        "outputId": "64ee0533-f3d7-463d-a4ae-86a5ea3cd884"
      },
      "outputs": [
        {
          "output_type": "stream",
          "name": "stdout",
          "text": [
            "['welcome', 'to', 'te3007'] [3314, 4, 0]\n"
          ]
        }
      ],
      "source": [
        "#test tokens\n",
        "tokens = tokeniser('Welcome to TE3007')\n",
        "\n",
        "print(tokens, vocab(tokens)) #these are the references/indexes of each one of our tokens\n",
        "#See how TE3007 which was an unknown token, is mapped to the the unkown entry on our vocab (we set it at index 0 in the last code section)"
      ]
    },
    {
      "cell_type": "markdown",
      "source": [
        "\n",
        "> <font color='darkblue'> Lets build a validation set, whe are going to build it to a 90-10 proportion using our training data set. </font>"
      ],
      "metadata": {
        "id": "U0d3DOqaIaWi"
      },
      "id": "U0d3DOqaIaWi"
    },
    {
      "cell_type": "code",
      "execution_count": 10,
      "id": "c8c8f6a6",
      "metadata": {
        "id": "c8c8f6a6"
      },
      "outputs": [],
      "source": [
        "NUM_TRAIN = int(len(train_dataset)*0.9) # 90 percent\n",
        "NUM_VAL = len(train_dataset) - NUM_TRAIN # 10 percent"
      ]
    },
    {
      "cell_type": "markdown",
      "source": [
        "### <font color=\"darkblue\"> **1.1 Final build of our training, test and validation sets** </font>"
      ],
      "metadata": {
        "id": "lE_3G2gvJWML"
      },
      "id": "lE_3G2gvJWML"
    },
    {
      "cell_type": "markdown",
      "source": [
        "\n",
        "> <font color='darkblue'> Get our validation set using a random split of our training set. </font>"
      ],
      "metadata": {
        "id": "yt7gahVYIvIs"
      },
      "id": "yt7gahVYIvIs"
    },
    {
      "cell_type": "code",
      "execution_count": 11,
      "id": "8290895e",
      "metadata": {
        "id": "8290895e"
      },
      "outputs": [],
      "source": [
        "train_dataset, val_dataset = random_split(train_dataset, [NUM_TRAIN, NUM_VAL])\n"
      ]
    },
    {
      "cell_type": "markdown",
      "source": [
        "\n",
        "> <font color='darkblue'> Final sizes of our data sets. </font>"
      ],
      "metadata": {
        "id": "d4gY9avdI5zW"
      },
      "id": "d4gY9avdI5zW"
    },
    {
      "cell_type": "code",
      "execution_count": 12,
      "id": "cbc75b54",
      "metadata": {
        "id": "cbc75b54",
        "colab": {
          "base_uri": "https://localhost:8080/"
        },
        "outputId": "6e6edafe-1764-417c-f53b-7fc84ec463ca"
      },
      "outputs": [
        {
          "output_type": "stream",
          "name": "stdout",
          "text": [
            "108000 12000 7600\n"
          ]
        }
      ],
      "source": [
        "print(len(train_dataset), len(val_dataset), len(test_dataset))"
      ]
    },
    {
      "cell_type": "markdown",
      "source": [
        "### <font color=\"darkblue\"> **2. build our collate funciton for our batches** </font>"
      ],
      "metadata": {
        "id": "mUu8qs5ZJeDc"
      },
      "id": "mUu8qs5ZJeDc"
    },
    {
      "cell_type": "markdown",
      "source": [
        "> Updated the max_tokens value from 25 to 50, this gave better accuracy result."
      ],
      "metadata": {
        "id": "Ce1QKnB5bA7R"
      },
      "id": "Ce1QKnB5bA7R"
    },
    {
      "cell_type": "code",
      "source": [
        "# function passed to the DataLoader to process a batch of data as indicated\n",
        "def collate_batch(batch,max_tokens=50):\n",
        "    # Get label and text\n",
        "    y, x = list(zip(*batch))\n",
        "\n",
        "    # Create list with indices from tokeniser\n",
        "    x = [vocab(tokeniser(text)) for text in x]\n",
        "    x = [t + ([0]*(max_tokens - len(t))) if len(t) < max_tokens else t[:max_tokens] for t in x]\n",
        "\n",
        "    # Prepare the labels, by subtracting 1 to get them in the range 0-3\n",
        "    return torch.tensor(x, dtype=torch.int32), torch.tensor(y, dtype=torch.int32) - 1"
      ],
      "metadata": {
        "id": "cHeRr3-ap8l2"
      },
      "id": "cHeRr3-ap8l2",
      "execution_count": 13,
      "outputs": []
    },
    {
      "cell_type": "code",
      "execution_count": 14,
      "id": "5eb459c7",
      "metadata": {
        "id": "5eb459c7"
      },
      "outputs": [],
      "source": [
        "labels =  [\"World\", \"Sports\", \"Business\", \"Sci/Tech\"]\n",
        "#max_tokens = 50 #already defined and defaulted it to 50\n",
        "BATCH_SIZE = 256"
      ]
    },
    {
      "cell_type": "markdown",
      "source": [
        "> The sets are finalized as iterable DataLoaders, we use our collate function."
      ],
      "metadata": {
        "id": "1NmXm76nbVCf"
      },
      "id": "1NmXm76nbVCf"
    },
    {
      "cell_type": "code",
      "execution_count": 15,
      "id": "0a55e6ee",
      "metadata": {
        "id": "0a55e6ee"
      },
      "outputs": [],
      "source": [
        "train_loader = DataLoader(train_dataset, batch_size=BATCH_SIZE, collate_fn=collate_batch, shuffle = True)\n",
        "val_loader = DataLoader(val_dataset, batch_size=BATCH_SIZE, collate_fn=collate_batch, shuffle = True)\n",
        "test_loader = DataLoader(test_dataset, batch_size=BATCH_SIZE, collate_fn=collate_batch, shuffle = True)"
      ]
    },
    {
      "cell_type": "markdown",
      "id": "47b98898",
      "metadata": {
        "id": "47b98898"
      },
      "source": [
        "### <font color=\"darkblue\"> **3. Let us build our RNN model** </font>###"
      ]
    },
    {
      "cell_type": "markdown",
      "source": [
        "> Architecture with 3 layers </br>\n",
        "\n",
        ">>> _Embeddings layer_ </br>\n",
        ">>> _RNN layer_ </br>\n",
        ">>> _Linear layer_ </br>\n",
        "\n"
      ],
      "metadata": {
        "id": "e-ADBk_Jb2Sa"
      },
      "id": "e-ADBk_Jb2Sa"
    },
    {
      "cell_type": "code",
      "execution_count": 18,
      "id": "0f7f5621",
      "metadata": {
        "id": "0f7f5621"
      },
      "outputs": [],
      "source": [
        "EMBEDDING_SIZE = 25\n",
        "NEURONS = 50\n",
        "LAYERS = 1\n",
        "NUM_CLASSES = 4\n",
        "\n",
        "class RNN_Model_1(nn.Module):\n",
        "    def __init__(self, embed_size, hidden, layers, num_classes):\n",
        "        super().__init__()\n",
        "        #defined by the length of our vocabulary, with an embedding size of 50 each\n",
        "        self.embedding_layer = nn.Embedding(num_embeddings=len(vocab), embedding_dim=embed_size)\n",
        "\n",
        "        #Chose nn.RNN to implement this.\n",
        "        self.rnn = nn.RNN(input_size=embed_size, hidden_size=hidden, num_layers=layers, batch_first=True)\n",
        "\n",
        "        # created a linear layer for output [sized hidden layers X number of classes (4)]\n",
        "        self.fc = nn.Linear(hidden, num_classes)\n",
        "\n",
        "    def forward(self, x):\n",
        "        embeddings = self.embedding_layer(x)\n",
        "        output, hid   = self.rnn(embeddings, torch.randn(LAYERS, len(x), NEURONS))\n",
        "        return self.fc(output[:,-1])"
      ]
    },
    {
      "cell_type": "markdown",
      "source": [
        "> Instantiate our model with the selcted values"
      ],
      "metadata": {
        "id": "MDU93ZL_dMlY"
      },
      "id": "MDU93ZL_dMlY"
    },
    {
      "cell_type": "code",
      "source": [
        "rnn = RNN_Model_1(EMBEDDING_SIZE, NEURONS, LAYERS, NUM_CLASSES)\n",
        "rnn"
      ],
      "metadata": {
        "colab": {
          "base_uri": "https://localhost:8080/"
        },
        "id": "SRr5CwsOuUuh",
        "outputId": "89a22d69-b34a-4895-d739-edcd793f820d"
      },
      "id": "SRr5CwsOuUuh",
      "execution_count": 19,
      "outputs": [
        {
          "output_type": "execute_result",
          "data": {
            "text/plain": [
              "RNN_Model_1(\n",
              "  (embedding_layer): Embedding(95811, 25)\n",
              "  (rnn): RNN(25, 50, batch_first=True)\n",
              "  (fc): Linear(in_features=50, out_features=4, bias=True)\n",
              ")"
            ]
          },
          "metadata": {},
          "execution_count": 19
        }
      ]
    },
    {
      "cell_type": "markdown",
      "source": [
        "### <font color=\"darkblue\"> **4. Accuracy method** </font>###\n",
        "\n",
        "> Two parametes, our model and the data loader."
      ],
      "metadata": {
        "id": "SQ1ua3mVdXpp"
      },
      "id": "SQ1ua3mVdXpp"
    },
    {
      "cell_type": "code",
      "source": [
        "def accuracy(model, loader):\n",
        "    #no cummulative gradient\n",
        "    with torch.no_grad():\n",
        "      Yreal = []\n",
        "      Yhat = []\n",
        "      # x, data; y, predictions\n",
        "      # we use our validation data loader to calculate the accuracy\n",
        "      for X, Y in val_loader:\n",
        "            preds = model(X) # predicitons of the model\n",
        "            Yreal.append(Y) # collect real values\n",
        "            Yhat.append(preds.argmax(dim=-1)) # collect predictions\n",
        "\n",
        "      Yreal = torch.cat(Yreal) #concatenate tensors\n",
        "      Yhat = torch.cat(Yhat) #concatenate tensors\n",
        "      # use the sklearn accuracy fucntion to cualcualte accuracy using predicitons vs actual classification.\n",
        "      print(\"Accuracy :: {:.3f}\".format(accuracy_score(Yreal.detach().numpy(), Yhat.detach().numpy())))\n",
        "\n"
      ],
      "metadata": {
        "id": "sywaOojC2cic"
      },
      "id": "sywaOojC2cic",
      "execution_count": 22,
      "outputs": []
    },
    {
      "cell_type": "markdown",
      "source": [
        "### <font color=\"darkblue\"> **5. Training method** </font>###\n",
        "\n",
        "> Two parametes, our model and the data loader."
      ],
      "metadata": {
        "id": "BPQm6tdadZOs"
      },
      "id": "BPQm6tdadZOs"
    },
    {
      "cell_type": "code",
      "source": [
        "def train(model, optimiser, epochs=100):\n",
        "    #use cross entropy to calculate loss\n",
        "    lossFunction = nn.CrossEntropyLoss()\n",
        "    for i in range(1, epochs+1):\n",
        "        print(\"Epoch #\",i)\n",
        "        losses = []\n",
        "        #Train using our train data loader\n",
        "        for X, Y in train_loader:\n",
        "            Y = Y.type(torch.LongTensor) #cast to long tensor to avoid runtime error\n",
        "            X = X.type(torch.LongTensor) #cast to long tensor to avoid runtime error\n",
        "\n",
        "            Yhat = model(X)\n",
        "            #track loss\n",
        "            loss = lossFunction(Yhat, Y)\n",
        "            losses.append(loss.item())\n",
        "            #reste gradient calulcation\n",
        "            optimizer.zero_grad()\n",
        "            loss.backward()\n",
        "            optimizer.step()\n",
        "\n",
        "        print(\"Training Loss as :: {:.2f}\".format(torch.tensor(losses).mean()))\n",
        "        #calculate the accuracy of the trained modal against our validation data loader\n",
        "        accuracy(model, val_loader)\n"
      ],
      "metadata": {
        "id": "u0BL9BQf2cYq"
      },
      "id": "u0BL9BQf2cYq",
      "execution_count": 23,
      "outputs": []
    },
    {
      "cell_type": "markdown",
      "source": [
        "### <font color=\"darkblue\"> **6. Training Stage** </font>###\n",
        "\n",
        "> Train for 15 epochs </br>\n",
        "> Defined learning rate as 1e-3 </br>\n",
        "> use an Adam optimizer </br>"
      ],
      "metadata": {
        "id": "UTr91CregeUc"
      },
      "id": "UTr91CregeUc"
    },
    {
      "cell_type": "code",
      "source": [
        "EPOCHS = 15\n",
        "LEARNING_RATE = 1e-3\n",
        "\n",
        "# Instantiate our Adam optimizer, set defined learning rate\n",
        "optimizer = Adam(rnn.parameters(), lr=LEARNING_RATE)\n",
        "\n",
        "#train our RNN model, using our adam optimizer for 15 epochs\n",
        "train(rnn, optimizer, EPOCHS)"
      ],
      "metadata": {
        "colab": {
          "base_uri": "https://localhost:8080/"
        },
        "id": "Jb0GAOt-4MgX",
        "outputId": "98774af4-de15-4d58-b203-85f654f6d3d7"
      },
      "id": "Jb0GAOt-4MgX",
      "execution_count": 24,
      "outputs": [
        {
          "output_type": "stream",
          "name": "stdout",
          "text": [
            "Epoch # 1\n",
            "Training Loss as :: 1.36\n",
            "Accuracy :: 0.384\n",
            "Epoch # 2\n",
            "Training Loss as :: 1.26\n",
            "Accuracy :: 0.436\n",
            "Epoch # 3\n",
            "Training Loss as :: 1.06\n",
            "Accuracy :: 0.657\n",
            "Epoch # 4\n",
            "Training Loss as :: 0.77\n",
            "Accuracy :: 0.761\n",
            "Epoch # 5\n",
            "Training Loss as :: 0.60\n",
            "Accuracy :: 0.807\n",
            "Epoch # 6\n",
            "Training Loss as :: 0.51\n",
            "Accuracy :: 0.829\n",
            "Epoch # 7\n",
            "Training Loss as :: 0.45\n",
            "Accuracy :: 0.837\n",
            "Epoch # 8\n",
            "Training Loss as :: 0.41\n",
            "Accuracy :: 0.850\n",
            "Epoch # 9\n",
            "Training Loss as :: 0.37\n",
            "Accuracy :: 0.857\n",
            "Epoch # 10\n",
            "Training Loss as :: 0.34\n",
            "Accuracy :: 0.862\n",
            "Epoch # 11\n",
            "Training Loss as :: 0.32\n",
            "Accuracy :: 0.863\n",
            "Epoch # 12\n",
            "Training Loss as :: 0.30\n",
            "Accuracy :: 0.866\n",
            "Epoch # 13\n",
            "Training Loss as :: 0.28\n",
            "Accuracy :: 0.854\n",
            "Epoch # 14\n",
            "Training Loss as :: 0.27\n",
            "Accuracy :: 0.876\n",
            "Epoch # 15\n",
            "Training Loss as :: 0.26\n",
            "Accuracy :: 0.871\n"
          ]
        }
      ]
    },
    {
      "cell_type": "markdown",
      "source": [
        "### <font color=\"darkblue\"> **6. Sampling Function** </font>###\n",
        "\n",
        "> Two parameters our model and a data loader"
      ],
      "metadata": {
        "id": "8ZwyGNexh6sg"
      },
      "id": "8ZwyGNexh6sg"
    },
    {
      "cell_type": "code",
      "source": [
        "def sample_text(model, loader):\n",
        "    Yreal = []\n",
        "    Yhat  = []\n",
        "    for X, Y in loader:\n",
        "        Y = Y.type(torch.LongTensor) # cast to avoid runtime errors\n",
        "        X = X.type(torch.LongTensor) # cast to avoid runtime errors\n",
        "        # make predictions\n",
        "        predictions = model(X)\n",
        "        Yhat.append(predictions) #collect predictions\n",
        "        Yreal.append(Y)  # collect real classificaitons\n",
        "    gc.collect()\n",
        "    Yhat = torch.cat(Yhat)\n",
        "    Yreal = torch.cat(Yreal)\n",
        "    #return real classifications values as first outpur, predictions tenosr with an applied softmax as second output\n",
        "    return Yreal.detach().numpy(), F.softmax(Yhat, dim=-1).argmax(dim=-1).detach().numpy()"
      ],
      "metadata": {
        "id": "UTxZYeN9Fov4"
      },
      "id": "UTxZYeN9Fov4",
      "execution_count": 26,
      "outputs": []
    },
    {
      "cell_type": "markdown",
      "source": [
        " > Lets use our test data loader with the sampling fucntion"
      ],
      "metadata": {
        "id": "5ZUHDtudiviT"
      },
      "id": "5ZUHDtudiviT"
    },
    {
      "cell_type": "code",
      "source": [
        "# recover real classifications, predictions of out test data loader using our trained model\n",
        "Yactual, Yhat = sample_text(rnn, test_loader)"
      ],
      "metadata": {
        "id": "S6TcTCx2HOZc"
      },
      "id": "S6TcTCx2HOZc",
      "execution_count": 27,
      "outputs": []
    },
    {
      "cell_type": "markdown",
      "source": [
        "### <font color=\"darkblue\"> **7. Plot confusion matrix.** </font>###"
      ],
      "metadata": {
        "id": "QC0DKe4RjlD9"
      },
      "id": "QC0DKe4RjlD9"
    },
    {
      "cell_type": "code",
      "source": [
        "print(\"Accuracy using test data laoder :: {}\".format(accuracy_score(Yactual, Yhat))) #use skelarn to calculate accuracy, use the outputs of the sampling function\n"
      ],
      "metadata": {
        "id": "J8f1EFKx-pPb",
        "colab": {
          "base_uri": "https://localhost:8080/"
        },
        "outputId": "9165ce63-22ae-4ccb-b4c2-bf8dab34817b"
      },
      "id": "J8f1EFKx-pPb",
      "execution_count": 28,
      "outputs": [
        {
          "output_type": "stream",
          "name": "stdout",
          "text": [
            "Accuracy using test data laoder : 0.8717105263157895\n"
          ]
        }
      ]
    },
    {
      "cell_type": "code",
      "source": [
        "print(\"Confusion Matrix as :: \")\n",
        "print(confusion_matrix(Yactual, Yhat))"
      ],
      "metadata": {
        "colab": {
          "base_uri": "https://localhost:8080/"
        },
        "id": "5njZpz5SkCUY",
        "outputId": "0cf4d901-1674-4523-fcf5-926beff5d409"
      },
      "id": "5njZpz5SkCUY",
      "execution_count": 29,
      "outputs": [
        {
          "output_type": "stream",
          "name": "stdout",
          "text": [
            "Confusion Matrix as :: \n",
            "[[1622   83  157   38]\n",
            " [  63 1796   15   26]\n",
            " [  63   18 1648  171]\n",
            " [  35   71  235 1559]]\n"
          ]
        }
      ]
    },
    {
      "cell_type": "code",
      "source": [
        "#Use skplt plot confusion matrix function\n",
        "skplt.metrics.plot_confusion_matrix([labels[i] for i in Yactual], [labels[i] for i in Yhat],\n",
        "                                    normalize=True,\n",
        "                                    title=\"Confusion Matrix\",\n",
        "                                    cmap=\"Blues\",\n",
        "                                    figsize=(8,8)\n",
        "                                    );"
      ],
      "metadata": {
        "colab": {
          "base_uri": "https://localhost:8080/",
          "height": 652
        },
        "id": "7k2MZAJAHhH1",
        "outputId": "ab0ef5ce-8dd0-41b8-8b7d-1f2149e791aa"
      },
      "id": "7k2MZAJAHhH1",
      "execution_count": 30,
      "outputs": [
        {
          "output_type": "display_data",
          "data": {
            "text/plain": [
              "<Figure size 800x800 with 2 Axes>"
            ],
            "image/png": "[encoded data removed]"
          },
          "metadata": {}
        }
      ]
    },
    {
      "cell_type": "code",
      "source": [],
      "metadata": {
        "id": "DRvYSXeKH3Uw"
      },
      "id": "DRvYSXeKH3Uw",
      "execution_count": null,
      "outputs": []
    }
  ],
  "metadata": {
    "kernelspec": {
      "display_name": "Python 3",
      "name": "python3"
    },
    "language_info": {
      "codemirror_mode": {
        "name": "ipython",
        "version": 3
      },
      "file_extension": ".py",
      "mimetype": "text/x-python",
      "name": "python",
      "nbconvert_exporter": "python",
      "pygments_lexer": "ipython3",
      "version": "3.9.0"
    },
    "varInspector": {
      "cols": {
        "lenName": 16,
        "lenType": 16,
        "lenVar": 40
      },
      "kernels_config": {
        "python": {
          "delete_cmd_postfix": "",
          "delete_cmd_prefix": "del ",
          "library": "var_list.py",
          "varRefreshCmd": "print(var_dic_list())"
        },
        "r": {
          "delete_cmd_postfix": ") ",
          "delete_cmd_prefix": "rm(",
          "library": "var_list.r",
          "varRefreshCmd": "cat(var_dic_list()) "
        }
      },
      "types_to_exclude": [
        "module",
        "function",
        "builtin_function_or_method",
        "instance",
        "_Feature"
      ],
      "window_display": false
    },
    "colab": {
      "provenance": [],
      "gpuType": "T4",
      "include_colab_link": true
    },
    "accelerator": "GPU"
  },
  "nbformat": 4,
  "nbformat_minor": 5
}