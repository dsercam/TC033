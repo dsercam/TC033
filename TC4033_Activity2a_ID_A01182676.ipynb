{
  "cells": [
    {
      "cell_type": "markdown",
      "metadata": {
        "id": "view-in-github",
        "colab_type": "text"
      },
      "source": [
        "<a href=\"https://colab.research.google.com/github/dsercam/TC033/blob/main/TC4033_Activity2a_ID_A01182676.ipynb\" target=\"_parent\"><img src=\"https://colab.research.google.com/assets/colab-badge.svg\" alt=\"Open In Colab\"/></a>"
      ]
    },
    {
      "cell_type": "markdown",
      "source": [
        "#<font color='darkorange'><b> TC 5033 :: Advanced Machine Learning Methods </b> </font>\n",
        "### <font color='darkgray'><b> Activity 2a: Implementing a FC for *ASL Dataset* Using PyTorch</b></font></br></br>\n",
        "\n",
        "***Dante Rodrigo Serna Camarillo A01182676***</br>\n"
      ],
      "metadata": {
        "id": "ou0tNm8vOy9x"
      },
      "id": "ou0tNm8vOy9x"
    },
    {
      "cell_type": "markdown",
      "id": "601b2309",
      "metadata": {
        "id": "601b2309"
      },
      "source": [
        "\n",
        "<br>\n",
        "\n",
        "\n",
        "- Objective\n",
        "\n",
        "    The primary aim of this activity is to transition from using Numpy for network implementation to utilizing PyTorch, a powerful deep learning framework. You will be replicating the work you did for the ASL dataset in Activity 1b, but this time, you'll implement a your multi layer FC model using PyTorch.\n",
        "    \n",
        "- Instructions\n",
        "\n",
        "    Review Previous Work: Begin by reviewing your Numpy-based Fully Connected Network for the ASL dataset from Activity 1b. Note the architecture, hyperparameters, and performance metrics for comparison.\n",
        "\n",
        "    Introduce PyTorch: If you're new to PyTorch, take some time to familiarize yourself with its basic operations and syntax. You can consult the official documentation or follow online tutorials.\n",
        "\n",
        "    Prepare the ASL Dataset: As before, download and preprocess the Kaggle ASL dataset.\n",
        "\n",
        "    Implement the Network: Design your network architecture tailored for the ASL dataset. Pay special attention to PyTorch modules like nn.Linear() and nn.ReLU().\n",
        "\n",
        "    Train the Model: Implement the training loop, making use of PyTorch's autograd to handle backpropagation. Monitor metrics like loss and accuracy as the model trains.\n",
        "\n",
        "    Analyze and Document: In Markdown cells, discuss the architecture choices, any differences in performance between the Numpy and PyTorch implementations, and insights gained from using a deep learning framework like PyTorch."
      ]
    },
    {
      "cell_type": "code",
      "execution_count": 42,
      "id": "183db241",
      "metadata": {
        "id": "183db241"
      },
      "outputs": [],
      "source": [
        "import numpy as np\n",
        "import string\n",
        "import pandas as pd\n",
        "import matplotlib.pyplot as plt\n",
        "import requests\n",
        "from io import StringIO\n",
        "import os\n",
        "%matplotlib inline\n",
        "\n",
        "#PyTorch stuff\n",
        "import torch\n",
        "import torch.nn as nn\n",
        "import torch.nn.functional as F\n",
        "\n",
        "# Solamente para usuarios de Jupyter Themes\n",
        "#from jupyterthemes import jtplot\n",
        "#jtplot.style(grid=False)"
      ]
    },
    {
      "cell_type": "code",
      "execution_count": null,
      "id": "b3896ddf",
      "metadata": {
        "id": "b3896ddf"
      },
      "outputs": [],
      "source": [
        "# DATA_PATH = '/media/pepe/DataUbuntu/Databases/asl_data/'\n",
        "#DATA_PATH = '/home/pepe/Documents/github_repos/datasets/asl_data'\n",
        "#train_df = pd.read_csv(os.path.join(DATA_PATH, 'sign_mnist_train.csv'))\n",
        "#valid_df = pd.read_csv(os.path.join(DATA_PATH, 'sign_mnist_valid.csv'))"
      ]
    },
    {
      "cell_type": "markdown",
      "source": [
        "### <font color=\"darkblue\"> **1. Import data set** </font>\n",
        ">>Data sets were loaded into Google drive and exposed to the public.\n",
        "</br>\n",
        ">>Then we use the *requests* method to retrieve the files using the downloads URLs.\n",
        ">>Will download the files form my drive instead of setting them up in my local environment. The previous cell is not required in this way. Will use the same names for the DF to avoid any issue.\n",
        ">> Get the streamed data into a String format, then read it as CSV format using *read_csv*, assign them to the two data frames.\n",
        "</Br>\n",
        ">>> 1. <font color=\"darkorange\"><b> *train_df* </b></font> contains the data of the training file\n",
        ">>> 2. <font color=\"darkorange\"><b> *valid_df* </b></font> contains the data of the validation file"
      ],
      "metadata": {
        "id": "aQzOcQcEtyH5"
      },
      "id": "aQzOcQcEtyH5"
    },
    {
      "cell_type": "code",
      "source": [
        "url = 'https://drive.google.com/uc?export=download&id=1ttUEqCDuNFIenzrr4kMCHkbvBIy9fHmy'\n",
        "ASLTrainSet = requests.get(url)\n",
        "\n",
        "url = 'https://drive.google.com/uc?export=download&id=1mbEOJQKvhw41DpBzBB9PSfPr3IsngfA7'\n",
        "ASLValidationSet = requests.get(url)\n",
        "\n",
        "trainingAsText = StringIO(ASLTrainSet.text)\n",
        "validationAsText = StringIO(ASLValidationSet.text)\n",
        "\n",
        "train_df = pd.read_csv(trainingAsText)\n",
        "valid_df = pd.read_csv(validationAsText)"
      ],
      "metadata": {
        "id": "r0z6BdHAtSgQ"
      },
      "id": "r0z6BdHAtSgQ",
      "execution_count": 10,
      "outputs": []
    },
    {
      "cell_type": "markdown",
      "id": "08fa938e",
      "metadata": {
        "id": "08fa938e"
      },
      "source": [
        "### Always a good idea to explore the data"
      ]
    },
    {
      "cell_type": "code",
      "execution_count": 4,
      "id": "c149b4d7",
      "metadata": {
        "colab": {
          "base_uri": "https://localhost:8080/",
          "height": 229
        },
        "id": "c149b4d7",
        "outputId": "cddb9fba-cb2e-43a2-d85c-dfb920afe287"
      },
      "outputs": [
        {
          "output_type": "execute_result",
          "data": {
            "text/plain": [
              "   label  pixel1  pixel2  pixel3  pixel4  pixel5  pixel6  pixel7  pixel8  \\\n",
              "0      3     107     118     127     134     139     143     146     150   \n",
              "1      6     155     157     156     156     156     157     156     158   \n",
              "2      2     187     188     188     187     187     186     187     188   \n",
              "3      2     211     211     212     212     211     210     211     210   \n",
              "4     12     164     167     170     172     176     179     180     184   \n",
              "\n",
              "   pixel9  ...  pixel775  pixel776  pixel777  pixel778  pixel779  pixel780  \\\n",
              "0     153  ...       207       207       207       207       206       206   \n",
              "1     158  ...        69       149       128        87        94       163   \n",
              "2     187  ...       202       201       200       199       198       199   \n",
              "3     210  ...       235       234       233       231       230       226   \n",
              "4     185  ...        92       105       105       108       133       163   \n",
              "\n",
              "   pixel781  pixel782  pixel783  pixel784  \n",
              "0       206       204       203       202  \n",
              "1       175       103       135       149  \n",
              "2       198       195       194       195  \n",
              "3       225       222       229       163  \n",
              "4       157       163       164       179  \n",
              "\n",
              "[5 rows x 785 columns]"
            ],
            "text/html": [
              "\n",
              "  <div id=\"df-c49e9534-db0d-417c-b748-335e629a4c96\" class=\"colab-df-container\">\n",
              "    <div>\n",
              "<style scoped>\n",
              "    .dataframe tbody tr th:only-of-type {\n",
              "        vertical-align: middle;\n",
              "    }\n",
              "\n",
              "    .dataframe tbody tr th {\n",
              "        vertical-align: top;\n",
              "    }\n",
              "\n",
              "    .dataframe thead th {\n",
              "        text-align: right;\n",
              "    }\n",
              "</style>\n",
              "<table border=\"1\" class=\"dataframe\">\n",
              "  <thead>\n",
              "    <tr style=\"text-align: right;\">\n",
              "      <th></th>\n",
              "      <th>label</th>\n",
              "      <th>pixel1</th>\n",
              "      <th>pixel2</th>\n",
              "      <th>pixel3</th>\n",
              "      <th>pixel4</th>\n",
              "      <th>pixel5</th>\n",
              "      <th>pixel6</th>\n",
              "      <th>pixel7</th>\n",
              "      <th>pixel8</th>\n",
              "      <th>pixel9</th>\n",
              "      <th>...</th>\n",
              "      <th>pixel775</th>\n",
              "      <th>pixel776</th>\n",
              "      <th>pixel777</th>\n",
              "      <th>pixel778</th>\n",
              "      <th>pixel779</th>\n",
              "      <th>pixel780</th>\n",
              "      <th>pixel781</th>\n",
              "      <th>pixel782</th>\n",
              "      <th>pixel783</th>\n",
              "      <th>pixel784</th>\n",
              "    </tr>\n",
              "  </thead>\n",
              "  <tbody>\n",
              "    <tr>\n",
              "      <th>0</th>\n",
              "      <td>3</td>\n",
              "      <td>107</td>\n",
              "      <td>118</td>\n",
              "      <td>127</td>\n",
              "      <td>134</td>\n",
              "      <td>139</td>\n",
              "      <td>143</td>\n",
              "      <td>146</td>\n",
              "      <td>150</td>\n",
              "      <td>153</td>\n",
              "      <td>...</td>\n",
              "      <td>207</td>\n",
              "      <td>207</td>\n",
              "      <td>207</td>\n",
              "      <td>207</td>\n",
              "      <td>206</td>\n",
              "      <td>206</td>\n",
              "      <td>206</td>\n",
              "      <td>204</td>\n",
              "      <td>203</td>\n",
              "      <td>202</td>\n",
              "    </tr>\n",
              "    <tr>\n",
              "      <th>1</th>\n",
              "      <td>6</td>\n",
              "      <td>155</td>\n",
              "      <td>157</td>\n",
              "      <td>156</td>\n",
              "      <td>156</td>\n",
              "      <td>156</td>\n",
              "      <td>157</td>\n",
              "      <td>156</td>\n",
              "      <td>158</td>\n",
              "      <td>158</td>\n",
              "      <td>...</td>\n",
              "      <td>69</td>\n",
              "      <td>149</td>\n",
              "      <td>128</td>\n",
              "      <td>87</td>\n",
              "      <td>94</td>\n",
              "      <td>163</td>\n",
              "      <td>175</td>\n",
              "      <td>103</td>\n",
              "      <td>135</td>\n",
              "      <td>149</td>\n",
              "    </tr>\n",
              "    <tr>\n",
              "      <th>2</th>\n",
              "      <td>2</td>\n",
              "      <td>187</td>\n",
              "      <td>188</td>\n",
              "      <td>188</td>\n",
              "      <td>187</td>\n",
              "      <td>187</td>\n",
              "      <td>186</td>\n",
              "      <td>187</td>\n",
              "      <td>188</td>\n",
              "      <td>187</td>\n",
              "      <td>...</td>\n",
              "      <td>202</td>\n",
              "      <td>201</td>\n",
              "      <td>200</td>\n",
              "      <td>199</td>\n",
              "      <td>198</td>\n",
              "      <td>199</td>\n",
              "      <td>198</td>\n",
              "      <td>195</td>\n",
              "      <td>194</td>\n",
              "      <td>195</td>\n",
              "    </tr>\n",
              "    <tr>\n",
              "      <th>3</th>\n",
              "      <td>2</td>\n",
              "      <td>211</td>\n",
              "      <td>211</td>\n",
              "      <td>212</td>\n",
              "      <td>212</td>\n",
              "      <td>211</td>\n",
              "      <td>210</td>\n",
              "      <td>211</td>\n",
              "      <td>210</td>\n",
              "      <td>210</td>\n",
              "      <td>...</td>\n",
              "      <td>235</td>\n",
              "      <td>234</td>\n",
              "      <td>233</td>\n",
              "      <td>231</td>\n",
              "      <td>230</td>\n",
              "      <td>226</td>\n",
              "      <td>225</td>\n",
              "      <td>222</td>\n",
              "      <td>229</td>\n",
              "      <td>163</td>\n",
              "    </tr>\n",
              "    <tr>\n",
              "      <th>4</th>\n",
              "      <td>12</td>\n",
              "      <td>164</td>\n",
              "      <td>167</td>\n",
              "      <td>170</td>\n",
              "      <td>172</td>\n",
              "      <td>176</td>\n",
              "      <td>179</td>\n",
              "      <td>180</td>\n",
              "      <td>184</td>\n",
              "      <td>185</td>\n",
              "      <td>...</td>\n",
              "      <td>92</td>\n",
              "      <td>105</td>\n",
              "      <td>105</td>\n",
              "      <td>108</td>\n",
              "      <td>133</td>\n",
              "      <td>163</td>\n",
              "      <td>157</td>\n",
              "      <td>163</td>\n",
              "      <td>164</td>\n",
              "      <td>179</td>\n",
              "    </tr>\n",
              "  </tbody>\n",
              "</table>\n",
              "<p>5 rows × 785 columns</p>\n",
              "</div>\n",
              "    <div class=\"colab-df-buttons\">\n",
              "\n",
              "  <div class=\"colab-df-container\">\n",
              "    <button class=\"colab-df-convert\" onclick=\"convertToInteractive('df-c49e9534-db0d-417c-b748-335e629a4c96')\"\n",
              "            title=\"Convert this dataframe to an interactive table.\"\n",
              "            style=\"display:none;\">\n",
              "\n",
              "  <svg xmlns=\"http://www.w3.org/2000/svg\" height=\"24px\" viewBox=\"0 -960 960 960\">\n",
              "    <path d=\"M120-120v-720h720v720H120Zm60-500h600v-160H180v160Zm220 220h160v-160H400v160Zm0 220h160v-160H400v160ZM180-400h160v-160H180v160Zm440 0h160v-160H620v160ZM180-180h160v-160H180v160Zm440 0h160v-160H620v160Z\"/>\n",
              "  </svg>\n",
              "    </button>\n",
              "\n",
              "  <style>\n",
              "    .colab-df-container {\n",
              "      display:flex;\n",
              "      gap: 12px;\n",
              "    }\n",
              "\n",
              "    .colab-df-convert {\n",
              "      background-color: #E8F0FE;\n",
              "      border: none;\n",
              "      border-radius: 50%;\n",
              "      cursor: pointer;\n",
              "      display: none;\n",
              "      fill: #1967D2;\n",
              "      height: 32px;\n",
              "      padding: 0 0 0 0;\n",
              "      width: 32px;\n",
              "    }\n",
              "\n",
              "    .colab-df-convert:hover {\n",
              "      background-color: #E2EBFA;\n",
              "      box-shadow: 0px 1px 2px rgba(60, 64, 67, 0.3), 0px 1px 3px 1px rgba(60, 64, 67, 0.15);\n",
              "      fill: #174EA6;\n",
              "    }\n",
              "\n",
              "    .colab-df-buttons div {\n",
              "      margin-bottom: 4px;\n",
              "    }\n",
              "\n",
              "    [theme=dark] .colab-df-convert {\n",
              "      background-color: #3B4455;\n",
              "      fill: #D2E3FC;\n",
              "    }\n",
              "\n",
              "    [theme=dark] .colab-df-convert:hover {\n",
              "      background-color: #434B5C;\n",
              "      box-shadow: 0px 1px 3px 1px rgba(0, 0, 0, 0.15);\n",
              "      filter: drop-shadow(0px 1px 2px rgba(0, 0, 0, 0.3));\n",
              "      fill: #FFFFFF;\n",
              "    }\n",
              "  </style>\n",
              "\n",
              "    <script>\n",
              "      const buttonEl =\n",
              "        document.querySelector('#df-c49e9534-db0d-417c-b748-335e629a4c96 button.colab-df-convert');\n",
              "      buttonEl.style.display =\n",
              "        google.colab.kernel.accessAllowed ? 'block' : 'none';\n",
              "\n",
              "      async function convertToInteractive(key) {\n",
              "        const element = document.querySelector('#df-c49e9534-db0d-417c-b748-335e629a4c96');\n",
              "        const dataTable =\n",
              "          await google.colab.kernel.invokeFunction('convertToInteractive',\n",
              "                                                    [key], {});\n",
              "        if (!dataTable) return;\n",
              "\n",
              "        const docLinkHtml = 'Like what you see? Visit the ' +\n",
              "          '<a target=\"_blank\" href=https://colab.research.google.com/notebooks/data_table.ipynb>data table notebook</a>'\n",
              "          + ' to learn more about interactive tables.';\n",
              "        element.innerHTML = '';\n",
              "        dataTable['output_type'] = 'display_data';\n",
              "        await google.colab.output.renderOutput(dataTable, element);\n",
              "        const docLink = document.createElement('div');\n",
              "        docLink.innerHTML = docLinkHtml;\n",
              "        element.appendChild(docLink);\n",
              "      }\n",
              "    </script>\n",
              "  </div>\n",
              "\n",
              "\n",
              "<div id=\"df-24f05406-53b3-4237-8922-e69ea5363d2e\">\n",
              "  <button class=\"colab-df-quickchart\" onclick=\"quickchart('df-24f05406-53b3-4237-8922-e69ea5363d2e')\"\n",
              "            title=\"Suggest charts.\"\n",
              "            style=\"display:none;\">\n",
              "\n",
              "<svg xmlns=\"http://www.w3.org/2000/svg\" height=\"24px\"viewBox=\"0 0 24 24\"\n",
              "     width=\"24px\">\n",
              "    <g>\n",
              "        <path d=\"M19 3H5c-1.1 0-2 .9-2 2v14c0 1.1.9 2 2 2h14c1.1 0 2-.9 2-2V5c0-1.1-.9-2-2-2zM9 17H7v-7h2v7zm4 0h-2V7h2v10zm4 0h-2v-4h2v4z\"/>\n",
              "    </g>\n",
              "</svg>\n",
              "  </button>\n",
              "\n",
              "<style>\n",
              "  .colab-df-quickchart {\n",
              "      --bg-color: #E8F0FE;\n",
              "      --fill-color: #1967D2;\n",
              "      --hover-bg-color: #E2EBFA;\n",
              "      --hover-fill-color: #174EA6;\n",
              "      --disabled-fill-color: #AAA;\n",
              "      --disabled-bg-color: #DDD;\n",
              "  }\n",
              "\n",
              "  [theme=dark] .colab-df-quickchart {\n",
              "      --bg-color: #3B4455;\n",
              "      --fill-color: #D2E3FC;\n",
              "      --hover-bg-color: #434B5C;\n",
              "      --hover-fill-color: #FFFFFF;\n",
              "      --disabled-bg-color: #3B4455;\n",
              "      --disabled-fill-color: #666;\n",
              "  }\n",
              "\n",
              "  .colab-df-quickchart {\n",
              "    background-color: var(--bg-color);\n",
              "    border: none;\n",
              "    border-radius: 50%;\n",
              "    cursor: pointer;\n",
              "    display: none;\n",
              "    fill: var(--fill-color);\n",
              "    height: 32px;\n",
              "    padding: 0;\n",
              "    width: 32px;\n",
              "  }\n",
              "\n",
              "  .colab-df-quickchart:hover {\n",
              "    background-color: var(--hover-bg-color);\n",
              "    box-shadow: 0 1px 2px rgba(60, 64, 67, 0.3), 0 1px 3px 1px rgba(60, 64, 67, 0.15);\n",
              "    fill: var(--button-hover-fill-color);\n",
              "  }\n",
              "\n",
              "  .colab-df-quickchart-complete:disabled,\n",
              "  .colab-df-quickchart-complete:disabled:hover {\n",
              "    background-color: var(--disabled-bg-color);\n",
              "    fill: var(--disabled-fill-color);\n",
              "    box-shadow: none;\n",
              "  }\n",
              "\n",
              "  .colab-df-spinner {\n",
              "    border: 2px solid var(--fill-color);\n",
              "    border-color: transparent;\n",
              "    border-bottom-color: var(--fill-color);\n",
              "    animation:\n",
              "      spin 1s steps(1) infinite;\n",
              "  }\n",
              "\n",
              "  @keyframes spin {\n",
              "    0% {\n",
              "      border-color: transparent;\n",
              "      border-bottom-color: var(--fill-color);\n",
              "      border-left-color: var(--fill-color);\n",
              "    }\n",
              "    20% {\n",
              "      border-color: transparent;\n",
              "      border-left-color: var(--fill-color);\n",
              "      border-top-color: var(--fill-color);\n",
              "    }\n",
              "    30% {\n",
              "      border-color: transparent;\n",
              "      border-left-color: var(--fill-color);\n",
              "      border-top-color: var(--fill-color);\n",
              "      border-right-color: var(--fill-color);\n",
              "    }\n",
              "    40% {\n",
              "      border-color: transparent;\n",
              "      border-right-color: var(--fill-color);\n",
              "      border-top-color: var(--fill-color);\n",
              "    }\n",
              "    60% {\n",
              "      border-color: transparent;\n",
              "      border-right-color: var(--fill-color);\n",
              "    }\n",
              "    80% {\n",
              "      border-color: transparent;\n",
              "      border-right-color: var(--fill-color);\n",
              "      border-bottom-color: var(--fill-color);\n",
              "    }\n",
              "    90% {\n",
              "      border-color: transparent;\n",
              "      border-bottom-color: var(--fill-color);\n",
              "    }\n",
              "  }\n",
              "</style>\n",
              "\n",
              "  <script>\n",
              "    async function quickchart(key) {\n",
              "      const quickchartButtonEl =\n",
              "        document.querySelector('#' + key + ' button');\n",
              "      quickchartButtonEl.disabled = true;  // To prevent multiple clicks.\n",
              "      quickchartButtonEl.classList.add('colab-df-spinner');\n",
              "      try {\n",
              "        const charts = await google.colab.kernel.invokeFunction(\n",
              "            'suggestCharts', [key], {});\n",
              "      } catch (error) {\n",
              "        console.error('Error during call to suggestCharts:', error);\n",
              "      }\n",
              "      quickchartButtonEl.classList.remove('colab-df-spinner');\n",
              "      quickchartButtonEl.classList.add('colab-df-quickchart-complete');\n",
              "    }\n",
              "    (() => {\n",
              "      let quickchartButtonEl =\n",
              "        document.querySelector('#df-24f05406-53b3-4237-8922-e69ea5363d2e button');\n",
              "      quickchartButtonEl.style.display =\n",
              "        google.colab.kernel.accessAllowed ? 'block' : 'none';\n",
              "    })();\n",
              "  </script>\n",
              "</div>\n",
              "    </div>\n",
              "  </div>\n"
            ]
          },
          "metadata": {},
          "execution_count": 4
        }
      ],
      "source": [
        "train_df.head()"
      ]
    },
    {
      "cell_type": "markdown",
      "id": "8bf2d1df",
      "metadata": {
        "id": "8bf2d1df"
      },
      "source": [
        "### Get training label data"
      ]
    },
    {
      "cell_type": "markdown",
      "source": [
        "### <font color=\"darkblue\"> **Clean Up data frames.** </font>\n",
        ">>> Extract classification (*labels* column in both dataframes)\n",
        ">>> After getting the classification, remove the link *label* column on both dataframes. This will only leave pixels information\n",
        "</br>\n",
        ">>> **y_train** :: (y) traning vector\n",
        "</br>\n",
        ">>> **y_validation** :: (y) validation vector"
      ],
      "metadata": {
        "id": "uRUN1iYqu1tj"
      },
      "id": "uRUN1iYqu1tj"
    },
    {
      "cell_type": "code",
      "execution_count": 5,
      "id": "4348519c",
      "metadata": {
        "id": "4348519c"
      },
      "outputs": [],
      "source": [
        "y_train = np.array(train_df['label'])\n",
        "y_val = np.array(valid_df['label'])\n",
        "del train_df['label']\n",
        "del valid_df['label']\n",
        "x_train = train_df.values.astype(np.float32)\n",
        "x_val = valid_df.values.astype(np.float32)"
      ]
    },
    {
      "cell_type": "code",
      "execution_count": 6,
      "id": "6c9bed68",
      "metadata": {
        "colab": {
          "base_uri": "https://localhost:8080/"
        },
        "id": "6c9bed68",
        "outputId": "10932ae0-daf1-4ee7-eb3e-a9aef292231d"
      },
      "outputs": [
        {
          "output_type": "stream",
          "name": "stdout",
          "text": [
            "(27455, 784)\n",
            "(27455,)\n"
          ]
        }
      ],
      "source": [
        "print(x_train.shape)\n",
        "print(y_train.shape)"
      ]
    },
    {
      "cell_type": "code",
      "execution_count": 7,
      "id": "ea87a153",
      "metadata": {
        "colab": {
          "base_uri": "https://localhost:8080/"
        },
        "id": "ea87a153",
        "outputId": "d4867ba0-5f21-4e12-9908-45002a2b1b70"
      },
      "outputs": [
        {
          "output_type": "stream",
          "name": "stdout",
          "text": [
            "(7172, 784) (7172,)\n"
          ]
        }
      ],
      "source": [
        "print(x_val.shape, y_val.shape)"
      ]
    },
    {
      "cell_type": "code",
      "execution_count": 8,
      "id": "7b7edd3e",
      "metadata": {
        "id": "7b7edd3e"
      },
      "outputs": [],
      "source": [
        "def split_val_test(x, y, pct=0.5, shuffle=True):\n",
        "    assert x.shape[0] == y.shape[0], 'Number of samples x!= number samples y'\n",
        "    total_samples = x.shape[0]\n",
        "    if shuffle:\n",
        "        idxs = np.arange(x.shape[0])\n",
        "        np.random.shuffle(idxs)\n",
        "        x = x[idxs]\n",
        "        y = y[idxs]\n",
        "        #return x_val, y_val, x_test, y_test\n",
        "#         return x[:total_samples//2, :], y[:total_samples//2], x[total_samples//2:, :], y[total_samples//2:]\n",
        "    return x[:int(total_samples*pct), :], y[:int(total_samples*pct)], x[int(total_samples*(pct)):, :], y[int(total_samples*(pct)):]\n",
        ""
      ]
    },
    {
      "cell_type": "markdown",
      "source": [
        "Divide our validation set in two new sets (at 50%) for a new validation and test set."
      ],
      "metadata": {
        "id": "pwEWGaWLuXBV"
      },
      "id": "pwEWGaWLuXBV"
    },
    {
      "cell_type": "code",
      "execution_count": 9,
      "id": "6fb6fda2",
      "metadata": {
        "id": "6fb6fda2"
      },
      "outputs": [],
      "source": [
        "x_val, y_val, x_test, y_test = split_val_test(x_val, y_val)"
      ]
    },
    {
      "cell_type": "code",
      "execution_count": 11,
      "id": "e7a02137",
      "metadata": {
        "colab": {
          "base_uri": "https://localhost:8080/"
        },
        "id": "e7a02137",
        "outputId": "a3681936-7177-4ea7-c734-2c752ff1ec47"
      },
      "outputs": [
        {
          "output_type": "execute_result",
          "data": {
            "text/plain": [
              "numpy.ndarray"
            ]
          },
          "metadata": {},
          "execution_count": 11
        }
      ],
      "source": [
        "type(y_val)"
      ]
    },
    {
      "cell_type": "code",
      "execution_count": 12,
      "id": "986ec106",
      "metadata": {
        "colab": {
          "base_uri": "https://localhost:8080/"
        },
        "id": "986ec106",
        "outputId": "fdd99238-eb45-4e89-ea56-d5be2630f15b"
      },
      "outputs": [
        {
          "output_type": "stream",
          "name": "stdout",
          "text": [
            "(3586, 784) (3586,)\n",
            "(3586, 784) (3586,)\n"
          ]
        }
      ],
      "source": [
        "print(x_val.shape, y_val.shape)\n",
        "print(x_test.shape, y_test.shape)"
      ]
    },
    {
      "cell_type": "code",
      "execution_count": 13,
      "id": "d65bdf4c",
      "metadata": {
        "colab": {
          "base_uri": "https://localhost:8080/"
        },
        "id": "d65bdf4c",
        "outputId": "2460dcb6-91d8-4d11-9545-a5297540c3c3"
      },
      "outputs": [
        {
          "output_type": "stream",
          "name": "stdout",
          "text": [
            "24\n"
          ]
        }
      ],
      "source": [
        "alphabet=list(string.ascii_lowercase)\n",
        "alphabet.remove('j')\n",
        "alphabet.remove('z')\n",
        "print(len(alphabet))"
      ]
    },
    {
      "cell_type": "markdown",
      "id": "f17874be",
      "metadata": {
        "id": "f17874be"
      },
      "source": [
        "### Normalise the data"
      ]
    },
    {
      "cell_type": "markdown",
      "source": [
        "### <font color=\"darkblue\"> **Normalize data** </font>\n",
        ">> The same way we did on our last activity, normalization will be applied using mean and std of the training data set."
      ],
      "metadata": {
        "id": "3_7zCg7_vkuD"
      },
      "id": "3_7zCg7_vkuD"
    },
    {
      "cell_type": "code",
      "execution_count": 14,
      "id": "b0a5cce2",
      "metadata": {
        "id": "b0a5cce2"
      },
      "outputs": [],
      "source": [
        "def normalise(x_mean, x_std, x_data):\n",
        "    return (x_data - x_mean) / x_std"
      ]
    },
    {
      "cell_type": "code",
      "execution_count": 15,
      "id": "b8cf6d30",
      "metadata": {
        "id": "b8cf6d30"
      },
      "outputs": [],
      "source": [
        "x_mean = x_train.mean()\n",
        "x_std = x_train.std()\n",
        "\n",
        "x_train = normalise(x_mean, x_std, x_train)\n",
        "x_val = normalise(x_mean, x_std, x_val)\n",
        "x_test = normalise(x_mean, x_std, x_test)\n"
      ]
    },
    {
      "cell_type": "code",
      "execution_count": 16,
      "id": "d0eef77a",
      "metadata": {
        "colab": {
          "base_uri": "https://localhost:8080/"
        },
        "id": "d0eef77a",
        "outputId": "916fdd4b-b8ec-4dc7-aaf8-1f3eb6b936dc"
      },
      "outputs": [
        {
          "output_type": "execute_result",
          "data": {
            "text/plain": [
              "(3.6268384e-06, 0.99999946)"
            ]
          },
          "metadata": {},
          "execution_count": 16
        }
      ],
      "source": [
        "x_train.mean(), x_train.std()"
      ]
    },
    {
      "cell_type": "code",
      "execution_count": 17,
      "id": "4761728d",
      "metadata": {
        "id": "4761728d"
      },
      "outputs": [],
      "source": [
        "def plot_number(image):\n",
        "    plt.figure(figsize=(5,5))\n",
        "    plt.imshow(image.squeeze(), cmap=plt.get_cmap('gray'))\n",
        "    plt.axis('off')\n",
        "    plt.show()"
      ]
    },
    {
      "cell_type": "code",
      "execution_count": 18,
      "id": "e5eb103d",
      "metadata": {
        "colab": {
          "base_uri": "https://localhost:8080/"
        },
        "id": "e5eb103d",
        "outputId": "b5298830-921b-4cf5-ec2a-d8e2e53de01e"
      },
      "outputs": [
        {
          "output_type": "execute_result",
          "data": {
            "text/plain": [
              "numpy.ndarray"
            ]
          },
          "metadata": {},
          "execution_count": 18
        }
      ],
      "source": [
        "type(x_val)"
      ]
    },
    {
      "cell_type": "code",
      "execution_count": 19,
      "id": "1b9216b0",
      "metadata": {
        "colab": {
          "base_uri": "https://localhost:8080/",
          "height": 437
        },
        "id": "1b9216b0",
        "outputId": "dc73ab73-1a4d-4e67-edaf-af605b8d7c81"
      },
      "outputs": [
        {
          "output_type": "stream",
          "name": "stdout",
          "text": [
            "La imagen muestreada representa un: h\n"
          ]
        },
        {
          "output_type": "display_data",
          "data": {
            "text/plain": [
              "<Figure size 500x500 with 1 Axes>"
            ],
            "image/png": "[encoded data removed]"
          },
          "metadata": {}
        }
      ],
      "source": [
        "rnd_idx = np.random.randint(len(y_val))\n",
        "# print(rnd_idx)\n",
        "# print(y_val[rnd_idx])\n",
        "print(f'La imagen muestreada representa un: {alphabet[y_val[rnd_idx]]}')\n",
        "plot_number(x_val[rnd_idx].reshape(28,28))"
      ]
    },
    {
      "cell_type": "markdown",
      "id": "668cfc56",
      "metadata": {
        "id": "668cfc56"
      },
      "source": [
        "### The model"
      ]
    },
    {
      "cell_type": "markdown",
      "id": "a18c833b",
      "metadata": {
        "id": "a18c833b"
      },
      "source": [
        "$$z^1 = W^1 X + b^1$$\n",
        "\n",
        "$$a^1 = ReLU(z^1) $$\n",
        "\n",
        "$$z^2 = W^2 a^1 + b^2$$\n",
        "\n",
        "$$\\hat{y} = \\frac{e^{z^{2_k}}}{\\sum_j{e^{z_j}}}$$\n",
        "\n",
        "\n",
        "$$ \\mathcal{L}(\\hat{y}^{i}, y^{i}) =  - y^{i}  \\ln(\\hat{y}^{i}) = -\\ln(\\hat{y}^i)$$\n",
        "\n",
        "\n",
        "$$ \\mathcal{J}(w, b) =  \\frac{1}{num\\_samples} \\sum_{i=1}^{num\\_samples}-\\ln(\\hat{y}^{i})$$"
      ]
    },
    {
      "cell_type": "markdown",
      "id": "beae3ef9",
      "metadata": {
        "id": "beae3ef9"
      },
      "source": [
        "### Create minibatches"
      ]
    },
    {
      "cell_type": "code",
      "execution_count": 20,
      "id": "780beecf",
      "metadata": {
        "id": "780beecf"
      },
      "outputs": [],
      "source": [
        "def create_minibatches(mb_size, x, y, shuffle = True):\n",
        "    '''\n",
        "    x  #muestras, 784\n",
        "    y #muestras, 1\n",
        "    '''\n",
        "    assert x.shape[0] == y.shape[0], 'Error en cantidad de muestras'\n",
        "    total_data = x.shape[0]\n",
        "    if shuffle:\n",
        "        idxs = np.arange(total_data)\n",
        "        np.random.shuffle(idxs)\n",
        "        x = x[idxs]\n",
        "        y = y[idxs]\n",
        "\n",
        "    return ((x[i:i+mb_size], y[i:i+mb_size]) for i in range(0, total_data, mb_size))"
      ]
    },
    {
      "cell_type": "code",
      "execution_count": 21,
      "id": "4b8f845e",
      "metadata": {
        "colab": {
          "base_uri": "https://localhost:8080/"
        },
        "id": "4b8f845e",
        "outputId": "e7457dbe-66e7-4a1e-8caa-148161cd0f80"
      },
      "outputs": [
        {
          "output_type": "stream",
          "name": "stdout",
          "text": [
            "0\n",
            "1\n",
            "2\n",
            "3\n",
            "4\n",
            "5\n",
            "6\n",
            "7\n",
            "8\n",
            "9\n",
            "10\n",
            "11\n",
            "12\n",
            "13\n",
            "14\n",
            "15\n",
            "16\n",
            "17\n",
            "18\n",
            "19\n",
            "20\n",
            "21\n",
            "22\n",
            "23\n",
            "24\n",
            "25\n",
            "26\n",
            "27\n",
            "28\n",
            "29\n",
            "30\n",
            "31\n",
            "32\n",
            "33\n",
            "34\n",
            "35\n",
            "36\n",
            "37\n",
            "38\n",
            "39\n",
            "40\n",
            "41\n",
            "42\n",
            "43\n",
            "44\n",
            "45\n",
            "46\n",
            "47\n",
            "48\n",
            "49\n",
            "50\n",
            "51\n",
            "52\n",
            "53\n",
            "54\n",
            "55\n",
            "56\n",
            "57\n",
            "58\n",
            "59\n",
            "60\n",
            "61\n",
            "62\n",
            "63\n",
            "64\n",
            "65\n",
            "66\n",
            "67\n",
            "68\n",
            "69\n",
            "70\n",
            "71\n",
            "72\n",
            "73\n",
            "74\n",
            "75\n",
            "76\n",
            "77\n",
            "78\n",
            "79\n",
            "80\n",
            "81\n",
            "82\n",
            "83\n",
            "84\n",
            "85\n",
            "86\n",
            "87\n",
            "88\n",
            "89\n",
            "90\n",
            "91\n",
            "92\n",
            "93\n",
            "94\n",
            "95\n",
            "96\n",
            "97\n",
            "98\n",
            "99\n",
            "100\n",
            "101\n",
            "102\n",
            "103\n",
            "104\n",
            "105\n",
            "106\n",
            "107\n",
            "108\n",
            "109\n",
            "110\n",
            "111\n",
            "112\n",
            "113\n",
            "114\n",
            "115\n",
            "116\n",
            "117\n",
            "118\n",
            "119\n",
            "120\n",
            "121\n",
            "122\n",
            "123\n",
            "124\n",
            "125\n",
            "126\n",
            "127\n",
            "128\n",
            "129\n",
            "130\n",
            "131\n",
            "132\n",
            "133\n",
            "134\n",
            "135\n",
            "136\n",
            "137\n",
            "138\n",
            "139\n",
            "140\n",
            "141\n",
            "142\n",
            "143\n",
            "144\n",
            "145\n",
            "146\n",
            "147\n",
            "148\n",
            "149\n",
            "150\n",
            "151\n",
            "152\n",
            "153\n",
            "154\n",
            "155\n",
            "156\n",
            "157\n",
            "158\n",
            "159\n",
            "160\n",
            "161\n",
            "162\n",
            "163\n",
            "164\n",
            "165\n",
            "166\n",
            "167\n",
            "168\n",
            "169\n",
            "170\n",
            "171\n",
            "172\n",
            "173\n",
            "174\n",
            "175\n",
            "176\n",
            "177\n",
            "178\n",
            "179\n",
            "180\n",
            "181\n",
            "182\n",
            "183\n",
            "184\n",
            "185\n",
            "186\n",
            "187\n",
            "188\n",
            "189\n",
            "190\n",
            "191\n",
            "192\n",
            "193\n",
            "194\n",
            "195\n",
            "196\n",
            "197\n",
            "198\n",
            "199\n",
            "200\n",
            "201\n",
            "202\n",
            "203\n",
            "204\n",
            "205\n",
            "206\n",
            "207\n",
            "208\n",
            "209\n",
            "210\n",
            "211\n",
            "212\n",
            "213\n",
            "214\n"
          ]
        }
      ],
      "source": [
        "for i, (x, y) in enumerate(create_minibatches(128,x_train, y_train)):\n",
        "    print(i)"
      ]
    },
    {
      "cell_type": "markdown",
      "id": "12273997",
      "metadata": {
        "id": "12273997"
      },
      "source": [
        "### Now the PyTorch part"
      ]
    },
    {
      "cell_type": "markdown",
      "source": [
        "### <font color=\"darkblue\"> **Use pytorch** </font>\n",
        ">> set up a tensor for each of our sets and y vectors"
      ],
      "metadata": {
        "id": "idS-KEXuxf9k"
      },
      "id": "idS-KEXuxf9k"
    },
    {
      "cell_type": "code",
      "execution_count": 22,
      "id": "cbd1415d",
      "metadata": {
        "id": "cbd1415d"
      },
      "outputs": [],
      "source": [
        "x_train_tensor = torch.tensor(x_train.copy())\n",
        "y_train_tensor = torch.tensor(y_train.copy())\n",
        "\n",
        "x_val_tensor = torch.tensor(x_val.copy())\n",
        "y_val_tensor = torch.tensor(y_val.copy())\n",
        "\n",
        "x_test_tensor = torch.tensor(x_test.copy())\n",
        "y_test_tensor = torch.tensor(y_test.copy())"
      ]
    },
    {
      "cell_type": "markdown",
      "source": [
        "This will use the CPU as we are running this on colab"
      ],
      "metadata": {
        "id": "JR8Tm0CKxzMl"
      },
      "id": "JR8Tm0CKxzMl"
    },
    {
      "cell_type": "code",
      "execution_count": 23,
      "id": "087285a9",
      "metadata": {
        "colab": {
          "base_uri": "https://localhost:8080/"
        },
        "id": "087285a9",
        "outputId": "9d6b3f71-cb4f-4915-ddac-0f6702004aab"
      },
      "outputs": [
        {
          "output_type": "stream",
          "name": "stdout",
          "text": [
            "cpu\n"
          ]
        }
      ],
      "source": [
        "device = 'cuda' if torch.cuda.is_available() else 'cpu'\n",
        "print(device)"
      ]
    },
    {
      "cell_type": "markdown",
      "id": "823c3ba5",
      "metadata": {
        "id": "823c3ba5"
      },
      "source": [
        "### Accuracy"
      ]
    },
    {
      "cell_type": "markdown",
      "source": [
        "### <font color=\"darkblue\"> **Accuracy method** </font>\n",
        ">> we will provide a model, a features set, its y vector and the desired size of the mini batches.\n",
        ">> Method will use the provided model to make its predictions and accuracy will be calcualted against the real classification"
      ],
      "metadata": {
        "id": "He4KPvvVx-I5"
      },
      "id": "He4KPvvVx-I5"
    },
    {
      "cell_type": "code",
      "execution_count": 27,
      "id": "e2e0f02a",
      "metadata": {
        "id": "e2e0f02a"
      },
      "outputs": [],
      "source": [
        "def accuracy(model, x, y, mb_size):\n",
        "    num_correct = 0\n",
        "    num_total = 0\n",
        "    cost = 0.\n",
        "    model.eval()\n",
        "    model = model.to(device=device)\n",
        "    with torch.no_grad():\n",
        "        for mb, (xi, yi) in enumerate(create_minibatches(mb_size, x, y),1):\n",
        "            xi = xi.to(device=device, dtype = torch.float32)\n",
        "            yi = yi.to(device=device, dtype = torch.long)\n",
        "            scores = model(xi) # mb_size, 10\n",
        "            cost += (F.cross_entropy(scores, yi)).item()\n",
        "            _, pred = scores.max(dim=1) #pred shape (mb_size )\n",
        "            num_correct += (pred == yi.squeeze()).sum() # pred shape (mb_size), yi shape (mb_size, 1)\n",
        "            num_total += pred.size(0)\n",
        "\n",
        "        return cost/mb, float(num_correct)/num_total"
      ]
    },
    {
      "cell_type": "markdown",
      "id": "533c2954",
      "metadata": {
        "id": "533c2954"
      },
      "source": [
        "### Training Loop"
      ]
    },
    {
      "cell_type": "markdown",
      "source": [
        "### <font color=\"darkblue\"> **Training method** </font>\n",
        ">> we will provide a model, the desired optimiser, the number of minibatches and the desired number of epochs (100 by default).\n",
        ">>"
      ],
      "metadata": {
        "id": "PxW9oZB7zFlH"
      },
      "id": "PxW9oZB7zFlH"
    },
    {
      "cell_type": "code",
      "execution_count": 25,
      "id": "6d0e44c7",
      "metadata": {
        "id": "6d0e44c7"
      },
      "outputs": [],
      "source": [
        "def train(model, optimiser, mb_size, epochs=100):\n",
        "    model = model.to(device=device)\n",
        "    train_cost = 0.\n",
        "    val_cost = 0.\n",
        "    for epoch in range(epochs):\n",
        "        train_correct_num  = 0.\n",
        "        train_total = 0.\n",
        "        train_cost_acum = 0\n",
        "        for mb, (xi, yi) in enumerate(create_minibatches(mb_size, x_train_tensor, y_train_tensor), 1):\n",
        "            model.train()\n",
        "            xi = xi.to(device=device, dtype=torch.float32)\n",
        "            yi = yi.to(device=device, dtype=torch.long)\n",
        "            scores = model(xi)\n",
        "            # funcion cost\n",
        "            cost = F.cross_entropy(input= scores, target=yi.squeeze())\n",
        "            # avoid cummulative gradient\n",
        "            optimiser.zero_grad()\n",
        "            cost.backward()\n",
        "            optimiser.step()\n",
        "\n",
        "            train_correct_num += (torch.argmax(scores, dim=1) == yi.squeeze()).sum()\n",
        "            train_total += scores.size(0)\n",
        "            #cumulative cost on epoch\n",
        "            train_cost_acum += cost.item()\n",
        "\n",
        "        val_cost, val_acc = accuracy(model, x_val_tensor, y_val_tensor, mb_size)\n",
        "        #calculate accuracy on epoch\n",
        "        train_acc = float(train_correct_num)/train_total\n",
        "        # calculate cost on epoch\n",
        "        train_cost = train_cost_acum/mb\n",
        "        #print accuracy and training cost every 20 epochs, this will avoid a large output, consideirng the larg enumber of epochs\n",
        "        if epoch%20 == 0:\n",
        "            print(f'Epoch:{epoch}, train cost: {train_cost:.6f}, val cost: {val_cost:.6f},'\n",
        "                      f' train acc: {train_acc:.4f}, val acc: {val_acc:4f},'\n",
        "                      f' lr: {optimiser.param_groups[0][\"lr\"]:.6f}')\n",
        ""
      ]
    },
    {
      "cell_type": "markdown",
      "id": "359b9243",
      "metadata": {
        "id": "359b9243"
      },
      "source": [
        "### Model using Sequential"
      ]
    },
    {
      "cell_type": "code",
      "execution_count": 28,
      "id": "c3d678e9",
      "metadata": {
        "colab": {
          "base_uri": "https://localhost:8080/"
        },
        "id": "c3d678e9",
        "outputId": "3422daa1-0125-460e-c024-4da364cd3583"
      },
      "outputs": [
        {
          "output_type": "stream",
          "name": "stdout",
          "text": [
            "Epoch:0, train cost: 0.878396, val cost: 0.847296, train acc: 0.7226, val acc: 0.751534, lr: 0.004000\n",
            "Epoch:20, train cost: 0.168783, val cost: 1.857572, train acc: 0.9616, val acc: 0.786670, lr: 0.004000\n",
            "Epoch:40, train cost: 0.198618, val cost: 2.397053, train acc: 0.9646, val acc: 0.781651, lr: 0.004000\n",
            "Epoch:60, train cost: 0.203103, val cost: 2.420405, train acc: 0.9638, val acc: 0.796152, lr: 0.004000\n",
            "Epoch:80, train cost: 0.149200, val cost: 3.051517, train acc: 0.9711, val acc: 0.774958, lr: 0.004000\n"
          ]
        }
      ],
      "source": [
        "#Instanciar modelo\n",
        "# hidden1 = 100\n",
        "hidden = 200\n",
        "lr = 1e-3\n",
        "epochs = 100\n",
        "mb_size = 128\n",
        "model1 = nn.Sequential(nn.Linear(in_features=784, out_features=hidden),\n",
        "                       nn.Dropout(),\n",
        "                       nn.ReLU(),\n",
        "#                        nn.Linear(in_features=hidden1, out_features=hidden), nn.ReLU(),\n",
        "                       nn.Linear(in_features=hidden, out_features=24))\n",
        "# optimiser = torch.optim.SGD(model1.parameters(), lr=lr, momentum=0.9, weight_decay=1e-2)\n",
        "optimiser = torch.optim.Adam(model1.parameters(), lr=lr, weight_decay=1e-4)\n",
        "scheduler = torch.optim.lr_scheduler.OneCycleLR(optimiser, 0.1, epochs=epochs, steps_per_epoch=215)\n",
        "\n",
        "train(model1, optimiser, mb_size, epochs)"
      ]
    },
    {
      "cell_type": "markdown",
      "source": [
        "\n",
        ">> Reached 0.819 accuracy using the test set. This is highet than the ~ 0.78 achieved by our numpy implmentation."
      ],
      "metadata": {
        "id": "8_EUTxWm8wMS"
      },
      "id": "8_EUTxWm8wMS"
    },
    {
      "cell_type": "code",
      "execution_count": 29,
      "id": "c1942c3b",
      "metadata": {
        "colab": {
          "base_uri": "https://localhost:8080/"
        },
        "id": "c1942c3b",
        "outputId": "cd6dd649-b5e8-4515-fb7d-44964a14c0e4"
      },
      "outputs": [
        {
          "output_type": "execute_result",
          "data": {
            "text/plain": [
              "0.8190184049079755"
            ]
          },
          "metadata": {},
          "execution_count": 29
        }
      ],
      "source": [
        "accuracy(model1, x_test_tensor, y_test_tensor, mb_size)[1]"
      ]
    },
    {
      "cell_type": "code",
      "execution_count": 30,
      "id": "6fa8f9d8",
      "metadata": {
        "id": "6fa8f9d8"
      },
      "outputs": [],
      "source": [
        "def predict(x, model):\n",
        "    x = x.to(device=device, dtype = torch.float32)\n",
        "    scores = model(x) # mb_size, 10\n",
        "    _, pred = scores.max(dim=1) #pred shape (mb_size )\n",
        "    return pred"
      ]
    },
    {
      "cell_type": "code",
      "execution_count": 31,
      "id": "bb4edc89",
      "metadata": {
        "colab": {
          "base_uri": "https://localhost:8080/",
          "height": 454
        },
        "id": "bb4edc89",
        "outputId": "a8dfa93b-13dc-4d37-f481-0d1e1b18baa2"
      },
      "outputs": [
        {
          "output_type": "stream",
          "name": "stdout",
          "text": [
            "La imagen muestreada representa un: f\n"
          ]
        },
        {
          "output_type": "display_data",
          "data": {
            "text/plain": [
              "<Figure size 500x500 with 1 Axes>"
            ],
            "image/png": "[encoded data removed]"
          },
          "metadata": {}
        },
        {
          "output_type": "stream",
          "name": "stdout",
          "text": [
            "el valor predicho f\n"
          ]
        }
      ],
      "source": [
        "rnd_idx = np.random.randint(len(y_test))\n",
        "print(f'La imagen muestreada representa un: {alphabet[y_test[rnd_idx]]}')\n",
        "plot_number(x_test[rnd_idx].reshape(28,28))\n",
        "pred=predict(x_test_tensor[rnd_idx].reshape(1, -1), model1)\n",
        "print(f'el valor predicho {alphabet[pred]}')"
      ]
    },
    {
      "cell_type": "markdown",
      "source": [
        "### <font color=\"darkblue\"> **Playing with  model hyperparameters** </font>\n",
        ">> Performed some training using different hyperparameters, based on the results I think that increasing the mini-batch size and learning rate (more significant value, even in the same order) hurts the accuracy the most, reducing its accuracy below ~0.8.\n",
        "</br></br>\n",
        ">> On the other hand, increasing the hidden layers to 300, reducing the learning rate a bit (1e-25), an increased number of epochs and mainitning the same mini batch size helds the best result."
      ],
      "metadata": {
        "id": "Np6OumZCLt9g"
      },
      "id": "Np6OumZCLt9g"
    },
    {
      "cell_type": "code",
      "execution_count": 34,
      "id": "47d10e1a",
      "metadata": {
        "colab": {
          "base_uri": "https://localhost:8080/"
        },
        "id": "47d10e1a",
        "outputId": "b3206d4c-9c14-4eec-c049-0ec16129c90b"
      },
      "outputs": [
        {
          "output_type": "stream",
          "name": "stdout",
          "text": [
            "Epoch:0, train cost: 0.816319, val cost: 0.791442, train acc: 0.7418, val acc: 0.771891, lr: 0.004000\n",
            "Epoch:20, train cost: 0.278991, val cost: 2.164239, train acc: 0.9590, val acc: 0.796431, lr: 0.004000\n",
            "Epoch:40, train cost: 0.278496, val cost: 3.201868, train acc: 0.9627, val acc: 0.787228, lr: 0.004000\n",
            "Epoch:60, train cost: 0.200158, val cost: 4.781935, train acc: 0.9734, val acc: 0.778583, lr: 0.004000\n",
            "Epoch:80, train cost: 0.157159, val cost: 3.606935, train acc: 0.9760, val acc: 0.795594, lr: 0.004000\n",
            "Epoch:100, train cost: 0.236820, val cost: 3.694230, train acc: 0.9704, val acc: 0.784161, lr: 0.004000\n",
            "Epoch:120, train cost: 0.211021, val cost: 4.483946, train acc: 0.9719, val acc: 0.804518, lr: 0.004000\n",
            "Epoch:140, train cost: 0.215755, val cost: 4.434262, train acc: 0.9717, val acc: 0.788344, lr: 0.004000\n"
          ]
        }
      ],
      "source": [
        "#Instanciar modelo\n",
        "# hidden1 = 100\n",
        "hidden = 300\n",
        "lr = 1e-25\n",
        "epochs = 160\n",
        "mb_size = 128\n",
        "model1 = nn.Sequential(nn.Linear(in_features=784, out_features=hidden),\n",
        "                       nn.Dropout(),\n",
        "                       nn.ReLU(),\n",
        "#                        nn.Linear(in_features=hidden1, out_features=hidden), nn.ReLU(),\n",
        "                       nn.Linear(in_features=hidden, out_features=24))\n",
        "# optimiser = torch.optim.SGD(model1.parameters(), lr=lr, momentum=0.9, weight_decay=1e-2)\n",
        "optimiser = torch.optim.Adam(model1.parameters(), lr=lr, weight_decay=1e-4)\n",
        "scheduler = torch.optim.lr_scheduler.OneCycleLR(optimiser, 0.1, epochs=epochs, steps_per_epoch=215)\n",
        "\n",
        "train(model1, optimiser, mb_size, epochs)"
      ]
    },
    {
      "cell_type": "code",
      "execution_count": 35,
      "id": "b69ab2ba",
      "metadata": {
        "colab": {
          "base_uri": "https://localhost:8080/"
        },
        "id": "b69ab2ba",
        "outputId": "9eaed8f7-1a12-4bcb-c63e-c0eca0d73ea1"
      },
      "outputs": [
        {
          "output_type": "execute_result",
          "data": {
            "text/plain": [
              "(4.191716646325999, 0.8248745119910764)"
            ]
          },
          "metadata": {},
          "execution_count": 35
        }
      ],
      "source": [
        "accuracy(model1, x_test_tensor, y_test_tensor, mb_size)"
      ]
    },
    {
      "cell_type": "code",
      "execution_count": 36,
      "id": "9787c25d",
      "metadata": {
        "colab": {
          "base_uri": "https://localhost:8080/"
        },
        "id": "9787c25d",
        "outputId": "8d22d197-d886-42cd-81e9-4d2cdbcdf82f"
      },
      "outputs": [
        {
          "output_type": "stream",
          "name": "stdout",
          "text": [
            "Epoch:0, train cost: 0.962449, val cost: 0.762052, train acc: 0.6937, val acc: 0.758226, lr: 0.004000\n",
            "Epoch:20, train cost: 0.095814, val cost: 1.700981, train acc: 0.9736, val acc: 0.778305, lr: 0.004000\n",
            "Epoch:40, train cost: 0.127815, val cost: 2.057006, train acc: 0.9711, val acc: 0.785555, lr: 0.004000\n",
            "Epoch:60, train cost: 0.080822, val cost: 1.982175, train acc: 0.9787, val acc: 0.800613, lr: 0.004000\n",
            "Epoch:80, train cost: 0.085158, val cost: 2.210984, train acc: 0.9801, val acc: 0.804239, lr: 0.004000\n",
            "Epoch:100, train cost: 0.075634, val cost: 2.115990, train acc: 0.9807, val acc: 0.798383, lr: 0.004000\n",
            "Epoch:120, train cost: 0.113531, val cost: 2.435213, train acc: 0.9751, val acc: 0.790853, lr: 0.004000\n",
            "Epoch:140, train cost: 0.112079, val cost: 2.552875, train acc: 0.9749, val acc: 0.775516, lr: 0.004000\n"
          ]
        }
      ],
      "source": [
        "hidden = 200\n",
        "lr = 1e-25\n",
        "epochs = 160\n",
        "mb_size = 258\n",
        "model1 = nn.Sequential(nn.Linear(in_features=784, out_features=hidden),\n",
        "                       nn.Dropout(),\n",
        "                       nn.ReLU(),\n",
        "#                        nn.Linear(in_features=hidden1, out_features=hidden), nn.ReLU(),\n",
        "                       nn.Linear(in_features=hidden, out_features=24))\n",
        "# optimiser = torch.optim.SGD(model1.parameters(), lr=lr, momentum=0.9, weight_decay=1e-2)\n",
        "optimiser = torch.optim.Adam(model1.parameters(), lr=lr, weight_decay=1e-4)\n",
        "scheduler = torch.optim.lr_scheduler.OneCycleLR(optimiser, 0.1, epochs=epochs, steps_per_epoch=215)\n",
        "\n",
        "train(model1, optimiser, mb_size, epochs)"
      ]
    },
    {
      "cell_type": "code",
      "source": [
        "accuracy(model1, x_test_tensor, y_test_tensor, mb_size)"
      ],
      "metadata": {
        "colab": {
          "base_uri": "https://localhost:8080/"
        },
        "id": "69ox1SK8ABw7",
        "outputId": "f3b23b4e-6355-4298-a18e-98c7650e9e65"
      },
      "id": "69ox1SK8ABw7",
      "execution_count": 37,
      "outputs": [
        {
          "output_type": "execute_result",
          "data": {
            "text/plain": [
              "(1.9620583312852042, 0.8087005019520357)"
            ]
          },
          "metadata": {},
          "execution_count": 37
        }
      ]
    },
    {
      "cell_type": "code",
      "source": [
        "hidden = 300\n",
        "lr = 1e-20\n",
        "epochs = 200\n",
        "mb_size = 64\n",
        "model1 = nn.Sequential(nn.Linear(in_features=784, out_features=hidden),\n",
        "                       nn.Dropout(),\n",
        "                       nn.ReLU(),\n",
        "#                        nn.Linear(in_features=hidden1, out_features=hidden), nn.ReLU(),\n",
        "                       nn.Linear(in_features=hidden, out_features=24))\n",
        "# optimiser = torch.optim.SGD(model1.parameters(), lr=lr, momentum=0.9, weight_decay=1e-2)\n",
        "optimiser = torch.optim.Adam(model1.parameters(), lr=lr, weight_decay=1e-4)\n",
        "scheduler = torch.optim.lr_scheduler.OneCycleLR(optimiser, 0.1, epochs=epochs, steps_per_epoch=215)\n",
        "\n",
        "train(model1, optimiser, mb_size, epochs)"
      ],
      "metadata": {
        "colab": {
          "base_uri": "https://localhost:8080/"
        },
        "id": "0y6IpTpGAqm7",
        "outputId": "94209d11-5143-4dd2-b716-e10a05855bed"
      },
      "id": "0y6IpTpGAqm7",
      "execution_count": 38,
      "outputs": [
        {
          "output_type": "stream",
          "name": "stdout",
          "text": [
            "Epoch:0, train cost: 0.918049, val cost: 1.202405, train acc: 0.7288, val acc: 0.710262, lr: 0.004000\n",
            "Epoch:20, train cost: 0.260775, val cost: 3.847869, train acc: 0.9598, val acc: 0.790017, lr: 0.004000\n",
            "Epoch:40, train cost: 0.346229, val cost: 5.501400, train acc: 0.9631, val acc: 0.786113, lr: 0.004000\n",
            "Epoch:60, train cost: 0.397475, val cost: 5.424882, train acc: 0.9579, val acc: 0.781651, lr: 0.004000\n",
            "Epoch:80, train cost: 0.365496, val cost: 6.147217, train acc: 0.9620, val acc: 0.783045, lr: 0.004000\n",
            "Epoch:100, train cost: 0.252292, val cost: 4.932543, train acc: 0.9698, val acc: 0.800892, lr: 0.004000\n",
            "Epoch:120, train cost: 0.349127, val cost: 5.151676, train acc: 0.9644, val acc: 0.782487, lr: 0.004000\n",
            "Epoch:140, train cost: 0.393279, val cost: 5.659244, train acc: 0.9603, val acc: 0.799219, lr: 0.004000\n",
            "Epoch:160, train cost: 0.357001, val cost: 6.783474, train acc: 0.9621, val acc: 0.774400, lr: 0.004000\n",
            "Epoch:180, train cost: 0.378462, val cost: 6.531421, train acc: 0.9610, val acc: 0.787507, lr: 0.004000\n"
          ]
        }
      ]
    },
    {
      "cell_type": "code",
      "source": [
        "accuracy(model1, x_test_tensor, y_test_tensor, mb_size)"
      ],
      "metadata": {
        "colab": {
          "base_uri": "https://localhost:8080/"
        },
        "id": "NtMFbSRgAy9F",
        "outputId": "655ffac6-9346-45d1-a236-04f1393be1d8"
      },
      "id": "NtMFbSRgAy9F",
      "execution_count": 39,
      "outputs": [
        {
          "output_type": "execute_result",
          "data": {
            "text/plain": [
              "(4.764292591496518, 0.7986614612381484)"
            ]
          },
          "metadata": {},
          "execution_count": 39
        }
      ]
    },
    {
      "cell_type": "code",
      "source": [
        "hidden = 300\n",
        "lr = 1e-4\n",
        "epochs = 200\n",
        "mb_size = 128\n",
        "model1 = nn.Sequential(nn.Linear(in_features=784, out_features=hidden),\n",
        "                       nn.Dropout(),\n",
        "                       nn.ReLU(),\n",
        "#                        nn.Linear(in_features=hidden1, out_features=hidden), nn.ReLU(),\n",
        "                       nn.Linear(in_features=hidden, out_features=24))\n",
        "# optimiser = torch.optim.SGD(model1.parameters(), lr=lr, momentum=0.9, weight_decay=1e-2)\n",
        "optimiser = torch.optim.Adam(model1.parameters(), lr=lr, weight_decay=1e-4)\n",
        "scheduler = torch.optim.lr_scheduler.OneCycleLR(optimiser, 0.1, epochs=epochs, steps_per_epoch=215)\n",
        "\n",
        "train(model1, optimiser, mb_size, epochs)"
      ],
      "metadata": {
        "colab": {
          "base_uri": "https://localhost:8080/"
        },
        "id": "7O_mxWoSJ6gT",
        "outputId": "577ad8a5-3972-46d2-a6da-e4a020d87f16"
      },
      "id": "7O_mxWoSJ6gT",
      "execution_count": 40,
      "outputs": [
        {
          "output_type": "stream",
          "name": "stdout",
          "text": [
            "Epoch:0, train cost: 0.815985, val cost: 0.942165, train acc: 0.7470, val acc: 0.754322, lr: 0.004000\n",
            "Epoch:20, train cost: 0.230515, val cost: 2.909075, train acc: 0.9608, val acc: 0.786392, lr: 0.004000\n",
            "Epoch:40, train cost: 0.217186, val cost: 3.508440, train acc: 0.9688, val acc: 0.785555, lr: 0.004000\n",
            "Epoch:60, train cost: 0.187211, val cost: 4.519401, train acc: 0.9733, val acc: 0.791969, lr: 0.004000\n",
            "Epoch:80, train cost: 0.199160, val cost: 3.898890, train acc: 0.9734, val acc: 0.795315, lr: 0.004000\n",
            "Epoch:100, train cost: 0.232460, val cost: 3.837497, train acc: 0.9697, val acc: 0.786392, lr: 0.004000\n",
            "Epoch:120, train cost: 0.208058, val cost: 4.420293, train acc: 0.9724, val acc: 0.800335, lr: 0.004000\n",
            "Epoch:140, train cost: 0.206036, val cost: 4.651578, train acc: 0.9728, val acc: 0.779699, lr: 0.004000\n",
            "Epoch:160, train cost: 0.171134, val cost: 3.802984, train acc: 0.9765, val acc: 0.800613, lr: 0.004000\n",
            "Epoch:180, train cost: 0.160813, val cost: 4.996811, train acc: 0.9777, val acc: 0.795036, lr: 0.004000\n"
          ]
        }
      ]
    },
    {
      "cell_type": "code",
      "source": [
        "accuracy(model1, x_test_tensor, y_test_tensor, mb_size)"
      ],
      "metadata": {
        "colab": {
          "base_uri": "https://localhost:8080/"
        },
        "id": "03MMZUEkKBlR",
        "outputId": "7b7e7ea5-1e4b-435c-a673-81bd6e7a1ad3"
      },
      "id": "03MMZUEkKBlR",
      "execution_count": 41,
      "outputs": [
        {
          "output_type": "execute_result",
          "data": {
            "text/plain": [
              "(3.5291224060387445, 0.7947573898494144)"
            ]
          },
          "metadata": {},
          "execution_count": 41
        }
      ]
    },
    {
      "cell_type": "code",
      "source": [],
      "metadata": {
        "id": "qcTYtEgqLmKW"
      },
      "id": "qcTYtEgqLmKW",
      "execution_count": null,
      "outputs": []
    }
  ],
  "metadata": {
    "kernelspec": {
      "display_name": "Python 3 (ipykernel)",
      "language": "python",
      "name": "python3"
    },
    "language_info": {
      "codemirror_mode": {
        "name": "ipython",
        "version": 3
      },
      "file_extension": ".py",
      "mimetype": "text/x-python",
      "name": "python",
      "nbconvert_exporter": "python",
      "pygments_lexer": "ipython3",
      "version": "3.9.0"
    },
    "toc": {
      "base_numbering": 1,
      "nav_menu": {},
      "number_sections": true,
      "sideBar": true,
      "skip_h1_title": false,
      "title_cell": "Table of Contents",
      "title_sidebar": "Contents",
      "toc_cell": false,
      "toc_position": {},
      "toc_section_display": true,
      "toc_window_display": false
    },
    "varInspector": {
      "cols": {
        "lenName": 16,
        "lenType": 16,
        "lenVar": 40
      },
      "kernels_config": {
        "python": {
          "delete_cmd_postfix": "",
          "delete_cmd_prefix": "del ",
          "library": "var_list.py",
          "varRefreshCmd": "print(var_dic_list())"
        },
        "r": {
          "delete_cmd_postfix": ") ",
          "delete_cmd_prefix": "rm(",
          "library": "var_list.r",
          "varRefreshCmd": "cat(var_dic_list()) "
        }
      },
      "types_to_exclude": [
        "module",
        "function",
        "builtin_function_or_method",
        "instance",
        "_Feature"
      ],
      "window_display": false
    },
    "colab": {
      "provenance": [],
      "include_colab_link": true
    }
  },
  "nbformat": 4,
  "nbformat_minor": 5
}