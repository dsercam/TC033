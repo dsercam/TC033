{
  "nbformat": 4,
  "nbformat_minor": 0,
  "metadata": {
    "colab": {
      "provenance": [],
      "include_colab_link": true
    },
    "kernelspec": {
      "name": "python3",
      "display_name": "Python 3"
    },
    "language_info": {
      "name": "python"
    }
  },
  "cells": [
    {
      "cell_type": "markdown",
      "metadata": {
        "id": "view-in-github",
        "colab_type": "text"
      },
      "source": [
        "<a href=\"https://colab.research.google.com/github/dsercam/TC033/blob/main/TC4033_Activity1b_ID44.ipynb\" target=\"_parent\"><img src=\"https://colab.research.google.com/assets/colab-badge.svg\" alt=\"Open In Colab\"/></a>"
      ]
    },
    {
      "cell_type": "markdown",
      "source": [
        "#<font color='darkorange'><b> TC 5033 :: Advanced Machine Learning Methods </b> </font>\n",
        "### <font color='darkgray'><b> Activity 1B :: Implementing a Fully Connected Network for *Kaggle ASL Dataset* </b></font></br></br>\n",
        "###<font color='darkblue'><b>  Group 44 </b></font>\n",
        "***Dante Rodrigo Serna Camarillo A01182676***</br>\n",
        "***Axel Alejandro Tlatoa Villavicencio A01363351***</br>\n",
        "***Carlos Roberto Torres Ferguson A01215432***</br>\n",
        "***Felipe de Jesús Gastélum Lizárraga A01114918***"
      ],
      "metadata": {
        "id": "xFnLeTs8NHhG"
      }
    },
    {
      "cell_type": "code",
      "source": [
        "import pandas as pd\n",
        "import requests\n",
        "from io import StringIO\n",
        "import numpy as np\n",
        "import string\n",
        "import matplotlib.pyplot as plt\n",
        "import cv2 as cv\n",
        "import os\n",
        "import math"
      ],
      "metadata": {
        "id": "lK6nrMPKjpyK"
      },
      "execution_count": 1,
      "outputs": []
    },
    {
      "cell_type": "markdown",
      "source": [
        "### <font color=\"darkblue\"> **1. Import data set** </font>\n",
        ">>Data sets were loaded into Google drive and exposed to the public.\n",
        "</br>\n",
        ">>Then we use the *requests* method to retrieve the files using the downloads URLs."
      ],
      "metadata": {
        "id": "EYDA7CKEOS46"
      }
    },
    {
      "cell_type": "code",
      "execution_count": 2,
      "metadata": {
        "id": "rkClsa22eaFb"
      },
      "outputs": [],
      "source": [
        "url = 'https://drive.google.com/uc?export=download&id=1ttUEqCDuNFIenzrr4kMCHkbvBIy9fHmy'\n",
        "ASLTrainSet = requests.get(url)\n",
        "\n",
        "url = 'https://drive.google.com/uc?export=download&id=1mbEOJQKvhw41DpBzBB9PSfPr3IsngfA7'\n",
        "ASLValidationSet = requests.get(url)"
      ]
    },
    {
      "cell_type": "markdown",
      "source": [
        ">> Get the streamed data into a String format, then read it as CSV format using *read_csv*, assign them to two data frames.\n",
        "</Br>\n",
        ">>> 1. <font color=\"darkorange\"><b> *trainingDf* </b></font> contains the data of the training file\n",
        ">>> 2. <font color=\"darkorange\"><b> *validationDf* </b></font> contains the data of the validation file\n",
        "\n",
        "\n"
      ],
      "metadata": {
        "id": "zMSs75XtPebc"
      }
    },
    {
      "cell_type": "code",
      "source": [
        "trainingAsText = StringIO(ASLTrainSet.text)\n",
        "validationAsText = StringIO(ASLValidationSet.text)\n",
        "\n",
        "trainingDf = pd.read_csv(trainingAsText)\n",
        "validationDf = pd.read_csv(validationAsText)"
      ],
      "metadata": {
        "id": "OPXk434LkNKC"
      },
      "execution_count": 3,
      "outputs": []
    },
    {
      "cell_type": "markdown",
      "source": [
        ">> We can see the size of both sets."
      ],
      "metadata": {
        "id": "Hz0Yc7S5FQFl"
      }
    },
    {
      "cell_type": "code",
      "source": [
        "print('Training set shape :: ',trainingDf.shape)\n",
        "print('Validation set shape :: ',validationDf.shape)\n"
      ],
      "metadata": {
        "colab": {
          "base_uri": "https://localhost:8080/"
        },
        "id": "26xOokaI0j1Y",
        "outputId": "c328a58d-c4d4-4b1b-bf4e-805c210896f0"
      },
      "execution_count": 4,
      "outputs": [
        {
          "output_type": "stream",
          "name": "stdout",
          "text": [
            "Training set shape ::  (27455, 785)\n",
            "Validation set shape ::  (7172, 785)\n"
          ]
        }
      ]
    },
    {
      "cell_type": "markdown",
      "source": [
        "### <font color=\"darkblue\"> **2. Clean Up data frames.** </font>\n",
        ">>> Extract classification (*labels* column in both dataframes)\n",
        ">>> After getting the classification, remove the link *label* column on both dataframes. This will only leave pixels information\n",
        "</br>\n",
        ">>> **y_train** :: (y) traning vector\n",
        "</br>\n",
        ">>> **y_validation** :: (y) validation vector"
      ],
      "metadata": {
        "id": "raj7AfO1uAvq"
      }
    },
    {
      "cell_type": "code",
      "source": [
        "#Obtain classification for (y) for both sets on separate arrays\n",
        "y_train = np.array(trainingDf['label'])\n",
        "y_validation = np.array(validationDf['label'])\n",
        "\n",
        "# Remove [label] column in both data frames\n",
        "del trainingDf['label']\n",
        "del validationDf['label']\n",
        "\n",
        "#set data type as float in order to process it\n",
        "x_train = trainingDf.values.astype(np.float32)\n",
        "x_validation = validationDf.values.astype(np.float32)"
      ],
      "metadata": {
        "id": "mjYLSlitrhI9"
      },
      "execution_count": 5,
      "outputs": []
    },
    {
      "cell_type": "markdown",
      "source": [
        "### <font color=\"darkblue\"> **3. Prepare plotting function.** </font>\n",
        ">> Plot will help us graph an entry to see the ASL symbol."
      ],
      "metadata": {
        "id": "9CBUzrYHGX6s"
      }
    },
    {
      "cell_type": "code",
      "source": [
        "def plot_ASL(image):\n",
        "    #pixels = trainingDf.iloc[n,].to_numpy().astype('uint8') #this could have been used to parametrize the method in a different way.\n",
        "    pixels = image.astype('uint8') # set type to uint8 for it to be graphed properly\n",
        "    pixels = pixels.reshape(28,28) # reshape the row to (28x28)\n",
        "    plt.figure(figsize=(5,5))\n",
        "    plt.imshow(pixels.squeeze(), cmap=plt.get_cmap('gray'))\n",
        "    plt.axis('off')\n",
        "    plt.show()"
      ],
      "metadata": {
        "id": "hDj3f_9NlctU"
      },
      "execution_count": 6,
      "outputs": []
    },
    {
      "cell_type": "markdown",
      "source": [
        "\n",
        ">> Testing our plotting function using a random index."
      ],
      "metadata": {
        "id": "_IBOqzNDHJB4"
      }
    },
    {
      "cell_type": "code",
      "source": [
        "rnd_idx = np.random.randint(len(y_validation))\n",
        "print(f'ASL Symbol: {y_validation[rnd_idx, ]}')\n",
        "plot_ASL(x_validation[rnd_idx,])"
      ],
      "metadata": {
        "colab": {
          "base_uri": "https://localhost:8080/",
          "height": 437
        },
        "id": "9nplynY-qx4k",
        "outputId": "242fcc6f-3823-452a-cb97-27ce7c13f7d9"
      },
      "execution_count": 7,
      "outputs": [
        {
          "output_type": "stream",
          "name": "stdout",
          "text": [
            "ASL Symbol: 11\n"
          ]
        },
        {
          "output_type": "display_data",
          "data": {
            "text/plain": [
              "<Figure size 500x500 with 1 Axes>"
            ],
            "image/png": "[encoded data removed]"
          },
          "metadata": {}
        }
      ]
    },
    {
      "cell_type": "markdown",
      "source": [
        "### <font color=\"darkblue\"> **4. About the datasets.** </font>\n",
        ">> Some information about our datasets:\n",
        ">>> **Current distribution:**\n"
      ],
      "metadata": {
        "id": "hAZ7e5a1IoPc"
      }
    },
    {
      "cell_type": "code",
      "source": [
        "totalSamples = trainingDf.shape[0] + validationDf.shape[0] # total samples, including both sets\n",
        "print('Current distirbution of our datasets:')\n",
        "print(' Size of the training set: ',round((trainingDf.shape[0] *100)/totalSamples,2),'%')\n",
        "print(' Size of the validation set: ',round((validationDf.shape[0]*100)/totalSamples,2),'%')"
      ],
      "metadata": {
        "colab": {
          "base_uri": "https://localhost:8080/"
        },
        "id": "wiBaSEl2khcO",
        "outputId": "04c5bc5d-9d10-444d-ac9b-a9eab9981163"
      },
      "execution_count": 8,
      "outputs": [
        {
          "output_type": "stream",
          "name": "stdout",
          "text": [
            "Current distirbution of our datasets:\n",
            " Size of the training set:  79.29 %\n",
            " Size of the validation set:  20.71 %\n"
          ]
        }
      ]
    },
    {
      "cell_type": "markdown",
      "source": [
        "### <font color=\"darkblue\"> **4.1 Create function to split a dataset given a percentage** </font>\n",
        "> We will use this function to split our order *validation* set into two new sets, a new *test* set and a *validation* set.\n",
        ">> - Method splits dataset in half (50%) by default. Parameter is defined as *pct* at method signature.\n",
        "</br>\n",
        ">> - Method shuffles given data set by default. Parameter is defined as *shuffle* at method signature."
      ],
      "metadata": {
        "id": "gS0muhNBK6tH"
      }
    },
    {
      "cell_type": "code",
      "source": [
        "def split_val_test(x, y, pct=0.5, shuffle=True):\n",
        "    #Validate the size of provided arguments, stop processing if number of records does not match.\n",
        "    #Throws error if samples and y vector does not match.\n",
        "    assert x.shape[0] == y.shape[0], 'Dataframe does not contain the same numer of records as Y (validation array)'\n",
        "\n",
        "    # Number of samples, log to output\n",
        "    dataCount = x.shape[0]\n",
        "    print('Samples size as ', dataCount)\n",
        "\n",
        "    #shuffle depending on shuffle parameter, shuffle True by default on method signature\n",
        "    if shuffle:\n",
        "        #generate a ndarray that conatins an entry/index for each row of the data\n",
        "        idxs = np.arange(dataCount)\n",
        "        #Shuffle the indexes\n",
        "        np.random.shuffle(idxs)\n",
        "        x = x[idxs]\n",
        "        y = y[idxs]\n",
        "\n",
        "    #Describe how are going to split the given data set, based on the provided pct parameter.\n",
        "    #If the PCT does not result in a intger count, we round up to the next integer.\n",
        "    print('Will split data set at ', pct ,'%.')\n",
        "    if((dataCount*pct).is_integer()) : print(pct, '% of the total records = ',dataCount*pct)\n",
        "    else: print(pct, '% of the total records = ',dataCount*pct, ' will round up to next integer (',math.ceil(dataCount*pct),').')\n",
        "\n",
        "    #creat a copy of the data set (both the samples and y vector), these structures will be used as the 'test' sets.\n",
        "    x_test = x.copy()\n",
        "    y_test = y.copy()\n",
        "\n",
        "    x_val = x[:math.ceil(dataCount*pct)-1].reshape(math.ceil(dataCount*pct)-1, -1).astype(float)\n",
        "    y_val = y[:math.ceil(dataCount*pct)-1].reshape(math.ceil(dataCount*pct)-1, 1)\n",
        "\n",
        "    x_test = x_test[math.trunc(dataCount*pct):].reshape(math.ceil(dataCount*pct), -1).astype(float)\n",
        "    y_test = y_test[math.trunc(dataCount*pct):].reshape(math.ceil(dataCount*pct), 1)\n",
        "    pass\n",
        "    #return validation sets, followed by test sets\n",
        "    return x_val, y_val, x_test, y_test\n"
      ],
      "metadata": {
        "id": "8ONFOoT3rn3h"
      },
      "execution_count": 9,
      "outputs": []
    },
    {
      "cell_type": "markdown",
      "source": [
        "### <font color=\"darkblue\"> **4.2 Use the _split_val_test()_ function to split our validation set into a validation and testing data sets** </font>\n"
      ],
      "metadata": {
        "id": "Ly1xQDmZOQnq"
      }
    },
    {
      "cell_type": "code",
      "source": [
        "x_val, y_val, x_test, y_test = split_val_test(x_validation, y_validation)"
      ],
      "metadata": {
        "colab": {
          "base_uri": "https://localhost:8080/"
        },
        "id": "Udv3PK8iwvfB",
        "outputId": "c555010e-2cf8-41e3-c1c0-afdfab6cc45f"
      },
      "execution_count": 10,
      "outputs": [
        {
          "output_type": "stream",
          "name": "stdout",
          "text": [
            "Samples size as  7172\n",
            "Will split data set at  0.5 %.\n",
            "0.5 % of the total records =  3586.0\n"
          ]
        }
      ]
    },
    {
      "cell_type": "markdown",
      "source": [
        ">> - Our final distibution of data sets as:"
      ],
      "metadata": {
        "id": "BoH3U8AFOwfV"
      }
    },
    {
      "cell_type": "code",
      "source": [
        "print('[Y] Training set shape: ',y_train.shape)\n",
        "print('[x] Training set shape: ',x_train.shape)\n",
        "print('[Y] Validation set shape: ',y_val.shape)\n",
        "print('[x] validation set shape: ',x_val.shape)\n",
        "print('[Y] Test set shape: ',y_test.shape)\n",
        "print('[x] Test set shape: ',x_test.shape)"
      ],
      "metadata": {
        "colab": {
          "base_uri": "https://localhost:8080/"
        },
        "id": "CP0DqERfEGok",
        "outputId": "11594a77-a4d6-488f-b24d-3061dd2858e7"
      },
      "execution_count": 11,
      "outputs": [
        {
          "output_type": "stream",
          "name": "stdout",
          "text": [
            "[Y] Training set shape:  (27455,)\n",
            "[x] Training set shape:  (27455, 784)\n",
            "[Y] Validation set shape:  (3585, 1)\n",
            "[x] validation set shape:  (3585, 784)\n",
            "[Y] Test set shape:  (3586, 1)\n",
            "[x] Test set shape:  (3586, 784)\n"
          ]
        }
      ]
    },
    {
      "cell_type": "markdown",
      "source": [
        ">> Execute this as per the provided instructions, will remove 'j' and 'z' symbols\n",
        "</br>\n",
        ">> This results in having a total of 24 classes."
      ],
      "metadata": {
        "id": "yNYR6XCFPtnl"
      }
    },
    {
      "cell_type": "code",
      "source": [
        "alphabet=list(string.ascii_lowercase)\n",
        "alphabet.remove('j')\n",
        "alphabet.remove('z')\n",
        "print('Number of classes: ',len(alphabet))"
      ],
      "metadata": {
        "colab": {
          "base_uri": "https://localhost:8080/"
        },
        "id": "Y7Lqgs5PieI6",
        "outputId": "b461b5e4-2d9e-4506-da4e-446455672ae3"
      },
      "execution_count": 12,
      "outputs": [
        {
          "output_type": "stream",
          "name": "stdout",
          "text": [
            "Number of classes:  24\n"
          ]
        }
      ]
    },
    {
      "cell_type": "markdown",
      "source": [
        "### <font color=\"darkblue\"> **5. Normalize data** </font>\n",
        ">> Normalization will be applied using mean and std of the training data set."
      ],
      "metadata": {
        "id": "xS2v7huWQNbp"
      }
    },
    {
      "cell_type": "code",
      "source": [
        "print('Current mean (training data set):', x_train.mean())\n",
        "print('Current standard deviation (training data set):', x_train.std())"
      ],
      "metadata": {
        "colab": {
          "base_uri": "https://localhost:8080/"
        },
        "id": "yEkM860Kknb5",
        "outputId": "9f4b0dc5-c518-46b3-ace1-25c462d7e6b0"
      },
      "execution_count": 13,
      "outputs": [
        {
          "output_type": "stream",
          "name": "stdout",
          "text": [
            "Current mean (training data set): 159.29083\n",
            "Current standard deviation (training data set): 48.76953\n"
          ]
        }
      ]
    },
    {
      "cell_type": "markdown",
      "source": [
        ">> Create function to normalize data sets.\n",
        "</br>"
      ],
      "metadata": {
        "id": "GbGp8NDNRboY"
      }
    },
    {
      "cell_type": "code",
      "source": [
        "#parameters include the mean, standard deviation and the data structure to normalize.\n",
        "def normalise(x_mean, x_std, x_data):\n",
        "    return (x_data - x_mean) / x_std"
      ],
      "metadata": {
        "id": "5O9TCWRIl_PO"
      },
      "execution_count": 14,
      "outputs": []
    },
    {
      "cell_type": "code",
      "source": [
        "#save mean and standard deviation our our training data set.\n",
        "x_mean = x_train.mean()\n",
        "x_std = x_train.std()"
      ],
      "metadata": {
        "id": "_rO-qxQYmhSQ"
      },
      "execution_count": 15,
      "outputs": []
    },
    {
      "cell_type": "markdown",
      "source": [
        ">> We will create a copy of each our samples data frames, that wat we can use such structures to plot our original images. These _raw_ dataframes are:\n",
        ">>> *x_train_raw* </br>\n",
        ">>> *x_val_raw*  </br>\n",
        ">>> *x_test_raw*  </br>"
      ],
      "metadata": {
        "id": "ww3_UthkSY3e"
      }
    },
    {
      "cell_type": "markdown",
      "source": [
        ">> We will normalize our three samples dataframe and assign the normalize data to them. Dataframes are kept as:\n",
        ">>> *x_train* </br>\n",
        ">>> *x_val*  </br>\n",
        ">>> *x_test* </br>"
      ],
      "metadata": {
        "id": "EgA6q328TEI8"
      }
    },
    {
      "cell_type": "code",
      "source": [
        "x_train_raw = x_train.copy()\n",
        "x_val_raw = x_val.copy()\n",
        "x_test_raw = x_test.copy()\n",
        "\n",
        "x_train = normalise(x_mean, x_std, x_train)\n",
        "x_val = normalise(x_mean, x_std, x_val)\n",
        "x_test = normalise(x_mean, x_std, x_test)"
      ],
      "metadata": {
        "id": "oyq6Q5R1SUHr"
      },
      "execution_count": 16,
      "outputs": []
    },
    {
      "cell_type": "code",
      "source": [
        "print('[x_train] mean after normalization:',x_train.mean())\n",
        "print('[x_train] std deviation after normalization:',x_train.std())\n",
        "print('[x_val] mean after normalization:',x_val.mean())\n",
        "print('[x_val] std deviation after normalization:',x_val.std())\n",
        "print('[x_test] mean after normalization:',x_test.mean())\n",
        "print('[x_test] std deviation after normalization:',x_test.std())"
      ],
      "metadata": {
        "colab": {
          "base_uri": "https://localhost:8080/"
        },
        "id": "p_CZPQ7HmnJn",
        "outputId": "0a211f2c-397a-471d-e412-35ecb588d926"
      },
      "execution_count": 17,
      "outputs": [
        {
          "output_type": "stream",
          "name": "stdout",
          "text": [
            "[x_train] mean after normalization: 3.6268384e-06\n",
            "[x_train] std deviation after normalization: 0.99999946\n",
            "[x_val] mean after normalization: 0.015060971316890999\n",
            "[x_val] std deviation after normalization: 1.003812804729597\n",
            "[x_test] mean after normalization: 0.03759160278959605\n",
            "[x_test] std deviation after normalization: 1.0072005145263712\n"
          ]
        }
      ]
    },
    {
      "cell_type": "markdown",
      "source": [
        "### <font color=\"darkblue\"> **6. Create mini batches function** </font>\n",
        ">>"
      ],
      "metadata": {
        "id": "RfvQtNZp7xpp"
      }
    },
    {
      "cell_type": "code",
      "source": [
        "#Data wll be shuffled by default unless specified in the arguments when invoking the function.\n",
        "def createMiniBatches(batchSize, x, y, shuffle = True):\n",
        "    #throw error if provided samples and number of results(classification do not match)\n",
        "    assert x.shape[0] == y.shape[0], 'ERROR:: Number of Samples and classification results do not match!!!'\n",
        "    dataCount = x.shape[0]\n",
        "    #Shuffle data using indexes as helpers to maintian correct mappiing between a row and its calssification.\n",
        "    if shuffle:\n",
        "        indexes = np.arange(dataCount)\n",
        "        np.random.shuffle(indexes)\n",
        "        x = x[indexes]\n",
        "        y = y[indexes]\n",
        "    # usea for loop to return n mini batches, using the batchSize parameters to set selection pacing.\n",
        "    return ((x[i:i+batchSize], y[i:i+batchSize]) for i in range(0, dataCount, batchSize))"
      ],
      "metadata": {
        "id": "w-5CRzVJ7zvx"
      },
      "execution_count": 18,
      "outputs": []
    },
    {
      "cell_type": "markdown",
      "source": [
        "### <font color=\"darkblue\"> **7. Create helper tensor class** </font>\n",
        ">>  AS numpy ndarray."
      ],
      "metadata": {
        "id": "ez4Kxx0_Wsvw"
      }
    },
    {
      "cell_type": "code",
      "source": [
        "class np_tensor(np.ndarray): pass"
      ],
      "metadata": {
        "id": "yQ6jSXMR8WPa"
      },
      "execution_count": 19,
      "outputs": []
    },
    {
      "cell_type": "markdown",
      "source": [
        "## <center><font color=\"darkorange\"> ***EQUATIONS*** </font></center>\n",
        "\n",
        "### <center> <font color=\"darkblue\"><b> Forward</b> </font></center>\n",
        "$$z^1 = W^1 X + b^1$$\n",
        "\n",
        "### <center> <font color=\"darkblue\"><b> ReLU</b> </font></center>\n",
        "$$a^1 = ReLU(z^1) $$\n",
        "\n",
        "### <center><font color=\"darkblue\"><b> Backward</b> </font></center>\n",
        "$$z^2 = W^2 a^1 + b^2$$\n",
        "\n",
        "### <center><font color=\"darkblue\"><b> SoftMax Activation function</b> </font></center>\n",
        "\n",
        "$$\\hat{y} = \\frac{e^{z^{2_k}}}{\\sum_j{e^{z_j}}}$$\n",
        "\n",
        "### <center><font color=\"darkblue\"><b> Cost Function</b> </font></center>\n",
        "\n",
        "$$ \\mathcal{L}(\\hat{y}^{i}, y^{i}) =  - y^{i}  \\ln(\\hat{y}^{i}) = -\\ln(\\hat{y}^i)$$\n",
        "\n",
        "\n",
        "$$ \\mathcal{J}(w, b) =  \\frac{1}{num\\_samples} \\sum_{i=1}^{num\\_samples}-\\ln(\\hat{y}^{i})$$"
      ],
      "metadata": {
        "id": "5ZPmL-GLXmNk"
      }
    },
    {
      "cell_type": "markdown",
      "source": [
        "### <font color=\"darkblue\"> **8. Create _Linear()_ class**</font>"
      ],
      "metadata": {
        "id": "XGu4DUH_XCX_"
      }
    },
    {
      "cell_type": "code",
      "source": [
        "class Linear():\n",
        "    def __init__(self, input_size, output_size):\n",
        "        self.W = (np.random.randn(output_size, input_size) / np.sqrt(input_size/2)).view(np_tensor)\n",
        "        self.b = (np.zeros((output_size, 1))).view(np_tensor) #view as np_tensor instance\n",
        "    # Forward fucntion of linear class\n",
        "    def __call__(self, X):\n",
        "        Z = self.W @ X + self.b\n",
        "        return Z\n",
        "    # Backward fucntion of linear class\n",
        "    def backward(self, X, Z):\n",
        "        X.grad = self.W.T @ Z.grad\n",
        "        self.W.grad = Z.grad @ X.T\n",
        "        self.b.grad = np.sum(Z.grad, axis = 1, keepdims=True)"
      ],
      "metadata": {
        "id": "PNFm7gd59boY"
      },
      "execution_count": 20,
      "outputs": []
    },
    {
      "cell_type": "markdown",
      "source": [
        "### <font color=\"darkblue\"> **9. Create activation funciton as SoftMax and _Cost_ function**</font>"
      ],
      "metadata": {
        "id": "DKkUMrv0ZHZ0"
      }
    },
    {
      "cell_type": "code",
      "source": [
        "def softmax(x, y):\n",
        "    #Number of records\n",
        "    xCount = x.shape[1]\n",
        "    #Calculate e to xn - applies to whole x\n",
        "    expX = np.exp(x)\n",
        "    #e(xn) over the sume of all e(x) values for the porbability\n",
        "    prob = expX / expX.sum(axis = 0)\n",
        "    # create a copy as predictions\n",
        "    preds = prob.copy()\n",
        "    # Cost f\n",
        "    y_pred = prob[y.squeeze(), np.arange(xCount)]\n",
        "    cost = np.sum(-np.log(y_pred)) / xCount\n",
        "    # Gradients\n",
        "    prob[y.squeeze(), np.arange(xCount)] -= 1 #dl/dx\n",
        "    x.grad = prob.copy()\n",
        "    #return predictions and cost\n",
        "    return preds, cost"
      ],
      "metadata": {
        "id": "SnTcLir39l6M"
      },
      "execution_count": 21,
      "outputs": []
    },
    {
      "cell_type": "markdown",
      "source": [
        "### <font color=\"darkblue\"> **10. ReLU function**</font>"
      ],
      "metadata": {
        "id": "eO76IdAAk8b2"
      }
    },
    {
      "cell_type": "code",
      "source": [
        "class ReLU():\n",
        "    def __call__(self, Z):\n",
        "        return np.maximum(0, Z)\n",
        "    def backward(self, Z, A):\n",
        "        Z.grad = A.grad.copy()\n",
        "        Z.grad[Z <= 0] = 0"
      ],
      "metadata": {
        "id": "e2u4AFfP9hyS"
      },
      "execution_count": 22,
      "outputs": []
    },
    {
      "cell_type": "markdown",
      "source": [
        "### <font color=\"darkblue\"> **11. SequentialLayers class for model definition**</font>"
      ],
      "metadata": {
        "id": "-t042QtQlAjL"
      }
    },
    {
      "cell_type": "code",
      "source": [
        "class SequentialLayers():\n",
        "    def __init__(self, layers):\n",
        "        self.layers = layers\n",
        "        self.x = None\n",
        "        self.outputs = {}\n",
        "    def __call__(self, X):\n",
        "        self.x = X\n",
        "        self.outputs['l0'] = self.x\n",
        "        for i, layer in enumerate(self.layers, 1):\n",
        "            self.x = layer(self.x)\n",
        "            self.outputs['l'+str(i)]=self.x\n",
        "        return self.x\n",
        "    def backward(self):\n",
        "        for i in reversed(range(len(self.layers))):\n",
        "            self.layers[i].backward(self.outputs['l'+str(i)], self.outputs['l'+str(i+1)])\n",
        "    def update(self, learning_rate = 1e-3):\n",
        "        for layer in self.layers:\n",
        "            if isinstance(layer, ReLU): continue\n",
        "            layer.W = layer.W - learning_rate * layer.W.grad\n",
        "            layer.b = layer.b - learning_rate * layer.b.grad\n",
        "    def predict(self, X):\n",
        "        return np.argmax(self.__call__(X))"
      ],
      "metadata": {
        "id": "dYfPjGMK9inA"
      },
      "execution_count": 23,
      "outputs": []
    },
    {
      "cell_type": "markdown",
      "source": [
        "### <font color=\"darkblue\"> **9. Acuuracy method**</font>\n",
        ">> Provide samples and their values, calculate accuracy based on the correct predicitons"
      ],
      "metadata": {
        "id": "m-K5s-8YkIOx"
      }
    },
    {
      "cell_type": "code",
      "source": [
        "def accuracy(x, y, batchSize):\n",
        "    #Count the total numbe of predictions and the correct predictions\n",
        "    correctPredictions = 0\n",
        "    totalPredictions = 0\n",
        "    for i, (x, y) in enumerate(createMiniBatches(batchSize, x, y)):\n",
        "        pred = model(x.T.view(np_tensor))\n",
        "        # Increase correct count if correct!\n",
        "        correctPredictions += np.sum(np.argmax(pred, axis=0) == y.squeeze())\n",
        "        # Increase performed predictions on each iterarion\n",
        "        totalPredictions += pred.shape[1]\n",
        "    #Calculate accuaracy as correct predictions over total caluclations\n",
        "    return correctPredictions/totalPredictions"
      ],
      "metadata": {
        "id": "yxPiLtSn9r7m"
      },
      "execution_count": 24,
      "outputs": []
    },
    {
      "cell_type": "markdown",
      "source": [
        "### <font color=\"darkblue\"> **9. Created training method**</font>\n",
        ">> Parametrized training data sets as:\n",
        "\n",
        ">>> *   _trainingSetX_\n",
        ">>> *   _trainingSetY_\n",
        "\n",
        ">> Parametrized validation data sets as:\n",
        "\n",
        ">>> *   _trainingSetX_\n",
        ">>> *   _trainingSetY_\n",
        "\n",
        ">> Parametrized size of batch as _batchSize_ (default to 1e-3)\n",
        "</br>\n",
        ">> Parametrized learning rate as _learnRate_ (default to 512)"
      ],
      "metadata": {
        "id": "MPZS-i03iW-e"
      }
    },
    {
      "cell_type": "code",
      "source": [
        "# Defined default value of the batch size as 512 - after some testing it was the most useful size for this problem.\n",
        "# Defined default learningRate of the batch size as 512 - after some testing it was the most useful size for this problem.\n",
        "\n",
        "# Added two parameters two set the training datasets, we can use this parameters to point to other datasets if needed.\n",
        "def train(model, epochs, trainingSetX, trainingSetY, validationSetX, validationSetY, batchSize=512, learnRate = 1e-3, ):\n",
        "    for epoch in range(epochs):\n",
        "        print('Running epoch [',epoch,']')\n",
        "        # train using minibatches generated from the x and y training sets\n",
        "        for i, (x, y) in enumerate(createMiniBatches(batchSize, trainingSetX, trainingSetY)):\n",
        "            scores = model(x.T.view(np_tensor))\n",
        "            _, cost = softmax(scores, y)\n",
        "            # Run backward and update model\n",
        "            model.backward()\n",
        "            model.update(learnRate)\n",
        "        # calcualte accuracy of the model against the validation sets\n",
        "        print(f'Costo[{cost}]    Accuracy[{accuracy(validationSetX, validationSetY, batchSize)}]')"
      ],
      "metadata": {
        "id": "dEHDdQWA9pYu"
      },
      "execution_count": 25,
      "outputs": []
    },
    {
      "cell_type": "markdown",
      "source": [
        "## <center><font color=\"darkorange\"> ***TRAINING*** </font></center>\n",
        "\n",
        ">> Set up our model using the sequentialLayers class\n",
        ">> set batch size, learning rate and number of epochs"
      ],
      "metadata": {
        "id": "2gbzFmi6ksJ8"
      }
    },
    {
      "cell_type": "code",
      "source": [
        "#use 24 classes for calssification\n",
        "model = SequentialLayers([Linear(784, 200), ReLU(), Linear(200, 200), ReLU(), Linear(200, 24)])\n",
        "batchSize = 512\n",
        "learningRate = 1e-4\n",
        "epochs = 30\n"
      ],
      "metadata": {
        "id": "rLDqLVfP9vaQ"
      },
      "execution_count": 26,
      "outputs": []
    },
    {
      "cell_type": "code",
      "source": [
        "train(model, epochs, x_train, y_train, x_val, y_val, batchSize, learningRate)"
      ],
      "metadata": {
        "colab": {
          "base_uri": "https://localhost:8080/"
        },
        "id": "VPX6PjgA9yrz",
        "outputId": "35036027-e131-4157-d095-0a1256e6dbc7"
      },
      "execution_count": 27,
      "outputs": [
        {
          "output_type": "stream",
          "name": "stdout",
          "text": [
            "Running epoch [ 0 ]\n",
            "Costo[1.107064628000422]    Accuracy[0.5422594142259414]\n",
            "Running epoch [ 1 ]\n",
            "Costo[0.5870143492399578]    Accuracy[0.6811715481171549]\n",
            "Running epoch [ 2 ]\n",
            "Costo[0.3439556204054032]    Accuracy[0.7218967921896792]\n",
            "Running epoch [ 3 ]\n",
            "Costo[0.21777112511172]    Accuracy[0.7525801952580196]\n",
            "Running epoch [ 4 ]\n",
            "Costo[0.13945260603930928]    Accuracy[0.7637377963737796]\n",
            "Running epoch [ 5 ]\n",
            "Costo[0.1173383773771185]    Accuracy[0.7684797768479776]\n",
            "Running epoch [ 6 ]\n",
            "Costo[0.07462395325003222]    Accuracy[0.7642956764295676]\n",
            "Running epoch [ 7 ]\n",
            "Costo[0.069273432135736]    Accuracy[0.7712691771269177]\n",
            "Running epoch [ 8 ]\n",
            "Costo[0.057603053797410486]    Accuracy[0.7779637377963737]\n",
            "Running epoch [ 9 ]\n",
            "Costo[0.04936902841783525]    Accuracy[0.7804741980474198]\n",
            "Running epoch [ 10 ]\n",
            "Costo[0.035633225503259196]    Accuracy[0.7754532775453278]\n",
            "Running epoch [ 11 ]\n",
            "Costo[0.03390829035614293]    Accuracy[0.7779637377963737]\n",
            "Running epoch [ 12 ]\n",
            "Costo[0.027432968631458363]    Accuracy[0.7757322175732217]\n",
            "Running epoch [ 13 ]\n",
            "Costo[0.026595950145040338]    Accuracy[0.7737796373779637]\n",
            "Running epoch [ 14 ]\n",
            "Costo[0.025220401530545195]    Accuracy[0.7818688981868899]\n",
            "Running epoch [ 15 ]\n",
            "Costo[0.020502570026691865]    Accuracy[0.7801952580195258]\n",
            "Running epoch [ 16 ]\n",
            "Costo[0.020210824313604287]    Accuracy[0.7790794979079498]\n",
            "Running epoch [ 17 ]\n",
            "Costo[0.01814577672866772]    Accuracy[0.7785216178521618]\n",
            "Running epoch [ 18 ]\n",
            "Costo[0.015387473137729677]    Accuracy[0.7801952580195258]\n",
            "Running epoch [ 19 ]\n",
            "Costo[0.014788687279619166]    Accuracy[0.7813110181311018]\n",
            "Running epoch [ 20 ]\n",
            "Costo[0.015752778243025498]    Accuracy[0.7818688981868899]\n",
            "Running epoch [ 21 ]\n",
            "Costo[0.013640757624124046]    Accuracy[0.7793584379358438]\n",
            "Running epoch [ 22 ]\n",
            "Costo[0.01189558137775028]    Accuracy[0.7810320781032078]\n",
            "Running epoch [ 23 ]\n",
            "Costo[0.010651831473205786]    Accuracy[0.7821478382147838]\n",
            "Running epoch [ 24 ]\n",
            "Costo[0.009938105827956192]    Accuracy[0.7815899581589958]\n",
            "Running epoch [ 25 ]\n",
            "Costo[0.011934727413500032]    Accuracy[0.7838214783821479]\n",
            "Running epoch [ 26 ]\n",
            "Costo[0.00980509501593406]    Accuracy[0.7835425383542538]\n",
            "Running epoch [ 27 ]\n",
            "Costo[0.00765689982849887]    Accuracy[0.7829846582984659]\n",
            "Running epoch [ 28 ]\n",
            "Costo[0.009862558566231968]    Accuracy[0.7846582984658298]\n",
            "Running epoch [ 29 ]\n",
            "Costo[0.008130298114577968]    Accuracy[0.7835425383542538]\n"
          ]
        }
      ]
    },
    {
      "cell_type": "markdown",
      "source": [
        "#<center><font color=\"darkorange\"> ***TEST OUR METHOD USING THE TEST SETS:: CALCUALTE ACCURACY*** </font></center>"
      ],
      "metadata": {
        "id": "I0rijdLGlaqC"
      }
    },
    {
      "cell_type": "code",
      "source": [
        "print(accuracy(x_test, y_test, batchSize))"
      ],
      "metadata": {
        "colab": {
          "base_uri": "https://localhost:8080/"
        },
        "id": "smFwt5Hc92O9",
        "outputId": "c9e5fb0f-6d1b-4631-a7f7-c94e1b193674"
      },
      "execution_count": 28,
      "outputs": [
        {
          "output_type": "stream",
          "name": "stdout",
          "text": [
            "0.7855549358616843\n"
          ]
        }
      ]
    },
    {
      "cell_type": "markdown",
      "source": [
        "### <center><font color=\"darkorange\"> Use our model to make a prediction of one of our test samples and copare against the acutal result."
      ],
      "metadata": {
        "id": "1T169XdaloXO"
      }
    },
    {
      "cell_type": "code",
      "source": [
        "idx = np.random.randint(len(y_test))\n",
        "plot_ASL(x_test_raw[idx,])\n",
        "pred = model.predict(x_test[idx].reshape(-1, 1))\n",
        "print(f'Predicted values as: [{pred}], Actual value as [{y_test[idx][0]}]')"
      ],
      "metadata": {
        "colab": {
          "base_uri": "https://localhost:8080/",
          "height": 437
        },
        "id": "A2sVfM3l96gY",
        "outputId": "c37b0459-2ef9-4366-bd9e-a374cf0ad0b5"
      },
      "execution_count": 29,
      "outputs": [
        {
          "output_type": "display_data",
          "data": {
            "text/plain": [
              "<Figure size 500x500 with 1 Axes>"
            ],
            "image/png": "[encoded data removed]"
          },
          "metadata": {}
        },
        {
          "output_type": "stream",
          "name": "stdout",
          "text": [
            "Predicted values as: [12], Actual value as [12]\n"
          ]
        }
      ]
    },
    {
      "cell_type": "markdown",
      "source": [
        "SOME TESTS USING DIFFERENT NUMBER OF LAYERS"
      ],
      "metadata": {
        "id": "TDKxahpFqOou"
      }
    },
    {
      "cell_type": "code",
      "source": [
        "model = SequentialLayers([Linear(784, 100), ReLU(), Linear(100, 100), ReLU(), Linear(100, 24)])\n",
        "batchSize = 512\n",
        "learningRate = 1e-4\n",
        "epochs = 30"
      ],
      "metadata": {
        "id": "7TkXkzQ8ozIj"
      },
      "execution_count": 30,
      "outputs": []
    },
    {
      "cell_type": "code",
      "source": [
        "train(model, epochs, x_train, y_train, x_val, y_val, batchSize, learningRate)"
      ],
      "metadata": {
        "colab": {
          "base_uri": "https://localhost:8080/"
        },
        "id": "xrFAfFUloxdj",
        "outputId": "77dc4c9e-0aac-486c-a656-ab603ef0f7ce"
      },
      "execution_count": 31,
      "outputs": [
        {
          "output_type": "stream",
          "name": "stdout",
          "text": [
            "Running epoch [ 0 ]\n",
            "Costo[1.3169565827995584]    Accuracy[0.4884239888423989]\n",
            "Running epoch [ 1 ]\n",
            "Costo[0.7429735319183495]    Accuracy[0.6223152022315203]\n",
            "Running epoch [ 2 ]\n",
            "Costo[0.4582524012171761]    Accuracy[0.6814504881450488]\n",
            "Running epoch [ 3 ]\n",
            "Costo[0.27857242677140226]    Accuracy[0.7082287308228731]\n",
            "Running epoch [ 4 ]\n",
            "Costo[0.2200169983003576]    Accuracy[0.7199442119944212]\n",
            "Running epoch [ 5 ]\n",
            "Costo[0.15781477439741162]    Accuracy[0.7224546722454672]\n",
            "Running epoch [ 6 ]\n",
            "Costo[0.12487160434435217]    Accuracy[0.7316596931659693]\n",
            "Running epoch [ 7 ]\n",
            "Costo[0.0825893170526766]    Accuracy[0.7319386331938633]\n",
            "Running epoch [ 8 ]\n",
            "Costo[0.07849595531335708]    Accuracy[0.7316596931659693]\n",
            "Running epoch [ 9 ]\n",
            "Costo[0.0608624577061071]    Accuracy[0.7330543933054393]\n",
            "Running epoch [ 10 ]\n",
            "Costo[0.05426564171380105]    Accuracy[0.7377963737796374]\n",
            "Running epoch [ 11 ]\n",
            "Costo[0.0487437353005041]    Accuracy[0.7411436541143654]\n",
            "Running epoch [ 12 ]\n",
            "Costo[0.039882143406550025]    Accuracy[0.7358437935843793]\n",
            "Running epoch [ 13 ]\n",
            "Costo[0.03677786520503939]    Accuracy[0.7319386331938633]\n",
            "Running epoch [ 14 ]\n",
            "Costo[0.03146174883819177]    Accuracy[0.7436541143654114]\n",
            "Running epoch [ 15 ]\n",
            "Costo[0.02677316518896878]    Accuracy[0.7394700139470014]\n",
            "Running epoch [ 16 ]\n",
            "Costo[0.025889881361605988]    Accuracy[0.7391910739191074]\n",
            "Running epoch [ 17 ]\n",
            "Costo[0.023875048427817003]    Accuracy[0.7389121338912134]\n",
            "Running epoch [ 18 ]\n",
            "Costo[0.022993348211936267]    Accuracy[0.7403068340306834]\n",
            "Running epoch [ 19 ]\n",
            "Costo[0.017704787239402685]    Accuracy[0.7414225941422594]\n",
            "Running epoch [ 20 ]\n",
            "Costo[0.018113539774293114]    Accuracy[0.7428172942817294]\n",
            "Running epoch [ 21 ]\n",
            "Costo[0.016068304862388874]    Accuracy[0.7414225941422594]\n",
            "Running epoch [ 22 ]\n",
            "Costo[0.015468571495700521]    Accuracy[0.7408647140864714]\n",
            "Running epoch [ 23 ]\n",
            "Costo[0.013464383264723736]    Accuracy[0.7386331938633194]\n",
            "Running epoch [ 24 ]\n",
            "Costo[0.012583125216230869]    Accuracy[0.7389121338912134]\n",
            "Running epoch [ 25 ]\n",
            "Costo[0.012201851050337088]    Accuracy[0.7403068340306834]\n",
            "Running epoch [ 26 ]\n",
            "Costo[0.01110918121282236]    Accuracy[0.7400278940027895]\n",
            "Running epoch [ 27 ]\n",
            "Costo[0.011233434416100205]    Accuracy[0.7408647140864714]\n",
            "Running epoch [ 28 ]\n",
            "Costo[0.010896250257402694]    Accuracy[0.7403068340306834]\n",
            "Running epoch [ 29 ]\n",
            "Costo[0.01000901044957737]    Accuracy[0.7408647140864714]\n"
          ]
        }
      ]
    },
    {
      "cell_type": "code",
      "source": [
        "print(accuracy(x_test, y_test, batchSize))"
      ],
      "metadata": {
        "colab": {
          "base_uri": "https://localhost:8080/"
        },
        "id": "-cnMn-rupabD",
        "outputId": "db2d8235-cc30-48cf-aaef-8e5261f672a6"
      },
      "execution_count": 32,
      "outputs": [
        {
          "output_type": "stream",
          "name": "stdout",
          "text": [
            "0.7384272169548243\n"
          ]
        }
      ]
    },
    {
      "cell_type": "code",
      "source": [
        "model = SequentialLayers([Linear(784, 300), ReLU(), Linear(300, 300), ReLU(), Linear(300, 24)])\n",
        "batchSize = 512\n",
        "learningRate = 1e-4\n",
        "epochs = 30"
      ],
      "metadata": {
        "id": "wasz_RIUpns8"
      },
      "execution_count": 33,
      "outputs": []
    },
    {
      "cell_type": "code",
      "source": [
        "train(model, epochs, x_train, y_train, x_val, y_val, batchSize, learningRate)"
      ],
      "metadata": {
        "colab": {
          "base_uri": "https://localhost:8080/"
        },
        "id": "gVwwy7GrptS6",
        "outputId": "86cde8c8-6990-4022-97d6-3be232025a12"
      },
      "execution_count": 34,
      "outputs": [
        {
          "output_type": "stream",
          "name": "stdout",
          "text": [
            "Running epoch [ 0 ]\n",
            "Costo[1.0581376760829397]    Accuracy[0.59860529986053]\n",
            "Running epoch [ 1 ]\n",
            "Costo[0.49730823674856856]    Accuracy[0.6850767085076709]\n",
            "Running epoch [ 2 ]\n",
            "Costo[0.27862035806008145]    Accuracy[0.705718270571827]\n",
            "Running epoch [ 3 ]\n",
            "Costo[0.19679551841501572]    Accuracy[0.7146443514644352]\n",
            "Running epoch [ 4 ]\n",
            "Costo[0.11664255047921547]    Accuracy[0.7271966527196653]\n",
            "Running epoch [ 5 ]\n",
            "Costo[0.10218028414039641]    Accuracy[0.7297071129707113]\n",
            "Running epoch [ 6 ]\n",
            "Costo[0.07072614858854127]    Accuracy[0.7380753138075313]\n",
            "Running epoch [ 7 ]\n",
            "Costo[0.07084955608710507]    Accuracy[0.7447698744769874]\n",
            "Running epoch [ 8 ]\n",
            "Costo[0.04786316904471756]    Accuracy[0.7442119944211995]\n",
            "Running epoch [ 9 ]\n",
            "Costo[0.038347191090323834]    Accuracy[0.7453277545327754]\n",
            "Running epoch [ 10 ]\n",
            "Costo[0.03428653999125217]    Accuracy[0.7509065550906555]\n",
            "Running epoch [ 11 ]\n",
            "Costo[0.030148500769001583]    Accuracy[0.7500697350069735]\n",
            "Running epoch [ 12 ]\n",
            "Costo[0.02679772930042822]    Accuracy[0.7497907949790795]\n",
            "Running epoch [ 13 ]\n",
            "Costo[0.023391767349209912]    Accuracy[0.7525801952580196]\n",
            "Running epoch [ 14 ]\n",
            "Costo[0.021046479091788015]    Accuracy[0.7545327754532776]\n",
            "Running epoch [ 15 ]\n",
            "Costo[0.02120029091673645]    Accuracy[0.7542538354253835]\n",
            "Running epoch [ 16 ]\n",
            "Costo[0.015702070668554377]    Accuracy[0.7542538354253835]\n",
            "Running epoch [ 17 ]\n",
            "Costo[0.018047041550262048]    Accuracy[0.7553695955369596]\n",
            "Running epoch [ 18 ]\n",
            "Costo[0.015357810073208264]    Accuracy[0.7559274755927475]\n",
            "Running epoch [ 19 ]\n",
            "Costo[0.013349574684369777]    Accuracy[0.7559274755927475]\n",
            "Running epoch [ 20 ]\n",
            "Costo[0.013207461134183975]    Accuracy[0.7581589958158996]\n",
            "Running epoch [ 21 ]\n",
            "Costo[0.010064570847267194]    Accuracy[0.7576011157601116]\n",
            "Running epoch [ 22 ]\n",
            "Costo[0.010463282733747607]    Accuracy[0.7564853556485356]\n",
            "Running epoch [ 23 ]\n",
            "Costo[0.011437876102844502]    Accuracy[0.7581589958158996]\n",
            "Running epoch [ 24 ]\n",
            "Costo[0.010557651775968003]    Accuracy[0.7570432357043235]\n",
            "Running epoch [ 25 ]\n",
            "Costo[0.010730545607615367]    Accuracy[0.7578800557880055]\n",
            "Running epoch [ 26 ]\n",
            "Costo[0.00902643339587816]    Accuracy[0.7567642956764296]\n",
            "Running epoch [ 27 ]\n",
            "Costo[0.007730089699006697]    Accuracy[0.7576011157601116]\n",
            "Running epoch [ 28 ]\n",
            "Costo[0.008240962979103417]    Accuracy[0.7581589958158996]\n",
            "Running epoch [ 29 ]\n",
            "Costo[0.008243589341767018]    Accuracy[0.7581589958158996]\n"
          ]
        }
      ]
    },
    {
      "cell_type": "code",
      "source": [
        "print(accuracy(x_test, y_test, batchSize))"
      ],
      "metadata": {
        "colab": {
          "base_uri": "https://localhost:8080/"
        },
        "id": "mpVpaXZIpvt3",
        "outputId": "3d271467-d0af-4c50-b11f-1969f3986f70"
      },
      "execution_count": 35,
      "outputs": [
        {
          "output_type": "stream",
          "name": "stdout",
          "text": [
            "0.7635248187395427\n"
          ]
        }
      ]
    },
    {
      "cell_type": "code",
      "source": [],
      "metadata": {
        "id": "6Lqjs6JvqKo8"
      },
      "execution_count": 35,
      "outputs": []
    }
  ]
}