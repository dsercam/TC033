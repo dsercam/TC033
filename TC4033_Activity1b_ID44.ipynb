{
  "nbformat": 4,
  "nbformat_minor": 0,
  "metadata": {
    "colab": {
      "provenance": [],
      "authorship_tag": "ABX9TyM1wvsXhmzCZH3GBkA6Zaoe",
      "include_colab_link": true
    },
    "kernelspec": {
      "name": "python3",
      "display_name": "Python 3"
    },
    "language_info": {
      "name": "python"
    }
  },
  "cells": [
    {
      "cell_type": "markdown",
      "metadata": {
        "id": "view-in-github",
        "colab_type": "text"
      },
      "source": [
        "<a href=\"https://colab.research.google.com/github/dsercam/TC033/blob/main/TC4033_Activity1b_ID44.ipynb\" target=\"_parent\"><img src=\"https://colab.research.google.com/assets/colab-badge.svg\" alt=\"Open In Colab\"/></a>"
      ]
    },
    {
      "cell_type": "code",
      "source": [
        "import pandas as pd\n",
        "import requests\n",
        "from io import StringIO"
      ],
      "metadata": {
        "id": "lK6nrMPKjpyK"
      },
      "execution_count": 5,
      "outputs": []
    },
    {
      "cell_type": "code",
      "execution_count": 6,
      "metadata": {
        "id": "rkClsa22eaFb"
      },
      "outputs": [],
      "source": [
        "url = 'https://drive.google.com/uc?export=download&id=1ttUEqCDuNFIenzrr4kMCHkbvBIy9fHmy'\n",
        "ASLTrainSet = requests.get(url)\n",
        "\n",
        "url = 'https://drive.google.com/uc?export=download&id=1mbEOJQKvhw41DpBzBB9PSfPr3IsngfA7'\n",
        "ASLValidationSet = requests.get(url)"
      ]
    },
    {
      "cell_type": "code",
      "source": [
        "trainingAsText = StringIO(ASLTrainSet.text)\n",
        "validationAsText = StringIO(ASLValidationSet.text)\n",
        "\n",
        "trainingDf = pd.read_csv(trainingAsText)\n",
        "validationDf = pd.read_csv(validationAsText)"
      ],
      "metadata": {
        "id": "OPXk434LkNKC"
      },
      "execution_count": 7,
      "outputs": []
    },
    {
      "cell_type": "markdown",
      "source": [
        "Training Dataset size:\n",
        "</br> 21,552,175"
      ],
      "metadata": {
        "id": "JQ_74qpyocyx"
      }
    },
    {
      "cell_type": "code",
      "source": [
        "trCount = trainingDf.size\n",
        "trCount"
      ],
      "metadata": {
        "colab": {
          "base_uri": "https://localhost:8080/"
        },
        "id": "L2mERNLJnnbZ",
        "outputId": "3897999a-e1d3-4197-f002-d041ec26b2c6"
      },
      "execution_count": 14,
      "outputs": [
        {
          "output_type": "execute_result",
          "data": {
            "text/plain": [
              "21552175"
            ]
          },
          "metadata": {},
          "execution_count": 14
        }
      ]
    },
    {
      "cell_type": "markdown",
      "source": [
        "Training Dataset size:\n",
        "</br> 5,630,020"
      ],
      "metadata": {
        "id": "OY9x-oNPoocQ"
      }
    },
    {
      "cell_type": "code",
      "source": [
        "valCount = validationDf.size\n",
        "valCount"
      ],
      "metadata": {
        "colab": {
          "base_uri": "https://localhost:8080/"
        },
        "id": "jZ84NsGqkftH",
        "outputId": "84d84bfe-1ce8-4db7-ae17-e92bbfc0682f"
      },
      "execution_count": 15,
      "outputs": [
        {
          "output_type": "execute_result",
          "data": {
            "text/plain": [
              "5630020"
            ]
          },
          "metadata": {},
          "execution_count": 15
        }
      ]
    },
    {
      "cell_type": "code",
      "source": [
        "totalSamples = trCount + valCount\n",
        "(trCount*100)/totalSamples"
      ],
      "metadata": {
        "colab": {
          "base_uri": "https://localhost:8080/"
        },
        "id": "wiBaSEl2khcO",
        "outputId": "1f85150f-12de-42a5-886a-770a3dfa0df0"
      },
      "execution_count": 19,
      "outputs": [
        {
          "output_type": "execute_result",
          "data": {
            "text/plain": [
              "79.2878389695902"
            ]
          },
          "metadata": {},
          "execution_count": 19
        }
      ]
    },
    {
      "cell_type": "code",
      "source": [
        "totalSamples = trCount + valCount\n",
        "(valCount*100)/totalSamples"
      ],
      "metadata": {
        "colab": {
          "base_uri": "https://localhost:8080/"
        },
        "id": "FcH1hscppRlY",
        "outputId": "23ffd9d9-0de4-4724-e4c3-12bee761032f"
      },
      "execution_count": 21,
      "outputs": [
        {
          "output_type": "execute_result",
          "data": {
            "text/plain": [
              "20.712161030409796"
            ]
          },
          "metadata": {},
          "execution_count": 21
        }
      ]
    },
    {
      "cell_type": "code",
      "source": [],
      "metadata": {
        "id": "HuD_kiRBpk1b"
      },
      "execution_count": null,
      "outputs": []
    }
  ]
}