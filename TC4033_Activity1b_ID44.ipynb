{
  "nbformat": 4,
  "nbformat_minor": 0,
  "metadata": {
    "colab": {
      "provenance": [],
      "include_colab_link": true
    },
    "kernelspec": {
      "name": "python3",
      "display_name": "Python 3"
    },
    "language_info": {
      "name": "python"
    }
  },
  "cells": [
    {
      "cell_type": "markdown",
      "metadata": {
        "id": "view-in-github",
        "colab_type": "text"
      },
      "source": [
        "<a href=\"https://colab.research.google.com/github/dsercam/TC033/blob/main/TC4033_Activity1b_ID44.ipynb\" target=\"_parent\"><img src=\"https://colab.research.google.com/assets/colab-badge.svg\" alt=\"Open In Colab\"/></a>"
      ]
    },
    {
      "cell_type": "markdown",
      "source": [
        "#<font color='darkorange'><b> TC 5033 :: Advanced Machine Learning Methods </b> </font>\n",
        "### <font color='darkgray'><b> Activity 1B :: Implementing a Fully Connected Network for *Kaggle ASL Dataset* </b></font></br></br>\n",
        "###<font color='darkblue'><b>  Group 44 </b></font>\n",
        "***Dante Rodrigo Serna Camarillo A01182676***"
      ],
      "metadata": {
        "id": "xFnLeTs8NHhG"
      }
    },
    {
      "cell_type": "code",
      "source": [
        "import pandas as pd\n",
        "import requests\n",
        "from io import StringIO\n",
        "import numpy as np\n",
        "import string\n",
        "import matplotlib.pyplot as plt\n",
        "import cv2 as cv\n",
        "import os\n",
        "import math"
      ],
      "metadata": {
        "id": "lK6nrMPKjpyK"
      },
      "execution_count": 1,
      "outputs": []
    },
    {
      "cell_type": "markdown",
      "source": [
        "### <font color=\"darkblue\"> **1. Import data set** </font>\n",
        ">>Data sets were loaded into Google drive and exposed to the public.\n",
        "</br>\n",
        ">>Then we use the *requests* method to retrieve the files using the downloads URLs."
      ],
      "metadata": {
        "id": "EYDA7CKEOS46"
      }
    },
    {
      "cell_type": "code",
      "execution_count": 2,
      "metadata": {
        "id": "rkClsa22eaFb"
      },
      "outputs": [],
      "source": [
        "url = 'https://drive.google.com/uc?export=download&id=1ttUEqCDuNFIenzrr4kMCHkbvBIy9fHmy'\n",
        "ASLTrainSet = requests.get(url)\n",
        "\n",
        "url = 'https://drive.google.com/uc?export=download&id=1mbEOJQKvhw41DpBzBB9PSfPr3IsngfA7'\n",
        "ASLValidationSet = requests.get(url)"
      ]
    },
    {
      "cell_type": "markdown",
      "source": [
        ">> Get the streamed data into a String format, then read it as CSV format using *read_csv*, assign them to two data frames.\n",
        "</Br>\n",
        ">>> 1. <font color=\"darkorange\"><b> *trainingDf* </b></font> contains the data of the training file\n",
        ">>> 2. <font color=\"darkorange\"><b> *validationDf* </b></font> contains the data of the validation file\n",
        "\n",
        "\n"
      ],
      "metadata": {
        "id": "zMSs75XtPebc"
      }
    },
    {
      "cell_type": "code",
      "source": [
        "trainingAsText = StringIO(ASLTrainSet.text)\n",
        "validationAsText = StringIO(ASLValidationSet.text)\n",
        "\n",
        "trainingDf = pd.read_csv(trainingAsText)\n",
        "validationDf = pd.read_csv(validationAsText)"
      ],
      "metadata": {
        "id": "OPXk434LkNKC"
      },
      "execution_count": 3,
      "outputs": []
    },
    {
      "cell_type": "markdown",
      "source": [
        ">> We can see the size of both sets."
      ],
      "metadata": {
        "id": "Hz0Yc7S5FQFl"
      }
    },
    {
      "cell_type": "code",
      "source": [
        "print('Training set shape :: ',trainingDf.shape)\n",
        "print('Validation set shape :: ',validationDf.shape)\n"
      ],
      "metadata": {
        "colab": {
          "base_uri": "https://localhost:8080/"
        },
        "id": "26xOokaI0j1Y",
        "outputId": "9f586ff9-456f-4ef0-854e-f5d6c00adea2"
      },
      "execution_count": 4,
      "outputs": [
        {
          "output_type": "stream",
          "name": "stdout",
          "text": [
            "Training set shape ::  (27455, 785)\n",
            "Validation set shape ::  (7172, 785)\n"
          ]
        }
      ]
    },
    {
      "cell_type": "markdown",
      "source": [
        "### <font color=\"darkblue\"> **2. Clean Up data frames.** </font>\n",
        ">>> Extract classification (*labels* column in both dataframes)\n",
        ">>> After getting the classification, remove the link *label* column on both dataframes. This will only leave pixels information\n",
        "</br>\n",
        ">>> **y_train** :: (y) traning vector\n",
        "</br>\n",
        ">>> **y_validation** :: (y) validation vector"
      ],
      "metadata": {
        "id": "raj7AfO1uAvq"
      }
    },
    {
      "cell_type": "code",
      "source": [
        "#Obtain classification for (y) for both sets on separate arrays\n",
        "y_train = np.array(trainingDf['label'])\n",
        "y_validation = np.array(validationDf['label'])\n",
        "\n",
        "# Remove [label] column in both data frames\n",
        "del trainingDf['label']\n",
        "del validationDf['label']\n",
        "\n",
        "#set data type as float in order to process it\n",
        "x_train = trainingDf.values.astype(np.float32)\n",
        "x_validation = validationDf.values.astype(np.float32)"
      ],
      "metadata": {
        "id": "mjYLSlitrhI9"
      },
      "execution_count": 7,
      "outputs": []
    },
    {
      "cell_type": "markdown",
      "source": [
        "### <font color=\"darkblue\"> **3. Prepare plotting function.** </font>\n",
        ">> Plot will help us graph an entry to see the ASL symbol."
      ],
      "metadata": {
        "id": "9CBUzrYHGX6s"
      }
    },
    {
      "cell_type": "code",
      "source": [
        "def plot_ASL(image):\n",
        "    #pixels = trainingDf.iloc[n,].to_numpy().astype('uint8') #this could have been used to parametrize the method in a different way.\n",
        "    pixels = image.astype('uint8') # set type to uint8 for it to be graphed properly\n",
        "    pixels = pixels.reshape(28,28) # reshape the row to (28x28)\n",
        "    plt.figure(figsize=(5,5))\n",
        "    plt.imshow(pixels.squeeze(), cmap=plt.get_cmap('gray'))\n",
        "    plt.axis('off')\n",
        "    plt.show()"
      ],
      "metadata": {
        "id": "hDj3f_9NlctU"
      },
      "execution_count": 8,
      "outputs": []
    },
    {
      "cell_type": "markdown",
      "source": [
        "\n",
        ">> Testing our plotting function using a random index."
      ],
      "metadata": {
        "id": "_IBOqzNDHJB4"
      }
    },
    {
      "cell_type": "code",
      "source": [
        "rnd_idx = np.random.randint(len(y_validation))\n",
        "print(f'ASL Symbol: {y_validation[rnd_idx, ]}')\n",
        "plot_ASL(x_validation[rnd_idx,])"
      ],
      "metadata": {
        "colab": {
          "base_uri": "https://localhost:8080/",
          "height": 437
        },
        "id": "9nplynY-qx4k",
        "outputId": "48f3b25f-d1cb-43d6-eebd-5e387289d2cc"
      },
      "execution_count": 9,
      "outputs": [
        {
          "output_type": "stream",
          "name": "stdout",
          "text": [
            "ASL Symbol: 8\n"
          ]
        },
        {
          "output_type": "display_data",
          "data": {
            "text/plain": [
              "<Figure size 500x500 with 1 Axes>"
            ],
            "image/png": "[encoded data removed]"
          },
          "metadata": {}
        }
      ]
    },
    {
      "cell_type": "markdown",
      "source": [
        "### <font color=\"darkblue\"> **4. About the datasets.** </font>\n",
        ">> Some information about our datasets:\n",
        ">>> **Current distribution:**\n"
      ],
      "metadata": {
        "id": "hAZ7e5a1IoPc"
      }
    },
    {
      "cell_type": "code",
      "source": [
        "totalSamples = trainingDf.shape[0] + validationDf.shape[0] # total samples, including both sets\n",
        "print('Current distirbution of our datasets:')\n",
        "print(' Size of the training set: ',round((trainingDf.shape[0] *100)/totalSamples,2),'%')\n",
        "print(' Size of the validation set: ',round((validationDf.shape[0]*100)/totalSamples,2),'%')"
      ],
      "metadata": {
        "colab": {
          "base_uri": "https://localhost:8080/"
        },
        "id": "wiBaSEl2khcO",
        "outputId": "15451d79-c47b-49ef-c505-6058afda7cc0"
      },
      "execution_count": 14,
      "outputs": [
        {
          "output_type": "stream",
          "name": "stdout",
          "text": [
            "Current distirbution of our datasets:\n",
            " Size of the training set:  79.29 %\n",
            " Size of the validation set:  20.71 %\n"
          ]
        }
      ]
    },
    {
      "cell_type": "markdown",
      "source": [
        "### <font color=\"darkblue\"> **4.1 Create function to split a dataset given a percentage** </font>\n",
        "> We will use this function to split our order *validation* set into two new sets, a new *test* set and a *validation* set.\n",
        ">> - Method splits dataset in half (50%) by default. Parameter is defined as *pct* at method signature.\n",
        "</br>\n",
        ">> - Method shuffles given data set by default. Parameter is defined as *shuffle* at method signature."
      ],
      "metadata": {
        "id": "gS0muhNBK6tH"
      }
    },
    {
      "cell_type": "code",
      "source": [
        "def split_val_test(x, y, pct=0.5, shuffle=True):\n",
        "    #Validate the size of provided arguments, stop processing if number of records does not match.\n",
        "    #Throws error if samples and y vector does not match.\n",
        "    assert x.shape[0] == y.shape[0], 'Dataframe does not contain the same numer of records as Y (validation array)'\n",
        "\n",
        "    # Number of samples, log to output\n",
        "    dataCount = x.shape[0]\n",
        "    print('Samples size as ', dataCount)\n",
        "\n",
        "    #shuffle depending on shuffle parameter, shuffle True by default on method signature\n",
        "    if shuffle:\n",
        "        #generate a ndarray that conatins an entry/index for each row of the data\n",
        "        idxs = np.arange(dataCount)\n",
        "        #Shuffle the indexes\n",
        "        np.random.shuffle(idxs)\n",
        "        x = x[idxs]\n",
        "        y = y[idxs]\n",
        "\n",
        "    #Describe how are going to split the given data set, based on the provided pct parameter.\n",
        "    #If the PCT does not result in a intger count, we round up to the next integer.\n",
        "    print('Will split data set at ', pct ,'%.')\n",
        "    if((dataCount*pct).is_integer()) : print(pct, '% of the total records = ',dataCount*pct)\n",
        "    else: print(pct, '% of the total records = ',dataCount*pct, ' will round up to next integer (',math.ceil(dataCount*pct),').')\n",
        "\n",
        "    #creat a copy of the data set (both the samples and y vector), these structures will be used as the 'test' sets.\n",
        "    x_test = x.copy()\n",
        "    y_test = y.copy()\n",
        "\n",
        "    x_val = x[:math.ceil(dataCount*pct)-1].reshape(math.ceil(dataCount*pct)-1, -1).astype(float)\n",
        "    y_val = y[:math.ceil(dataCount*pct)-1].reshape(math.ceil(dataCount*pct)-1, 1)\n",
        "\n",
        "    x_test = x_test[math.trunc(dataCount*pct):].reshape(math.ceil(dataCount*pct), -1).astype(float)\n",
        "    y_test = y_test[math.trunc(dataCount*pct):].reshape(math.ceil(dataCount*pct), 1)\n",
        "    pass\n",
        "    #return validation sets, followed by test sets\n",
        "    return x_val, y_val, x_test, y_test\n"
      ],
      "metadata": {
        "id": "8ONFOoT3rn3h"
      },
      "execution_count": 15,
      "outputs": []
    },
    {
      "cell_type": "markdown",
      "source": [
        "### <font color=\"darkblue\"> **4.2 Use the _split_val_test()_ function to split our validation set into a validation and testing data sets** </font>\n"
      ],
      "metadata": {
        "id": "Ly1xQDmZOQnq"
      }
    },
    {
      "cell_type": "code",
      "source": [
        "x_val, y_val, x_test, y_test = split_val_test(x_validation, y_validation)"
      ],
      "metadata": {
        "colab": {
          "base_uri": "https://localhost:8080/"
        },
        "id": "Udv3PK8iwvfB",
        "outputId": "e2f3548b-b4da-4460-b252-080e599bf83a"
      },
      "execution_count": 16,
      "outputs": [
        {
          "output_type": "stream",
          "name": "stdout",
          "text": [
            "Samples size as  7172\n",
            "Will split data set at  0.5 %.\n",
            "0.5 % of the total records =  3586.0\n"
          ]
        }
      ]
    },
    {
      "cell_type": "markdown",
      "source": [
        ">> - Our final distibution of data sets as:"
      ],
      "metadata": {
        "id": "BoH3U8AFOwfV"
      }
    },
    {
      "cell_type": "code",
      "source": [
        "print('[Y] Training set shape: ',y_train.shape)\n",
        "print('[x] Training set shape: ',x_train.shape)\n",
        "print('[Y] Validation set shape: ',y_val.shape)\n",
        "print('[x] validation set shape: ',x_val.shape)\n",
        "print('[Y] Test set shape: ',y_test.shape)\n",
        "print('[x] Test set shape: ',x_test.shape)"
      ],
      "metadata": {
        "colab": {
          "base_uri": "https://localhost:8080/"
        },
        "id": "CP0DqERfEGok",
        "outputId": "c1d383b2-5337-42df-8dae-6a65b690982a"
      },
      "execution_count": 17,
      "outputs": [
        {
          "output_type": "stream",
          "name": "stdout",
          "text": [
            "[Y] Training set shape:  (27455,)\n",
            "[x] Training set shape:  (27455, 784)\n",
            "[Y] Validation set shape:  (3585, 1)\n",
            "[x] validation set shape:  (3585, 784)\n",
            "[Y] Test set shape:  (3586, 1)\n",
            "[x] Test set shape:  (3586, 784)\n"
          ]
        }
      ]
    },
    {
      "cell_type": "markdown",
      "source": [
        ">> Execute this as per the provided instructions, will remove 'j' and 'z' symbols\n",
        "</br>\n",
        ">> This results in having a total of 24 classes."
      ],
      "metadata": {
        "id": "yNYR6XCFPtnl"
      }
    },
    {
      "cell_type": "code",
      "source": [
        "alphabet=list(string.ascii_lowercase)\n",
        "alphabet.remove('j')\n",
        "alphabet.remove('z')\n",
        "print('Number of classes: ',len(alphabet))"
      ],
      "metadata": {
        "colab": {
          "base_uri": "https://localhost:8080/"
        },
        "id": "Y7Lqgs5PieI6",
        "outputId": "ebc39833-f430-4621-c653-b6597de8ee12"
      },
      "execution_count": 19,
      "outputs": [
        {
          "output_type": "stream",
          "name": "stdout",
          "text": [
            "Number of classes:  24\n"
          ]
        }
      ]
    },
    {
      "cell_type": "markdown",
      "source": [
        "### <font color=\"darkblue\"> **5. Normalize data** </font>\n",
        ">> Normalization will be applied using mean and std of the training data set."
      ],
      "metadata": {
        "id": "xS2v7huWQNbp"
      }
    },
    {
      "cell_type": "code",
      "source": [
        "print('Current mean (training data set):', x_train.mean())\n",
        "print('Current standard deviation (training data set):', x_train.std())"
      ],
      "metadata": {
        "colab": {
          "base_uri": "https://localhost:8080/"
        },
        "id": "yEkM860Kknb5",
        "outputId": "4623e8e5-65ce-4d72-a99d-4970f70bb41f"
      },
      "execution_count": 20,
      "outputs": [
        {
          "output_type": "stream",
          "name": "stdout",
          "text": [
            "Current mean (training data set): 159.29083\n",
            "Current standard deviation (training data set): 48.76953\n"
          ]
        }
      ]
    },
    {
      "cell_type": "markdown",
      "source": [
        ">> Create function to normalize data sets.\n",
        "</br>"
      ],
      "metadata": {
        "id": "GbGp8NDNRboY"
      }
    },
    {
      "cell_type": "code",
      "source": [
        "#parameters include the mean, standard deviation and the data structure to normalize.\n",
        "def normalise(x_mean, x_std, x_data):\n",
        "    return (x_data - x_mean) / x_std"
      ],
      "metadata": {
        "id": "5O9TCWRIl_PO"
      },
      "execution_count": 21,
      "outputs": []
    },
    {
      "cell_type": "code",
      "source": [
        "#save mean and standard deviation our our training data set.\n",
        "x_mean = x_train.mean()\n",
        "x_std = x_train.std()"
      ],
      "metadata": {
        "id": "_rO-qxQYmhSQ"
      },
      "execution_count": 23,
      "outputs": []
    },
    {
      "cell_type": "markdown",
      "source": [
        ">> We will create a copy of each our samples data frames, that wat we can use such structures to plot our original images. These _raw_ dataframes are:\n",
        ">>> *x_train_raw* </br>\n",
        ">>> *x_val_raw*  </br>\n",
        ">>> *x_test_raw*  </br>"
      ],
      "metadata": {
        "id": "ww3_UthkSY3e"
      }
    },
    {
      "cell_type": "markdown",
      "source": [
        ">> We will normalize our three samples dataframe and assign the normalize data to them. Dataframes are kept as:\n",
        ">>> *x_train* </br>\n",
        ">>> *x_val*  </br>\n",
        ">>> *x_test* </br>"
      ],
      "metadata": {
        "id": "EgA6q328TEI8"
      }
    },
    {
      "cell_type": "code",
      "source": [
        "x_train_raw = x_train.copy()\n",
        "x_val_raw = x_val.copy()\n",
        "x_test_raw = x_test.copy()\n",
        "\n",
        "x_train = normalise(x_mean, x_std, x_train)\n",
        "x_val = normalise(x_mean, x_std, x_val)\n",
        "x_test = normalise(x_mean, x_std, x_test)"
      ],
      "metadata": {
        "id": "oyq6Q5R1SUHr"
      },
      "execution_count": 24,
      "outputs": []
    },
    {
      "cell_type": "code",
      "source": [
        "print('[x_train] mean after normalization:',x_train.mean())\n",
        "print('[x_train] std deviation after normalization:',x_train.std())\n",
        "print('[x_val] mean after normalization:',x_val.mean())\n",
        "print('[x_val] std deviation after normalization:',x_val.std())\n",
        "print('[x_test] mean after normalization:',x_test.mean())\n",
        "print('[x_test] std deviation after normalization:',x_test.std())"
      ],
      "metadata": {
        "colab": {
          "base_uri": "https://localhost:8080/"
        },
        "id": "p_CZPQ7HmnJn",
        "outputId": "7f59b4c3-229e-4c27-9a99-c5c3b4befda0"
      },
      "execution_count": 26,
      "outputs": [
        {
          "output_type": "stream",
          "name": "stdout",
          "text": [
            "[x_train] mean after normalization: -2.4830147e-08\n",
            "[x_train] std deviation after normalization: 1.0\n",
            "[x_val] mean after normalization: 0.023387816274673907\n",
            "[x_val] std deviation after normalization: 1.0112808714397006\n",
            "[x_test] mean after normalization: 0.02937074309409674\n",
            "[x_test] std deviation after normalization: 0.9997438574068822\n"
          ]
        }
      ]
    },
    {
      "cell_type": "markdown",
      "source": [
        "### <font color=\"darkblue\"> **6. Create mini batches function** </font>\n",
        ">>"
      ],
      "metadata": {
        "id": "RfvQtNZp7xpp"
      }
    },
    {
      "cell_type": "code",
      "source": [
        "def create_minibatches(mb_size, x, y, shuffle = True):\n",
        "    '''\n",
        "    x  #muestras, 784\n",
        "    y #muestras, 1\n",
        "    '''\n",
        "    assert x.shape[0] == y.shape[0], 'Error en cantidad de muestras'\n",
        "    total_data = x.shape[0]\n",
        "    if shuffle:\n",
        "        idxs = np.arange(total_data)\n",
        "        np.random.shuffle(idxs)\n",
        "        x = x[idxs]\n",
        "        y = y[idxs]\n",
        "    return ((x[i:i+mb_size], y[i:i+mb_size]) for i in range(0, total_data, mb_size))"
      ],
      "metadata": {
        "id": "w-5CRzVJ7zvx"
      },
      "execution_count": null,
      "outputs": []
    },
    {
      "cell_type": "code",
      "source": [
        "class np_tensor(np.ndarray): pass"
      ],
      "metadata": {
        "id": "yQ6jSXMR8WPa"
      },
      "execution_count": null,
      "outputs": []
    },
    {
      "cell_type": "code",
      "source": [
        "class Linear():\n",
        "    def __init__(self, input_size, output_size):\n",
        "        '''\n",
        "        Init parameters utilizando Kaiming He\n",
        "        '''\n",
        "        self.W = (np.random.randn(output_size, input_size) / np.sqrt(input_size/2)).view(np_tensor)\n",
        "        self.b = (np.zeros((output_size, 1))).view(np_tensor)\n",
        "    def __call__(self, X): # esta el foward de la clase lineal\n",
        "        Z = self.W @ X + self.b\n",
        "        return Z\n",
        "    def backward(self, X, Z):\n",
        "        X.grad = self.W.T @ Z.grad\n",
        "        self.W.grad = Z.grad @ X.T\n",
        "        self.b.grad = np.sum(Z.grad, axis = 1, keepdims=True)"
      ],
      "metadata": {
        "id": "PNFm7gd59boY"
      },
      "execution_count": null,
      "outputs": []
    },
    {
      "cell_type": "code",
      "source": [
        "class ReLU():\n",
        "    def __call__(self, Z):\n",
        "        return np.maximum(0, Z)\n",
        "    def backward(self, Z, A):\n",
        "        Z.grad = A.grad.copy()\n",
        "        Z.grad[Z <= 0] = 0"
      ],
      "metadata": {
        "id": "e2u4AFfP9hyS"
      },
      "execution_count": null,
      "outputs": []
    },
    {
      "cell_type": "code",
      "source": [
        "class Sequential_layers():\n",
        "    def __init__(self, layers):\n",
        "        '''\n",
        "        layers - lista que contiene objetos de tipo Linear, ReLU\n",
        "        '''\n",
        "        self.layers = layers\n",
        "        self.x = None\n",
        "        self.outputs = {}\n",
        "    def __call__(self, X):\n",
        "        self.x = X\n",
        "        self.outputs['l0'] = self.x\n",
        "        for i, layer in enumerate(self.layers, 1):\n",
        "            self.x = layer(self.x)\n",
        "            self.outputs['l'+str(i)]=self.x\n",
        "        return self.x\n",
        "    def backward(self):\n",
        "        for i in reversed(range(len(self.layers))):\n",
        "            self.layers[i].backward(self.outputs['l'+str(i)], self.outputs['l'+str(i+1)])\n",
        "    def update(self, learning_rate = 1e-3):\n",
        "        for layer in self.layers:\n",
        "            if isinstance(layer, ReLU): continue\n",
        "            layer.W = layer.W - learning_rate * layer.W.grad\n",
        "            layer.b = layer.b - learning_rate * layer.b.grad\n",
        "    def predict(self, X):\n",
        "        return np.argmax(self.__call__(X))"
      ],
      "metadata": {
        "id": "dYfPjGMK9inA"
      },
      "execution_count": null,
      "outputs": []
    },
    {
      "cell_type": "code",
      "source": [
        "def softmaxXEntropy(x, y):\n",
        "    batch_size = x.shape[1]\n",
        "    exp_scores = np.exp(x)\n",
        "    probs = exp_scores / exp_scores.sum(axis = 0)\n",
        "    preds = probs.copy()\n",
        "    # Costo\n",
        "    y_hat = probs[y.squeeze(), np.arange(batch_size)]\n",
        "    cost = np.sum(-np.log(y_hat)) / batch_size\n",
        "    # Calcular gradientes\n",
        "    probs[y.squeeze(), np.arange(batch_size)] -= 1 #dl/dx\n",
        "    x.grad = probs.copy()\n",
        "\n",
        "    return preds, cost"
      ],
      "metadata": {
        "id": "SnTcLir39l6M"
      },
      "execution_count": null,
      "outputs": []
    },
    {
      "cell_type": "code",
      "source": [
        "def train(model, epochs, mb_size=128, learning_rate = 1e-3):\n",
        "    for epoch in range(epochs):\n",
        "        for i, (x, y) in enumerate(create_minibatches(mb_size, x_train, y_train)):\n",
        "            scores = model(x.T.view(np_tensor))\n",
        "            _, cost = softmaxXEntropy(scores, y)\n",
        "            model.backward()\n",
        "            model.update(learning_rate)\n",
        "        print(f'costo: {cost}, accuracy: {accuracy(x_val, y_val, mb_size)}')"
      ],
      "metadata": {
        "id": "dEHDdQWA9pYu"
      },
      "execution_count": null,
      "outputs": []
    },
    {
      "cell_type": "code",
      "source": [
        "def accuracy(x, y, mb_size):\n",
        "    correct = 0\n",
        "    total = 0\n",
        "    for i, (x, y) in enumerate(create_minibatches(mb_size, x, y)):\n",
        "        pred = model(x.T.view(np_tensor))\n",
        "        correct += np.sum(np.argmax(pred, axis=0) == y.squeeze())\n",
        "        total += pred.shape[1]\n",
        "    return correct/total"
      ],
      "metadata": {
        "id": "yxPiLtSn9r7m"
      },
      "execution_count": null,
      "outputs": []
    },
    {
      "cell_type": "code",
      "source": [
        "model = Sequential_layers([Linear(784, 200), ReLU(), Linear(200, 200), ReLU(), Linear(200, 24)])\n",
        "mb_size = 512\n",
        "learning_rate = 1e-4\n",
        "epochs = 20\n"
      ],
      "metadata": {
        "id": "rLDqLVfP9vaQ"
      },
      "execution_count": null,
      "outputs": []
    },
    {
      "cell_type": "code",
      "source": [
        "train(model, epochs, mb_size, learning_rate)"
      ],
      "metadata": {
        "colab": {
          "base_uri": "https://localhost:8080/"
        },
        "id": "VPX6PjgA9yrz",
        "outputId": "5870c535-2ade-4b42-998b-5c797afc812e"
      },
      "execution_count": null,
      "outputs": [
        {
          "output_type": "stream",
          "name": "stdout",
          "text": [
            "costo: 1.1322793032140241, accuracy: 0.5525801952580195\n",
            "costo: 0.5583629652543898, accuracy: 0.6635983263598326\n",
            "costo: 0.325101989819826, accuracy: 0.697907949790795\n",
            "costo: 0.20883056538983324, accuracy: 0.7227336122733612\n",
            "costo: 0.17182959254366603, accuracy: 0.7408647140864714\n",
            "costo: 0.13083439295257832, accuracy: 0.7405857740585774\n",
            "costo: 0.09141680670987015, accuracy: 0.7520223152022315\n",
            "costo: 0.07127213078913265, accuracy: 0.7520223152022315\n",
            "costo: 0.057310307840020676, accuracy: 0.7609483960948397\n",
            "costo: 0.042106683728079526, accuracy: 0.7615062761506276\n",
            "costo: 0.03806048421157878, accuracy: 0.7665271966527196\n",
            "costo: 0.030049003093580474, accuracy: 0.7637377963737796\n",
            "costo: 0.02301456899564194, accuracy: 0.7595536959553696\n",
            "costo: 0.023633530553152583, accuracy: 0.7684797768479776\n",
            "costo: 0.02331591828274149, accuracy: 0.7673640167364016\n",
            "costo: 0.018209521354174408, accuracy: 0.7629009762900977\n",
            "costo: 0.022905111096923794, accuracy: 0.7707112970711297\n",
            "costo: 0.018777464307707176, accuracy: 0.7701534170153417\n",
            "costo: 0.015233398587390356, accuracy: 0.7721059972105997\n",
            "costo: 0.017355184262875478, accuracy: 0.7735006973500698\n"
          ]
        }
      ]
    },
    {
      "cell_type": "code",
      "source": [
        "print(accuracy(x_test, y_test, mb_size))"
      ],
      "metadata": {
        "colab": {
          "base_uri": "https://localhost:8080/"
        },
        "id": "smFwt5Hc92O9",
        "outputId": "8db88faf-e8fa-4275-873d-e6343c93fba0"
      },
      "execution_count": null,
      "outputs": [
        {
          "output_type": "stream",
          "name": "stdout",
          "text": [
            "0.7707752370329057\n"
          ]
        }
      ]
    },
    {
      "cell_type": "code",
      "source": [
        "idx = np.random.randint(len(y_test))\n",
        "plot_ASL(x_test_raw[idx,])\n",
        "pred = model.predict(x_test[idx].reshape(-1, 1))\n",
        "print(f'el valor predicho es: {pred}, el valor real es:{y_test[idx][0]}')"
      ],
      "metadata": {
        "colab": {
          "base_uri": "https://localhost:8080/",
          "height": 437
        },
        "id": "A2sVfM3l96gY",
        "outputId": "68335ea2-872a-47da-f779-e8663bf8f0d6"
      },
      "execution_count": null,
      "outputs": [
        {
          "output_type": "display_data",
          "data": {
            "text/plain": [
              "<Figure size 500x500 with 1 Axes>"
            ],
            "image/png": "[encoded data removed]"
          },
          "metadata": {}
        },
        {
          "output_type": "stream",
          "name": "stdout",
          "text": [
            "el valor predicho es: 8, el valor real es:8\n"
          ]
        }
      ]
    },
    {
      "cell_type": "code",
      "source": [],
      "metadata": {
        "id": "Vje5_MhNxNIS"
      },
      "execution_count": null,
      "outputs": []
    }
  ]
}