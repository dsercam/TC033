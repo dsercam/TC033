{
  "cells": [
    {
      "cell_type": "markdown",
      "metadata": {
        "id": "view-in-github",
        "colab_type": "text"
      },
      "source": [
        "<a href=\"https://colab.research.google.com/github/dsercam/TC033/blob/main/TC4033_Activity3a_IDGroup44.ipynb\" target=\"_parent\"><img src=\"https://colab.research.google.com/assets/colab-badge.svg\" alt=\"Open In Colab\"/></a>"
      ]
    },
    {
      "cell_type": "markdown",
      "source": [
        "#<font color='darkorange'><b> TC 5033 :: Advanced Machine Learning Methods </b> </font>\n",
        "### <font color='darkgray'><b> Activity 3a: Exploring Word Embeddings with GloVe and Numpy</b></font></br></br>\n",
        "###<font color='darkblue'><b>  Group 44 </b></font>\n",
        "***Dante Rodrigo Serna Camarillo A01182676***</br>\n",
        "***Axel Alejandro Tlatoa Villavicencio A01363351***</br>\n",
        "***Carlos Roberto Torres Ferguson A01215432***</br>\n",
        "***Felipe de Jesús Gastélum Lizárraga A01114918***"
      ],
      "metadata": {
        "id": "g7dAtCZc--0h"
      },
      "id": "g7dAtCZc--0h"
    },
    {
      "cell_type": "markdown",
      "id": "c6142099",
      "metadata": {
        "id": "c6142099"
      },
      "source": [
        "## TC 5033\n",
        "### Word Embeddings\n",
        "\n",
        "<br>\n",
        "\n",
        "#### Activity 3a: Exploring Word Embeddings with GloVe and Numpy\n",
        "<br>\n",
        "\n",
        "- Objective:\n",
        "    - To understand the concept of word embeddings and their significance in Natural Language Processing.\n",
        "    - To learn how to manipulate and visualize high-dimensional data using dimensionality reduction techniques like PCA and t-SNE.\n",
        "    - To gain hands-on experience in implementing word similarity and analogies using GloVe embeddings and Numpy.\n",
        "    \n",
        "<br>\n",
        "\n",
        "- Instructions:\n",
        "    - Download GloVe pre-trained vectors from the provided link in Canvas, the official public project:\n",
        "    Jeffrey Pennington, Richard Socher, and Christopher D. Manning. 2014. GloVe: Global Vectors for Word Representation\n",
        "    https://nlp.stanford.edu/data/glove.6B.zip\n",
        "\n",
        "    - Create a dictorionay of the embeddings so that you carry out fast look ups. Save that dictionary e.g. as a serialized file for faster loading in future uses.\n",
        "    \n",
        "    - PCA and t-SNE Visualization: After loading the GloVe embeddings, use Numpy and Sklearn to perform PCA and t-SNE to reduce the dimensionality of the embeddings and visualize them in a 2D or 3D space.\n",
        "\n",
        "    - Word Similarity: Implement a function that takes a word as input and returns the 'n' most similar words based on their embeddings. You should use Numpy to implement this function, using libraries that already implement this function (e.g. Gensim) will result in zero points.\n",
        "\n",
        "    - Word Analogies: Implement a function to solve analogies between words. For example, \"man is to king as woman is to ____\". You should use Numpy to implement this function, using libraries that already implement this function (e.g. Gensim) will result in zero points.\n",
        "\n",
        "    - Submission: This activity is to be submitted in teams of 3 or 4. Only one person should submit the final work, with the full names of all team members included in a markdown cell at the beginning of the notebook.\n",
        "    \n",
        "<br>\n",
        "\n",
        "- Evaluation Criteria:\n",
        "\n",
        "    - Code Quality (40%): Your code should be well-organized, clearly commented, and easy to follow. Use also markdown cells for clarity.\n",
        "    \n",
        "   - Functionality (60%): All functions should work as intended, without errors.\n",
        "       - Visualization of PCA and t-SNE (10% each for a total of 20%)\n",
        "       - Similarity function (20%)\n",
        "       - Analogy function (20%)\n",
        "|\n",
        "\n"
      ]
    },
    {
      "cell_type": "markdown",
      "id": "329dd09a",
      "metadata": {
        "id": "329dd09a"
      },
      "source": [
        "#### Import libraries"
      ]
    },
    {
      "cell_type": "code",
      "execution_count": null,
      "id": "4af04b9d",
      "metadata": {
        "id": "4af04b9d"
      },
      "outputs": [],
      "source": [
        "# Import libraries\n",
        "#import torch\n",
        "#import torch.nn.functional as F\n",
        "from sklearn.manifold import TSNE\n",
        "from sklearn.decomposition import PCA\n",
        "import matplotlib.pyplot as plt\n",
        "import numpy as np\n",
        "from numpy.linalg import norm\n",
        "import pickle\n",
        "from scipy import spatial\n",
        "plt.style.use('ggplot')"
      ]
    },
    {
      "cell_type": "markdown",
      "id": "8712cf42",
      "metadata": {
        "id": "8712cf42"
      },
      "source": [
        "### <font color=\"darkblue\"> **1. Load files** </font>\n",
        ">>Used three refrences to the glove embeddings, one for the 50, 100, 200 respectively </br>\n",
        ">>> These different path references can be used to load the different embeddings depending on need and processing power</br>\n",
        "\n",
        ">>Created the <font color=\"darkorange\">***create_emb_dictionary***</font> function to load the files into python dictionaries </br>\n",
        ">>> The only parameter is *path*, which refers to the path to our emebedding file</br>\n",
        "</br>"
      ]
    },
    {
      "cell_type": "code",
      "execution_count": null,
      "id": "8c3c9d2a",
      "metadata": {
        "id": "8c3c9d2a"
      },
      "outputs": [],
      "source": [
        "PATH200 = 'glove.6B.200d.txt' #200 dimensions\n",
        "PATH100 = 'glove.6B.100d.txt' #100 dimensions\n",
        "PATH50 = 'glove.6B.50d.txt'   #50 dimensions\n",
        "emb_dim = 50"
      ]
    },
    {
      "cell_type": "code",
      "execution_count": null,
      "id": "25a1eae6",
      "metadata": {
        "code_folding": [],
        "id": "25a1eae6"
      },
      "outputs": [],
      "source": [
        "# Create dictionary with embeddings\n",
        "def create_emb_dictionary(path):\n",
        "  #declare dictionary\n",
        "    dictionary = {}\n",
        "  #open file using given path\n",
        "    with open(path, 'r') as f:\n",
        "      for line in f: #for each line in file\n",
        "        values = line.split() #split the line content\n",
        "        word = values[0]      # the first value of the line is our word\n",
        "        vector = np.asarray(values[1:], \"float32\") # create a vector for the embedding values\n",
        "        dictionary[word] = vector #add entry to the dictonary, the word is the key and the vector is the value\n",
        "    return dictionary #return the dictionary"
      ]
    },
    {
      "cell_type": "markdown",
      "source": [
        "### <font color=\"darkblue\"> **1.1 Create the dictionary** </font>\n",
        ">> We load the 50 dim embedding into our dictionary </br>"
      ],
      "metadata": {
        "id": "Ohdt-Xg3eH8e"
      },
      "id": "Ohdt-Xg3eH8e"
    },
    {
      "cell_type": "code",
      "execution_count": null,
      "id": "347a0e5e",
      "metadata": {
        "code_folding": [],
        "id": "347a0e5e"
      },
      "outputs": [],
      "source": [
        "# create dictionary\n",
        "embeddings_dict50 = {}\n",
        "embeddings_dict50 = create_emb_dictionary(PATH50) #use our function to load the file into the dictionary"
      ]
    },
    {
      "cell_type": "markdown",
      "id": "fd0ab9aa",
      "metadata": {
        "id": "fd0ab9aa"
      },
      "source": [
        "### <font color=\"darkblue\"> **1.2 See embedding samples** </font>\n",
        ">>Created the <font color=\"darkorange\">***show_n_frist_words***</font> function to load to print the embeddigns for given first <n> entries. </br>\n",
        ">>> The first parameter is *path*, which refers to the path to our emebedding file</br>\n",
        ">>> The second parameter is *n_words*, which refers to the number of lines we will read</br>\n",
        "</br>"
      ]
    },
    {
      "cell_type": "code",
      "execution_count": null,
      "id": "8b0991a9",
      "metadata": {
        "id": "8b0991a9"
      },
      "outputs": [],
      "source": [
        "# Show some\n",
        "def show_n_first_words(path, n_words):\n",
        "        with open(path, 'r') as f:\n",
        "            for i, line in enumerate(f):\n",
        "                print(line.split(), len(line.split()[1:]))\n",
        "                if i>=n_words: break"
      ]
    },
    {
      "cell_type": "markdown",
      "source": [
        ">> We want to see the first 5 samples, note how each value contains the 50 dims </br>"
      ],
      "metadata": {
        "id": "9V-9zZblfSZn"
      },
      "id": "9V-9zZblfSZn"
    },
    {
      "cell_type": "code",
      "execution_count": null,
      "id": "a16259ec",
      "metadata": {
        "colab": {
          "base_uri": "https://localhost:8080/"
        },
        "id": "a16259ec",
        "outputId": "4250b77b-6562-4cdc-d031-3767ec859548"
      },
      "outputs": [
        {
          "output_type": "stream",
          "name": "stdout",
          "text": [
            "['the', '0.418', '0.24968', '-0.41242', '0.1217', '0.34527', '-0.044457', '-0.49688', '-0.17862', '-0.00066023', '-0.6566', '0.27843', '-0.14767', '-0.55677', '0.14658', '-0.0095095', '0.011658', '0.10204', '-0.12792', '-0.8443', '-0.12181', '-0.016801', '-0.33279', '-0.1552', '-0.23131', '-0.19181', '-1.8823', '-0.76746', '0.099051', '-0.42125', '-0.19526', '4.0071', '-0.18594', '-0.52287', '-0.31681', '0.00059213', '0.0074449', '0.17778', '-0.15897', '0.012041', '-0.054223', '-0.29871', '-0.15749', '-0.34758', '-0.045637', '-0.44251', '0.18785', '0.0027849', '-0.18411', '-0.11514', '-0.78581'] 50\n",
            "[',', '0.013441', '0.23682', '-0.16899', '0.40951', '0.63812', '0.47709', '-0.42852', '-0.55641', '-0.364', '-0.23938', '0.13001', '-0.063734', '-0.39575', '-0.48162', '0.23291', '0.090201', '-0.13324', '0.078639', '-0.41634', '-0.15428', '0.10068', '0.48891', '0.31226', '-0.1252', '-0.037512', '-1.5179', '0.12612', '-0.02442', '-0.042961', '-0.28351', '3.5416', '-0.11956', '-0.014533', '-0.1499', '0.21864', '-0.33412', '-0.13872', '0.31806', '0.70358', '0.44858', '-0.080262', '0.63003', '0.32111', '-0.46765', '0.22786', '0.36034', '-0.37818', '-0.56657', '0.044691', '0.30392'] 50\n",
            "['.', '0.15164', '0.30177', '-0.16763', '0.17684', '0.31719', '0.33973', '-0.43478', '-0.31086', '-0.44999', '-0.29486', '0.16608', '0.11963', '-0.41328', '-0.42353', '0.59868', '0.28825', '-0.11547', '-0.041848', '-0.67989', '-0.25063', '0.18472', '0.086876', '0.46582', '0.015035', '0.043474', '-1.4671', '-0.30384', '-0.023441', '0.30589', '-0.21785', '3.746', '0.0042284', '-0.18436', '-0.46209', '0.098329', '-0.11907', '0.23919', '0.1161', '0.41705', '0.056763', '-6.3681e-05', '0.068987', '0.087939', '-0.10285', '-0.13931', '0.22314', '-0.080803', '-0.35652', '0.016413', '0.10216'] 50\n",
            "['of', '0.70853', '0.57088', '-0.4716', '0.18048', '0.54449', '0.72603', '0.18157', '-0.52393', '0.10381', '-0.17566', '0.078852', '-0.36216', '-0.11829', '-0.83336', '0.11917', '-0.16605', '0.061555', '-0.012719', '-0.56623', '0.013616', '0.22851', '-0.14396', '-0.067549', '-0.38157', '-0.23698', '-1.7037', '-0.86692', '-0.26704', '-0.2589', '0.1767', '3.8676', '-0.1613', '-0.13273', '-0.68881', '0.18444', '0.0052464', '-0.33874', '-0.078956', '0.24185', '0.36576', '-0.34727', '0.28483', '0.075693', '-0.062178', '-0.38988', '0.22902', '-0.21617', '-0.22562', '-0.093918', '-0.80375'] 50\n",
            "['to', '0.68047', '-0.039263', '0.30186', '-0.17792', '0.42962', '0.032246', '-0.41376', '0.13228', '-0.29847', '-0.085253', '0.17118', '0.22419', '-0.10046', '-0.43653', '0.33418', '0.67846', '0.057204', '-0.34448', '-0.42785', '-0.43275', '0.55963', '0.10032', '0.18677', '-0.26854', '0.037334', '-2.0932', '0.22171', '-0.39868', '0.20912', '-0.55725', '3.8826', '0.47466', '-0.95658', '-0.37788', '0.20869', '-0.32752', '0.12751', '0.088359', '0.16351', '-0.21634', '-0.094375', '0.018324', '0.21048', '-0.03088', '-0.19722', '0.082279', '-0.09434', '-0.073297', '-0.064699', '-0.26044'] 50\n",
            "['and', '0.26818', '0.14346', '-0.27877', '0.016257', '0.11384', '0.69923', '-0.51332', '-0.47368', '-0.33075', '-0.13834', '0.2702', '0.30938', '-0.45012', '-0.4127', '-0.09932', '0.038085', '0.029749', '0.10076', '-0.25058', '-0.51818', '0.34558', '0.44922', '0.48791', '-0.080866', '-0.10121', '-1.3777', '-0.10866', '-0.23201', '0.012839', '-0.46508', '3.8463', '0.31362', '0.13643', '-0.52244', '0.3302', '0.33707', '-0.35601', '0.32431', '0.12041', '0.3512', '-0.069043', '0.36885', '0.25168', '-0.24517', '0.25381', '0.1367', '-0.31178', '-0.6321', '-0.25028', '-0.38097'] 50\n"
          ]
        }
      ],
      "source": [
        "show_n_first_words(PATH50, 5)"
      ]
    },
    {
      "cell_type": "markdown",
      "id": "ff828123",
      "metadata": {
        "id": "ff828123"
      },
      "source": [
        "### <font color=\"darkblue\"> **2. Plotting embeddings** </font>\n",
        "\n",
        ">>Created the <font color=\"darkorange\">***plot_embeddings***</font> function to plot a set of given words, dimensions will be reduced to two dimensions -either using *PCA* or *tSNE*- in order to plot the words in a 2d scatter plot to appreaicate how close they are to each other. </br>\n",
        ">>> * The first parameter is *words2show*, which is a list of the words we want to plot</br>\n",
        ">>> * The second parameter is *embeddings_dict*, which is our embeddings dictionary</br>\n",
        ">>> * The third parameter is *func*, which is the method to reduce dimensionality. Valid values are ***PCA*** and ***TSNE***, any other value will throw an error.</br>\n",
        "</br>"
      ]
    },
    {
      "cell_type": "code",
      "execution_count": null,
      "id": "3d3ffaa4",
      "metadata": {
        "id": "3d3ffaa4"
      },
      "outputs": [],
      "source": [
        "def plot_embeddings(words2show, embeddings_dict, func = PCA):\n",
        "    #vector of embeddings for each one of the received words\n",
        "    wordVectors = [embeddings_dict[word] for word in words2show]\n",
        "    V = np.array(wordVectors) # to numpy array\n",
        "    m =\"\" # used to change the marker type depending on the FUNC parameter\n",
        "    plt.figure(figsize=(20,10)) #size of our plot\n",
        "\n",
        "    if(func == PCA):\n",
        "      pca = PCA() # init PCA object\n",
        "      pca.fit(V) # fit and transform PCA\n",
        "      Y = pca.transform(V)\n",
        "      m = \"X\" # Use the X marker for the plot\n",
        "      plt.title(\"PCA Decomposition\")\n",
        "\n",
        "    elif(func == TSNE):\n",
        "      #num of componets as 2 for two dimensions, random_state seed for consistent results.\n",
        "      tsne = TSNE(n_components=2, random_state=0)\n",
        "      #fit the TSNE using our vector\n",
        "      Y = tsne.fit_transform(V)\n",
        "      m = \"P\" # Use the p marker for the plot\n",
        "      plt.title(\"TSNE Decomposition\")\n",
        "\n",
        "    else: #non supported FUNC value\n",
        "      print(\"FUNC[\",func,\"] NOT SUPPORTED. SUPPORTED VALUES ARE (PCA,tSNE)\")\n",
        "      pass\n",
        "\n",
        "    #Plot an scatter plot to determine how close the words are.\n",
        "    plt.scatter(Y[:, 0], Y[:, 1],marker=m, s=120)\n",
        "    for label, x, y in zip(words, Y[:, 0], Y[:, 1]):\n",
        "      plt.annotate(label, xy=(x, y), xytext=(5, 5), textcoords=\"offset points\") #annotate using our words\n",
        "    plt.show() #show the plot\n"
      ]
    },
    {
      "cell_type": "markdown",
      "source": [
        ">> Our list of words that should have some proximity </br>"
      ],
      "metadata": {
        "id": "jQea__6hiS3e"
      },
      "id": "jQea__6hiS3e"
    },
    {
      "cell_type": "code",
      "execution_count": null,
      "id": "9b1b120a",
      "metadata": {
        "id": "9b1b120a"
      },
      "outputs": [],
      "source": [
        "words= ['burger', 'tortilla', 'bread', 'pizza', 'beef', 'steak', 'fries', 'chips', #food\n",
        "            'argentina', 'mexico', 'spain', 'usa', 'france', 'italy', 'greece', 'china', #countries\n",
        "            'water', 'beer', 'tequila', 'wine', 'whisky', 'brandy', 'vodka', 'coffee', 'tea', #drinks\n",
        "            'apple', 'banana', 'orange', 'lemon', 'grapefruit', 'grape', 'strawberry', 'raspberry', #fruits\n",
        "            'school', 'work', 'university', 'highschool'] #places\n"
      ]
    },
    {
      "cell_type": "markdown",
      "source": [
        "#### <font color=\"darkblue\"> **2.1 Plot PCA-reduced** </font>\n"
      ],
      "metadata": {
        "id": "vY6TjVI3nC1d"
      },
      "id": "vY6TjVI3nC1d"
    },
    {
      "cell_type": "code",
      "execution_count": null,
      "id": "87d33789",
      "metadata": {
        "colab": {
          "base_uri": "https://localhost:8080/",
          "height": 852
        },
        "id": "87d33789",
        "outputId": "61c07cbc-e185-4ecc-9afc-7a4ca75a7425"
      },
      "outputs": [
        {
          "output_type": "display_data",
          "data": {
            "text/plain": [
              "<Figure size 2000x1000 with 1 Axes>"
            ],
            "image/png": "[encoded data removed]"
          },
          "metadata": {}
        }
      ],
      "source": [
        "plot_embeddings(words, embeddings_dict50, PCA)"
      ]
    },
    {
      "cell_type": "markdown",
      "source": [
        "#### <font color=\"darkblue\"> **2.1 Plot TSNE-reduced** </font>\n"
      ],
      "metadata": {
        "id": "zvf1r2TxnQ5A"
      },
      "id": "zvf1r2TxnQ5A"
    },
    {
      "cell_type": "code",
      "source": [
        "plot_embeddings(words, embeddings_dict50, TSNE)"
      ],
      "metadata": {
        "colab": {
          "base_uri": "https://localhost:8080/",
          "height": 852
        },
        "id": "AUBy7--Ko0hX",
        "outputId": "d978b5f1-a3d1-4949-dc62-277aa4ee8881"
      },
      "id": "AUBy7--Ko0hX",
      "execution_count": null,
      "outputs": [
        {
          "output_type": "display_data",
          "data": {
            "text/plain": [
              "<Figure size 2000x1000 with 1 Axes>"
            ],
            "image/png": "[encoded data removed]"
          },
          "metadata": {}
        }
      ]
    },
    {
      "cell_type": "markdown",
      "id": "8211b7f1",
      "metadata": {
        "id": "8211b7f1"
      },
      "source": [
        "### <font color=\"darkblue\"> **3. Analogies** </font>\n",
        "\n",
        ">>Created the <font color=\"darkorange\">***analogy***</font> function to find out the word that best completes an analogy of the form:</br></br>\n",
        ">>>  \"a is to b as c is to __\" -> $e_b - e_a$ and $e_d - e_c$</br></br>\n",
        ">> we will calcualte the cosine similarity between vectors to determine the best match for the analogy.</br></br>\n",
        ">>> ${Cosine Similarity(u, v)} = \\\\frac {u . v} {||u||_2 ||v||_2} = cos(\\\\theta) $$\",</br></br>\n",
        "\n",
        "\n",
        ">>> * The first and second parameters *word1, word2*, refer to the values of the left side of our analogy (base)</br>\n",
        ">>> * The third parameter is *word3*, which is the word we want to find the matching analogy</br>\n",
        ">>> * The fourth parameter is *embeddings_dict*, which is our embeddings dictionary</br>\n",
        ">>> * The fifth parameter is *debug*, which would print some data to better undestand what is happening when value is set as *true*.</br>\n",
        "</br>"
      ]
    },
    {
      "cell_type": "code",
      "source": [
        "## TC 5033\n",
        "def analogy(word1, word2, word3, embeddings_dict,debug=False):\n",
        "    # convert all the words to lower case to prevent any errors, as the key of the embeddings are in lowercase\n",
        "    w1_embeddings = embeddings_dict[word1.lower()]\n",
        "    w2_embeddings = embeddings_dict[word2.lower()]\n",
        "    w3_embeddings = embeddings_dict[word3.lower()]\n",
        "\n",
        "    if(debug): #if debug, print embeddings\n",
        "      print('WORD 1 :: \\n',w1_embeddings,'\\n SHAPE :: ',w1_embeddings.shape)\n",
        "      print('WORD 2 :: \\n',w2_embeddings,'\\n SHAPE :: ',w1_embeddings.shape)\n",
        "      print('WORD 3 :: \\n',w3_embeddings,'\\n SHAPE :: ',w1_embeddings.shape)\n",
        "\n",
        "    vocabulary = embeddings_dict.keys() # get our keys from the dictionary\n",
        "    if(debug):# if debug, print the size of our vocabulary.\n",
        "      print('vocabulary size :: ',len(vocabulary))\n",
        "\n",
        "    similarityHelper= -999 #helper variable with a large negative value, candidates will bubble up as the similarity factor increases\n",
        "    best_word = None # at first we do not have any candidate for the analogy\n",
        "\n",
        "    leftEmbedding = w2_embeddings - w1_embeddings #get the data that captures the meaning/relationship between these two words.\n",
        "    if(debug):\n",
        "      print('leftEmbedding :: ',leftEmbedding,'\\n SHAPE :: ',w1_embeddings.shape)\n",
        "\n",
        "    # iterate over our vocabualry\n",
        "    for word in vocabulary:\n",
        "        # ignore the words that were recevied in the parameters, as those would not be a valid analogy\n",
        "        if word in [word1, word2, word3]:\n",
        "            continue\n",
        "\n",
        "        # calculate cosine similarity between the vectors u and v\n",
        "        #u ->(word2 - word1)\n",
        "        #v ->(word candidate- word3)\n",
        "        rightEmbedding = embeddings_dict[word] - w3_embeddings #data that represents the relationship between the word being analyzed and our word 3\n",
        "\n",
        "        #calculate similarity\n",
        "        dotProduct =np.dot(leftEmbedding,rightEmbedding) #dot product between the two \"meaning\" vectors\n",
        "        norm1 = np.sqrt(np.sum(leftEmbedding**2)) #l2 norm on left\n",
        "        norm2 = np.sqrt(np.sum(rightEmbedding**2)) #l2 norm on right\n",
        "        similarity = dotProduct/(norm1)/norm2 #resulting similarity\n",
        "\n",
        "        if similarity > similarityHelper: #if we found higher similarity, keep track of such word.\n",
        "            print('Found best candiadte :: ',word,'\\n With Similarity :: ',similarity)\n",
        "            similarityHelper = similarity\n",
        "            best_word = word\n",
        "\n",
        "    return best_word #return the word that had the greatest similarity."
      ],
      "metadata": {
        "id": "oVTd7f_og1sW"
      },
      "id": "oVTd7f_og1sW",
      "execution_count": null,
      "outputs": []
    },
    {
      "cell_type": "markdown",
      "source": [
        ">>>  Calculate analogy \"mexico is mexican as spain is to __\" successfully"
      ],
      "metadata": {
        "id": "_9TzHI61Rrhd"
      },
      "id": "_9TzHI61Rrhd"
    },
    {
      "cell_type": "code",
      "source": [
        "analogy('mexico', 'mexican', 'spain', embeddings_dict50)"
      ],
      "metadata": {
        "colab": {
          "base_uri": "https://localhost:8080/",
          "height": 297
        },
        "id": "m1ei5aapM6mF",
        "outputId": "743b14bb-91d2-4aa7-f6a7-635b4c659f42"
      },
      "id": "m1ei5aapM6mF",
      "execution_count": null,
      "outputs": [
        {
          "output_type": "stream",
          "name": "stdout",
          "text": [
            "Found best candiadte ::  the \n",
            " With Similarity ::  0.094091594\n",
            "Found best candiadte ::  and \n",
            " With Similarity ::  0.13606516\n",
            "Found best candiadte ::  a \n",
            " With Similarity ::  0.24216548\n",
            "Found best candiadte ::  who \n",
            " With Similarity ::  0.30801818\n",
            "Found best candiadte ::  foreign \n",
            " With Similarity ::  0.31484687\n",
            "Found best candiadte ::  french \n",
            " With Similarity ::  0.4664038\n",
            "Found best candiadte ::  italian \n",
            " With Similarity ::  0.6481958\n",
            "Found best candiadte ::  spanish \n",
            " With Similarity ::  0.72662735\n"
          ]
        },
        {
          "output_type": "execute_result",
          "data": {
            "text/plain": [
              "'spanish'"
            ],
            "application/vnd.google.colaboratory.intrinsic+json": {
              "type": "string"
            }
          },
          "metadata": {},
          "execution_count": 12
        }
      ]
    },
    {
      "cell_type": "markdown",
      "source": [
        ">>>  Calculate analogy \"man is to king as woman is to __\" successfully"
      ],
      "metadata": {
        "id": "QymvEzQhssxr"
      },
      "id": "QymvEzQhssxr"
    },
    {
      "cell_type": "code",
      "source": [
        "analogy('man', 'king', 'woman', embeddings_dict50)"
      ],
      "metadata": {
        "colab": {
          "base_uri": "https://localhost:8080/",
          "height": 462
        },
        "id": "pVTqRXnfAGFs",
        "outputId": "a69d728f-576d-47b7-a42f-3dbd900f9456"
      },
      "id": "pVTqRXnfAGFs",
      "execution_count": null,
      "outputs": [
        {
          "output_type": "stream",
          "name": "stdout",
          "text": [
            "Found best candiadte ::  the \n",
            " With Similarity ::  0.44563103\n",
            "Found best candiadte ::  . \n",
            " With Similarity ::  0.4628453\n",
            "Found best candiadte ::  of \n",
            " With Similarity ::  0.5006541\n",
            "Found best candiadte ::  during \n",
            " With Similarity ::  0.5152469\n",
            "Found best candiadte ::  may \n",
            " With Similarity ::  0.5429094\n",
            "Found best candiadte ::  later \n",
            " With Similarity ::  0.5793415\n",
            "Found best candiadte ::  family \n",
            " With Similarity ::  0.63559675\n",
            "Found best candiadte ::  father \n",
            " With Similarity ::  0.64468366\n",
            "Found best candiadte ::  son \n",
            " With Similarity ::  0.6499478\n",
            "Found best candiadte ::  ii \n",
            " With Similarity ::  0.729213\n",
            "Found best candiadte ::  prince \n",
            " With Similarity ::  0.7744951\n",
            "Found best candiadte ::  kingdom \n",
            " With Similarity ::  0.788129\n",
            "Found best candiadte ::  queen \n",
            " With Similarity ::  0.83967716\n"
          ]
        },
        {
          "output_type": "execute_result",
          "data": {
            "text/plain": [
              "'queen'"
            ],
            "application/vnd.google.colaboratory.intrinsic+json": {
              "type": "string"
            }
          },
          "metadata": {},
          "execution_count": 13
        }
      ]
    },
    {
      "cell_type": "markdown",
      "source": [
        "### <font color=\"darkblue\"> **3. Analogies-comparison** </font>\n",
        "\n",
        ">>Created the <font color=\"darkorange\">***analogyV2***</font> function to find out the word that best completes an analogy, in this case we used spatial to calcualte the euclidean distance between the vectors. This comparison help us valdiate we are getting the same result with our own calculations.</br></br>"
      ],
      "metadata": {
        "id": "ElgMG0iRs2iq"
      },
      "id": "ElgMG0iRs2iq"
    },
    {
      "cell_type": "code",
      "execution_count": null,
      "id": "0003ce18",
      "metadata": {
        "id": "0003ce18"
      },
      "outputs": [],
      "source": [
        "# analogy\n",
        "def analogyV2(word1, word2, word3, embeddings_dict):\n",
        "  leftembedding = embeddings_dict[word2] - embeddings_dict[word1]\n",
        "  analogies = sorted(embeddings_dict.keys(), key=lambda w: spatial.distance.euclidean(leftembedding,embeddings_dict[w]-embeddings_dict[word3]))[0:5]\n",
        "  if word1 in analogies: analogies.remove(word1)\n",
        "  if word2 in analogies: analogies.remove(word2)\n",
        "  if word3 in analogies: analogies.remove(word3)\n",
        "  return analogies[0:1]"
      ]
    },
    {
      "cell_type": "code",
      "source": [
        "analogyV2('man', 'king', 'woman', embeddings_dict50)"
      ],
      "metadata": {
        "colab": {
          "base_uri": "https://localhost:8080/"
        },
        "id": "P6UYg5GdJGuT",
        "outputId": "b41023ac-c7e3-430e-d150-ddc20c72c538"
      },
      "id": "P6UYg5GdJGuT",
      "execution_count": null,
      "outputs": [
        {
          "output_type": "execute_result",
          "data": {
            "text/plain": [
              "['queen']"
            ]
          },
          "metadata": {},
          "execution_count": 15
        }
      ]
    },
    {
      "cell_type": "code",
      "source": [
        "analogyV2('man', 'king', 'woman', embeddings_dict50)"
      ],
      "metadata": {
        "colab": {
          "base_uri": "https://localhost:8080/"
        },
        "id": "K9At4Q16JK69",
        "outputId": "3c14fa9c-e42b-48fb-92f2-e16a915007e5"
      },
      "id": "K9At4Q16JK69",
      "execution_count": null,
      "outputs": [
        {
          "output_type": "execute_result",
          "data": {
            "text/plain": [
              "['queen']"
            ]
          },
          "metadata": {},
          "execution_count": 17
        }
      ]
    },
    {
      "cell_type": "markdown",
      "source": [
        "### <font color=\"darkblue\"> **4. Word similarity** </font>\n",
        "\n",
        ">>Created the <font color=\"darkorange\">***getSimilarity***</font> function to calcualte the cosine similarity between word embeddings. We are basically encapsualting the code we used before to create a fucntion that treturns the cosine simialrioty of two vectors</br></br>\n",
        "\n",
        ">>> * The first parameter is *leftE*, refers to the embedding of our first word</br>\n",
        ">>> * The second parameter is *rightE*, refers to the embedding of the second word</br>\n"
      ],
      "metadata": {
        "id": "nqfcZO71tSJ2"
      },
      "id": "nqfcZO71tSJ2"
    },
    {
      "cell_type": "code",
      "source": [
        "def getSimilarity(leftE, rightE):\n",
        "  dotProduct =np.dot(leftE,rightE)\n",
        "  norm1 = np.sqrt(np.sum(leftE**2))\n",
        "  norm2 = np.sqrt(np.sum(rightE**2))\n",
        "  return dotProduct/(norm1)/norm2\n"
      ],
      "metadata": {
        "id": "xa3y3OdnKv99"
      },
      "id": "xa3y3OdnKv99",
      "execution_count": null,
      "outputs": []
    },
    {
      "cell_type": "markdown",
      "source": [
        ">>> * example of cosine similarity between *dog* and *cats* on our embeddings</br>"
      ],
      "metadata": {
        "id": "6RabV62zuQZi"
      },
      "id": "6RabV62zuQZi"
    },
    {
      "cell_type": "code",
      "source": [
        "getSimilarity(embeddings_dict50['dog'],embeddings_dict50['cats'])"
      ],
      "metadata": {
        "colab": {
          "base_uri": "https://localhost:8080/"
        },
        "id": "OVNBrGqxTPhg",
        "outputId": "7ebd54da-06ce-4a78-c098-121f0e48171d"
      },
      "id": "OVNBrGqxTPhg",
      "execution_count": null,
      "outputs": [
        {
          "output_type": "execute_result",
          "data": {
            "text/plain": [
              "0.7299786"
            ]
          },
          "metadata": {},
          "execution_count": 53
        }
      ]
    },
    {
      "cell_type": "markdown",
      "source": [
        "### <font color=\"darkblue\"> **4.1 Finding _N_ Words with most similarity to _X_** </font>\n",
        "\n",
        ">>Created the <font color=\"darkorange\">***find_most_similar***</font> function to get a list of the _n_ number of words that hold the most similarity to a given word.\n",
        "\n",
        ">>> * The first parameter is *leftE*, refers to the word we want to use to find similar words</br>\n",
        ">>> * The second parameter is *embeddings_dict*, references our embedding dictionary</br>\n",
        ">>> * The third parameter is *top_n*, refers to the number of _similar_ words we want to get</br>"
      ],
      "metadata": {
        "id": "tDhmmlYnugg9"
      },
      "id": "tDhmmlYnugg9"
    },
    {
      "cell_type": "code",
      "source": [
        "def find_most_similar(word, embeddings_dict, top_n=10):\n",
        "    # convert word to lower case to prevent any issue\n",
        "    w_embeddings = embeddings_dict[word.lower()]\n",
        "\n",
        "    # create a dictionary to hold our partial values\n",
        "    distanceDict = {}\n",
        "    for w in embeddings_dict.keys(): #for each word on our dictonary\n",
        "        distance = getSimilarity(embeddings_dict[w],w_embeddings) #calcualte the similarity between our given world and the iterating key\n",
        "        distanceDict.update({w:distance}) # add to our similarities dictionary.\n",
        "\n",
        "    return dict(sorted(distanceDict.items(), key=lambda item: item[1], reverse=True)[1:top_n]) # sort our dictionary and return the n greatest matches"
      ],
      "metadata": {
        "id": "_1E7bdgjJbkb"
      },
      "id": "_1E7bdgjJbkb",
      "execution_count": 100,
      "outputs": []
    },
    {
      "cell_type": "code",
      "source": [
        "find_most_similar('dogs', embeddings_dict50)\n"
      ],
      "metadata": {
        "id": "91woC0VmKlbJ",
        "colab": {
          "base_uri": "https://localhost:8080/"
        },
        "outputId": "94b3d61e-4189-4d80-814d-f7f6825df2df"
      },
      "id": "91woC0VmKlbJ",
      "execution_count": 101,
      "outputs": [
        {
          "output_type": "execute_result",
          "data": {
            "text/plain": [
              "{'cats': 0.8516518,\n",
              " 'dog': 0.8513158,\n",
              " 'animals': 0.82346654,\n",
              " 'rats': 0.7897114,\n",
              " 'cat': 0.7795815,\n",
              " 'pigs': 0.77540845,\n",
              " 'animal': 0.75866634,\n",
              " 'stray': 0.7551109,\n",
              " 'horses': 0.753108}"
            ]
          },
          "metadata": {},
          "execution_count": 101
        }
      ]
    },
    {
      "cell_type": "code",
      "source": [
        "find_most_similar('apple', embeddings_dict50)"
      ],
      "metadata": {
        "colab": {
          "base_uri": "https://localhost:8080/"
        },
        "id": "IGcfEYppYpeG",
        "outputId": "0f319c65-32ec-46f7-e1d5-cb1db6f9556f"
      },
      "id": "IGcfEYppYpeG",
      "execution_count": 102,
      "outputs": [
        {
          "output_type": "execute_result",
          "data": {
            "text/plain": [
              "{'blackberry': 0.75430673,\n",
              " 'chips': 0.74386436,\n",
              " 'iphone': 0.74296653,\n",
              " 'microsoft': 0.73342055,\n",
              " 'ipad': 0.7331037,\n",
              " 'pc': 0.72172254,\n",
              " 'ipod': 0.71997845,\n",
              " 'intel': 0.71922445,\n",
              " 'ibm': 0.7146541}"
            ]
          },
          "metadata": {},
          "execution_count": 102
        }
      ]
    },
    {
      "cell_type": "markdown",
      "source": [
        "### <font color=\"darkblue\"> **4. Similarities-comparison** </font>\n",
        "\n",
        ">>Created the <font color=\"darkorange\">***find_most_similarV2***</font> function to find if our results match the ones obtained if we use the spatial.distance.euclidean exisitng method instead of our own calcualtions.</br></br>\n",
        ">> The words are the top tend to be consistent but some other are different, this is explained as the cosine similarity is different than the distance between vectors"
      ],
      "metadata": {
        "id": "BZIa5w-1vxmT"
      },
      "id": "BZIa5w-1vxmT"
    },
    {
      "cell_type": "code",
      "execution_count": 106,
      "id": "bb50e0f7",
      "metadata": {
        "id": "bb50e0f7"
      },
      "outputs": [],
      "source": [
        "# most similar\n",
        "def find_most_similarV2(word, embeddings_dict, top_n=10):\n",
        "    return sorted(embeddings_dict.keys(), key=lambda w: spatial.distance.euclidean(embeddings_dict[w],embeddings_dict[word]))[1:top_n+1]\n"
      ]
    },
    {
      "cell_type": "code",
      "execution_count": 108,
      "id": "7946d712",
      "metadata": {
        "colab": {
          "base_uri": "https://localhost:8080/"
        },
        "id": "7946d712",
        "outputId": "f0f07a69-ac7c-4665-b2c5-16cf087eac65"
      },
      "outputs": [
        {
          "output_type": "stream",
          "name": "stdout",
          "text": [
            "['cats', 'dog', 'cat', 'rats', 'stray', 'animals', 'pigs', 'pets', 'animal', 'spotted']\n"
          ]
        }
      ],
      "source": [
        "print(find_most_similarV2('dogs', embeddings_dict50))"
      ]
    },
    {
      "cell_type": "code",
      "source": [
        "print(find_most_similarV2('apple', embeddings_dict50))"
      ],
      "metadata": {
        "colab": {
          "base_uri": "https://localhost:8080/"
        },
        "id": "MyN5qB-B5bWG",
        "outputId": "eba40462-adb4-44ed-eff1-a41f29f46bee"
      },
      "id": "MyN5qB-B5bWG",
      "execution_count": 107,
      "outputs": [
        {
          "output_type": "stream",
          "name": "stdout",
          "text": [
            "['blackberry', 'ipad', 'pc', 'iphone', 'chips', 'coke', 'ipod', 'dell', 'sells', 'cola']\n"
          ]
        }
      ]
    },
    {
      "cell_type": "code",
      "source": [],
      "metadata": {
        "id": "2mxMXznaT6Gv"
      },
      "id": "2mxMXznaT6Gv",
      "execution_count": null,
      "outputs": []
    }
  ],
  "metadata": {
    "kernelspec": {
      "display_name": "Python 3 (ipykernel)",
      "language": "python",
      "name": "python3"
    },
    "language_info": {
      "codemirror_mode": {
        "name": "ipython",
        "version": 3
      },
      "file_extension": ".py",
      "mimetype": "text/x-python",
      "name": "python",
      "nbconvert_exporter": "python",
      "pygments_lexer": "ipython3",
      "version": "3.9.0"
    },
    "varInspector": {
      "cols": {
        "lenName": 16,
        "lenType": 16,
        "lenVar": 40
      },
      "kernels_config": {
        "python": {
          "delete_cmd_postfix": "",
          "delete_cmd_prefix": "del ",
          "library": "var_list.py",
          "varRefreshCmd": "print(var_dic_list())"
        },
        "r": {
          "delete_cmd_postfix": ") ",
          "delete_cmd_prefix": "rm(",
          "library": "var_list.r",
          "varRefreshCmd": "cat(var_dic_list()) "
        }
      },
      "types_to_exclude": [
        "module",
        "function",
        "builtin_function_or_method",
        "instance",
        "_Feature"
      ],
      "window_display": false
    },
    "colab": {
      "provenance": [],
      "include_colab_link": true
    }
  },
  "nbformat": 4,
  "nbformat_minor": 5
}